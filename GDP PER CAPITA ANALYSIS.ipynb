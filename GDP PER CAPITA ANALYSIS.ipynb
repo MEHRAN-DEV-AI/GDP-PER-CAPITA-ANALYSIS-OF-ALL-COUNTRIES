{
 "cells": [
  {
   "cell_type": "code",
   "execution_count": 1,
   "id": "2788dfb2-08c7-4735-9021-f97e5b0304a8",
   "metadata": {},
   "outputs": [],
   "source": [
    "import pandas as pd\n",
    "import plotly.express as px\n",
    "import plotly.graph_objects as go\n",
    "from IPython.display import display\n",
    "from ipywidgets import interact, widgets"
   ]
  },
  {
   "cell_type": "code",
   "execution_count": 2,
   "id": "223617e6-da8b-4ce9-9c21-a2d9aa424ba5",
   "metadata": {},
   "outputs": [
    {
     "data": {
      "text/html": [
       "<div>\n",
       "<style scoped>\n",
       "    .dataframe tbody tr th:only-of-type {\n",
       "        vertical-align: middle;\n",
       "    }\n",
       "\n",
       "    .dataframe tbody tr th {\n",
       "        vertical-align: top;\n",
       "    }\n",
       "\n",
       "    .dataframe thead th {\n",
       "        text-align: right;\n",
       "    }\n",
       "</style>\n",
       "<table border=\"1\" class=\"dataframe\">\n",
       "  <thead>\n",
       "    <tr style=\"text-align: right;\">\n",
       "      <th></th>\n",
       "      <th>Country</th>\n",
       "      <th>1970</th>\n",
       "      <th>1971</th>\n",
       "      <th>1972</th>\n",
       "      <th>1973</th>\n",
       "      <th>1974</th>\n",
       "      <th>1975</th>\n",
       "      <th>1976</th>\n",
       "      <th>1977</th>\n",
       "      <th>1978</th>\n",
       "      <th>...</th>\n",
       "      <th>2013</th>\n",
       "      <th>2014</th>\n",
       "      <th>2015</th>\n",
       "      <th>2016</th>\n",
       "      <th>2017</th>\n",
       "      <th>2018</th>\n",
       "      <th>2019</th>\n",
       "      <th>2020</th>\n",
       "      <th>2021</th>\n",
       "      <th>2022</th>\n",
       "    </tr>\n",
       "  </thead>\n",
       "  <tbody>\n",
       "    <tr>\n",
       "      <th>0</th>\n",
       "      <td>Afghanistan</td>\n",
       "      <td>162.642176</td>\n",
       "      <td>166.224832</td>\n",
       "      <td>141.365323</td>\n",
       "      <td>149.744069</td>\n",
       "      <td>181.598776</td>\n",
       "      <td>194.669036</td>\n",
       "      <td>205.674097</td>\n",
       "      <td>232.778698</td>\n",
       "      <td>255.045622</td>\n",
       "      <td>...</td>\n",
       "      <td>631.060444</td>\n",
       "      <td>596.048898</td>\n",
       "      <td>554.004007</td>\n",
       "      <td>526.164709</td>\n",
       "      <td>534.020133</td>\n",
       "      <td>513.981256</td>\n",
       "      <td>512.910125</td>\n",
       "      <td>512.749930</td>\n",
       "      <td>378.082892</td>\n",
       "      <td>344.649112</td>\n",
       "    </tr>\n",
       "    <tr>\n",
       "      <th>1</th>\n",
       "      <td>Albania</td>\n",
       "      <td>974.554499</td>\n",
       "      <td>975.216820</td>\n",
       "      <td>976.521166</td>\n",
       "      <td>978.617771</td>\n",
       "      <td>981.265874</td>\n",
       "      <td>984.901966</td>\n",
       "      <td>989.749878</td>\n",
       "      <td>994.937066</td>\n",
       "      <td>1003.163054</td>\n",
       "      <td>...</td>\n",
       "      <td>4425.430822</td>\n",
       "      <td>4586.606188</td>\n",
       "      <td>3950.390255</td>\n",
       "      <td>4117.006970</td>\n",
       "      <td>4521.752217</td>\n",
       "      <td>5268.116608</td>\n",
       "      <td>5359.239078</td>\n",
       "      <td>5288.989573</td>\n",
       "      <td>6281.046775</td>\n",
       "      <td>6655.258391</td>\n",
       "    </tr>\n",
       "    <tr>\n",
       "      <th>2</th>\n",
       "      <td>Algeria</td>\n",
       "      <td>373.670080</td>\n",
       "      <td>380.125666</td>\n",
       "      <td>496.991248</td>\n",
       "      <td>624.193795</td>\n",
       "      <td>875.023948</td>\n",
       "      <td>989.243356</td>\n",
       "      <td>1075.725904</td>\n",
       "      <td>1225.090692</td>\n",
       "      <td>1495.734837</td>\n",
       "      <td>...</td>\n",
       "      <td>5519.777576</td>\n",
       "      <td>5516.229431</td>\n",
       "      <td>4197.417286</td>\n",
       "      <td>3967.200546</td>\n",
       "      <td>4134.936055</td>\n",
       "      <td>4171.795392</td>\n",
       "      <td>4021.983602</td>\n",
       "      <td>3354.157303</td>\n",
       "      <td>3700.320562</td>\n",
       "      <td>4273.922183</td>\n",
       "    </tr>\n",
       "    <tr>\n",
       "      <th>3</th>\n",
       "      <td>Andorra</td>\n",
       "      <td>5008.901637</td>\n",
       "      <td>5305.716707</td>\n",
       "      <td>6285.301526</td>\n",
       "      <td>7824.531307</td>\n",
       "      <td>9078.009005</td>\n",
       "      <td>10076.494830</td>\n",
       "      <td>9817.312977</td>\n",
       "      <td>10384.507960</td>\n",
       "      <td>11964.939170</td>\n",
       "      <td>...</td>\n",
       "      <td>44735.004770</td>\n",
       "      <td>45619.782550</td>\n",
       "      <td>38869.870780</td>\n",
       "      <td>39904.138180</td>\n",
       "      <td>40632.206420</td>\n",
       "      <td>42904.822580</td>\n",
       "      <td>41328.634080</td>\n",
       "      <td>37207.175640</td>\n",
       "      <td>42065.970760</td>\n",
       "      <td>42293.297080</td>\n",
       "    </tr>\n",
       "    <tr>\n",
       "      <th>4</th>\n",
       "      <td>Angola</td>\n",
       "      <td>631.514939</td>\n",
       "      <td>648.910896</td>\n",
       "      <td>644.659613</td>\n",
       "      <td>762.730111</td>\n",
       "      <td>827.378464</td>\n",
       "      <td>589.868220</td>\n",
       "      <td>547.946934</td>\n",
       "      <td>578.443953</td>\n",
       "      <td>623.627939</td>\n",
       "      <td>...</td>\n",
       "      <td>5228.511165</td>\n",
       "      <td>5371.216648</td>\n",
       "      <td>4130.930080</td>\n",
       "      <td>3468.520268</td>\n",
       "      <td>4042.681382</td>\n",
       "      <td>3240.862207</td>\n",
       "      <td>2569.629757</td>\n",
       "      <td>1639.951023</td>\n",
       "      <td>2026.030952</td>\n",
       "      <td>3183.699796</td>\n",
       "    </tr>\n",
       "  </tbody>\n",
       "</table>\n",
       "<p>5 rows × 54 columns</p>\n",
       "</div>"
      ],
      "text/plain": [
       "       Country         1970         1971         1972         1973  \\\n",
       "0  Afghanistan   162.642176   166.224832   141.365323   149.744069   \n",
       "1      Albania   974.554499   975.216820   976.521166   978.617771   \n",
       "2      Algeria   373.670080   380.125666   496.991248   624.193795   \n",
       "3      Andorra  5008.901637  5305.716707  6285.301526  7824.531307   \n",
       "4       Angola   631.514939   648.910896   644.659613   762.730111   \n",
       "\n",
       "          1974          1975         1976          1977          1978  ...  \\\n",
       "0   181.598776    194.669036   205.674097    232.778698    255.045622  ...   \n",
       "1   981.265874    984.901966   989.749878    994.937066   1003.163054  ...   \n",
       "2   875.023948    989.243356  1075.725904   1225.090692   1495.734837  ...   \n",
       "3  9078.009005  10076.494830  9817.312977  10384.507960  11964.939170  ...   \n",
       "4   827.378464    589.868220   547.946934    578.443953    623.627939  ...   \n",
       "\n",
       "           2013          2014          2015          2016          2017  \\\n",
       "0    631.060444    596.048898    554.004007    526.164709    534.020133   \n",
       "1   4425.430822   4586.606188   3950.390255   4117.006970   4521.752217   \n",
       "2   5519.777576   5516.229431   4197.417286   3967.200546   4134.936055   \n",
       "3  44735.004770  45619.782550  38869.870780  39904.138180  40632.206420   \n",
       "4   5228.511165   5371.216648   4130.930080   3468.520268   4042.681382   \n",
       "\n",
       "           2018          2019          2020          2021          2022  \n",
       "0    513.981256    512.910125    512.749930    378.082892    344.649112  \n",
       "1   5268.116608   5359.239078   5288.989573   6281.046775   6655.258391  \n",
       "2   4171.795392   4021.983602   3354.157303   3700.320562   4273.922183  \n",
       "3  42904.822580  41328.634080  37207.175640  42065.970760  42293.297080  \n",
       "4   3240.862207   2569.629757   1639.951023   2026.030952   3183.699796  \n",
       "\n",
       "[5 rows x 54 columns]"
      ]
     },
     "execution_count": 2,
     "metadata": {},
     "output_type": "execute_result"
    }
   ],
   "source": [
    "df = pd.read_csv('PER CAPITA GDP OF ALL COUNTRIES(1970 TO 2022)..csv')\n",
    "df.head()\n"
   ]
  },
  {
   "cell_type": "code",
   "execution_count": 3,
   "id": "d05ee25d-5d7a-4e59-8e3b-a7d8342845ba",
   "metadata": {},
   "outputs": [
    {
     "name": "stdout",
     "output_type": "stream",
     "text": [
      "<class 'pandas.core.frame.DataFrame'>\n",
      "RangeIndex: 177 entries, 0 to 176\n",
      "Data columns (total 54 columns):\n",
      " #   Column   Non-Null Count  Dtype  \n",
      "---  ------   --------------  -----  \n",
      " 0   Country  177 non-null    object \n",
      " 1   1970     177 non-null    float64\n",
      " 2   1971     177 non-null    float64\n",
      " 3   1972     177 non-null    float64\n",
      " 4   1973     177 non-null    float64\n",
      " 5   1974     177 non-null    float64\n",
      " 6   1975     177 non-null    float64\n",
      " 7   1976     177 non-null    float64\n",
      " 8   1977     177 non-null    float64\n",
      " 9   1978     177 non-null    float64\n",
      " 10  1979     177 non-null    float64\n",
      " 11  1980     177 non-null    float64\n",
      " 12  1981     177 non-null    float64\n",
      " 13  1982     177 non-null    float64\n",
      " 14  1983     177 non-null    float64\n",
      " 15  1984     177 non-null    float64\n",
      " 16  1985     177 non-null    float64\n",
      " 17  1986     177 non-null    float64\n",
      " 18  1987     177 non-null    float64\n",
      " 19  1988     177 non-null    float64\n",
      " 20  1989     177 non-null    float64\n",
      " 21  1990     177 non-null    float64\n",
      " 22  1991     177 non-null    float64\n",
      " 23  1992     177 non-null    float64\n",
      " 24  1993     177 non-null    float64\n",
      " 25  1994     177 non-null    float64\n",
      " 26  1995     177 non-null    float64\n",
      " 27  1996     177 non-null    float64\n",
      " 28  1997     177 non-null    float64\n",
      " 29  1998     177 non-null    float64\n",
      " 30  1999     177 non-null    float64\n",
      " 31  2000     177 non-null    float64\n",
      " 32  2001     177 non-null    float64\n",
      " 33  2002     177 non-null    float64\n",
      " 34  2003     177 non-null    float64\n",
      " 35  2004     177 non-null    float64\n",
      " 36  2005     177 non-null    float64\n",
      " 37  2006     177 non-null    float64\n",
      " 38  2007     177 non-null    float64\n",
      " 39  2008     177 non-null    float64\n",
      " 40  2009     177 non-null    float64\n",
      " 41  2010     177 non-null    float64\n",
      " 42  2011     177 non-null    float64\n",
      " 43  2012     177 non-null    float64\n",
      " 44  2013     177 non-null    float64\n",
      " 45  2014     177 non-null    float64\n",
      " 46  2015     177 non-null    float64\n",
      " 47  2016     177 non-null    float64\n",
      " 48  2017     177 non-null    float64\n",
      " 49  2018     177 non-null    float64\n",
      " 50  2019     177 non-null    float64\n",
      " 51  2020     177 non-null    float64\n",
      " 52  2021     177 non-null    float64\n",
      " 53  2022     177 non-null    float64\n",
      "dtypes: float64(53), object(1)\n",
      "memory usage: 74.8+ KB\n"
     ]
    }
   ],
   "source": [
    "df.info()"
   ]
  },
  {
   "cell_type": "code",
   "execution_count": 4,
   "id": "87d9fd6e-783a-43ce-a067-ec6874221d36",
   "metadata": {},
   "outputs": [
    {
     "data": {
      "text/html": [
       "<div>\n",
       "<style scoped>\n",
       "    .dataframe tbody tr th:only-of-type {\n",
       "        vertical-align: middle;\n",
       "    }\n",
       "\n",
       "    .dataframe tbody tr th {\n",
       "        vertical-align: top;\n",
       "    }\n",
       "\n",
       "    .dataframe thead th {\n",
       "        text-align: right;\n",
       "    }\n",
       "</style>\n",
       "<table border=\"1\" class=\"dataframe\">\n",
       "  <thead>\n",
       "    <tr style=\"text-align: right;\">\n",
       "      <th></th>\n",
       "      <th>1970</th>\n",
       "      <th>1971</th>\n",
       "      <th>1972</th>\n",
       "      <th>1973</th>\n",
       "      <th>1974</th>\n",
       "      <th>1975</th>\n",
       "      <th>1976</th>\n",
       "      <th>1977</th>\n",
       "      <th>1978</th>\n",
       "      <th>1979</th>\n",
       "      <th>...</th>\n",
       "      <th>2013</th>\n",
       "      <th>2014</th>\n",
       "      <th>2015</th>\n",
       "      <th>2016</th>\n",
       "      <th>2017</th>\n",
       "      <th>2018</th>\n",
       "      <th>2019</th>\n",
       "      <th>2020</th>\n",
       "      <th>2021</th>\n",
       "      <th>2022</th>\n",
       "    </tr>\n",
       "  </thead>\n",
       "  <tbody>\n",
       "    <tr>\n",
       "      <th>count</th>\n",
       "      <td>177</td>\n",
       "      <td>177</td>\n",
       "      <td>177</td>\n",
       "      <td>177</td>\n",
       "      <td>177</td>\n",
       "      <td>177</td>\n",
       "      <td>177</td>\n",
       "      <td>177</td>\n",
       "      <td>177</td>\n",
       "      <td>177</td>\n",
       "      <td>...</td>\n",
       "      <td>177</td>\n",
       "      <td>177</td>\n",
       "      <td>177</td>\n",
       "      <td>177</td>\n",
       "      <td>177</td>\n",
       "      <td>177</td>\n",
       "      <td>177</td>\n",
       "      <td>177</td>\n",
       "      <td>177</td>\n",
       "      <td>177</td>\n",
       "    </tr>\n",
       "    <tr>\n",
       "      <th>mean</th>\n",
       "      <td>878</td>\n",
       "      <td>966</td>\n",
       "      <td>1109</td>\n",
       "      <td>1365</td>\n",
       "      <td>1645</td>\n",
       "      <td>1795</td>\n",
       "      <td>1916</td>\n",
       "      <td>2115</td>\n",
       "      <td>2421</td>\n",
       "      <td>2836</td>\n",
       "      <td>...</td>\n",
       "      <td>14574</td>\n",
       "      <td>14844</td>\n",
       "      <td>13587</td>\n",
       "      <td>13797</td>\n",
       "      <td>14516</td>\n",
       "      <td>15328</td>\n",
       "      <td>15210</td>\n",
       "      <td>14012</td>\n",
       "      <td>15767</td>\n",
       "      <td>16201</td>\n",
       "    </tr>\n",
       "    <tr>\n",
       "      <th>std</th>\n",
       "      <td>1087</td>\n",
       "      <td>1199</td>\n",
       "      <td>1392</td>\n",
       "      <td>1727</td>\n",
       "      <td>2036</td>\n",
       "      <td>2255</td>\n",
       "      <td>2447</td>\n",
       "      <td>2687</td>\n",
       "      <td>3151</td>\n",
       "      <td>3711</td>\n",
       "      <td>...</td>\n",
       "      <td>17835</td>\n",
       "      <td>18200</td>\n",
       "      <td>16413</td>\n",
       "      <td>16792</td>\n",
       "      <td>17716</td>\n",
       "      <td>18818</td>\n",
       "      <td>18555</td>\n",
       "      <td>17579</td>\n",
       "      <td>20009</td>\n",
       "      <td>20055</td>\n",
       "    </tr>\n",
       "    <tr>\n",
       "      <th>min</th>\n",
       "      <td>44</td>\n",
       "      <td>47</td>\n",
       "      <td>50</td>\n",
       "      <td>56</td>\n",
       "      <td>62</td>\n",
       "      <td>71</td>\n",
       "      <td>75</td>\n",
       "      <td>77</td>\n",
       "      <td>82</td>\n",
       "      <td>85</td>\n",
       "      <td>...</td>\n",
       "      <td>241</td>\n",
       "      <td>257</td>\n",
       "      <td>262</td>\n",
       "      <td>268</td>\n",
       "      <td>295</td>\n",
       "      <td>288</td>\n",
       "      <td>283</td>\n",
       "      <td>282</td>\n",
       "      <td>298</td>\n",
       "      <td>312</td>\n",
       "    </tr>\n",
       "    <tr>\n",
       "      <th>25%</th>\n",
       "      <td>206</td>\n",
       "      <td>225</td>\n",
       "      <td>253</td>\n",
       "      <td>290</td>\n",
       "      <td>367</td>\n",
       "      <td>387</td>\n",
       "      <td>390</td>\n",
       "      <td>466</td>\n",
       "      <td>530</td>\n",
       "      <td>576</td>\n",
       "      <td>...</td>\n",
       "      <td>2064</td>\n",
       "      <td>2011</td>\n",
       "      <td>2120</td>\n",
       "      <td>2107</td>\n",
       "      <td>2113</td>\n",
       "      <td>2295</td>\n",
       "      <td>2334</td>\n",
       "      <td>2179</td>\n",
       "      <td>2422</td>\n",
       "      <td>2445</td>\n",
       "    </tr>\n",
       "    <tr>\n",
       "      <th>50%</th>\n",
       "      <td>430</td>\n",
       "      <td>459</td>\n",
       "      <td>514</td>\n",
       "      <td>645</td>\n",
       "      <td>806</td>\n",
       "      <td>830</td>\n",
       "      <td>874</td>\n",
       "      <td>942</td>\n",
       "      <td>1047</td>\n",
       "      <td>1223</td>\n",
       "      <td>...</td>\n",
       "      <td>6814</td>\n",
       "      <td>6844</td>\n",
       "      <td>6200</td>\n",
       "      <td>6099</td>\n",
       "      <td>6676</td>\n",
       "      <td>6912</td>\n",
       "      <td>6702</td>\n",
       "      <td>6063</td>\n",
       "      <td>6565</td>\n",
       "      <td>6908</td>\n",
       "    </tr>\n",
       "    <tr>\n",
       "      <th>75%</th>\n",
       "      <td>943</td>\n",
       "      <td>1057</td>\n",
       "      <td>1207</td>\n",
       "      <td>1440</td>\n",
       "      <td>1817</td>\n",
       "      <td>1996</td>\n",
       "      <td>2080</td>\n",
       "      <td>2337</td>\n",
       "      <td>2818</td>\n",
       "      <td>3191</td>\n",
       "      <td>...</td>\n",
       "      <td>19115</td>\n",
       "      <td>19389</td>\n",
       "      <td>17510</td>\n",
       "      <td>17654</td>\n",
       "      <td>18470</td>\n",
       "      <td>19556</td>\n",
       "      <td>19378</td>\n",
       "      <td>17893</td>\n",
       "      <td>20454</td>\n",
       "      <td>21213</td>\n",
       "    </tr>\n",
       "    <tr>\n",
       "      <th>max</th>\n",
       "      <td>5357</td>\n",
       "      <td>5740</td>\n",
       "      <td>6285</td>\n",
       "      <td>7855</td>\n",
       "      <td>9078</td>\n",
       "      <td>10328</td>\n",
       "      <td>10865</td>\n",
       "      <td>11644</td>\n",
       "      <td>16282</td>\n",
       "      <td>18265</td>\n",
       "      <td>...</td>\n",
       "      <td>87314</td>\n",
       "      <td>90873</td>\n",
       "      <td>83813</td>\n",
       "      <td>82157</td>\n",
       "      <td>82255</td>\n",
       "      <td>85216</td>\n",
       "      <td>84113</td>\n",
       "      <td>86655</td>\n",
       "      <td>102955</td>\n",
       "      <td>105993</td>\n",
       "    </tr>\n",
       "  </tbody>\n",
       "</table>\n",
       "<p>8 rows × 53 columns</p>\n",
       "</div>"
      ],
      "text/plain": [
       "       1970  1971  1972  1973  1974   1975   1976   1977   1978   1979  ...  \\\n",
       "count   177   177   177   177   177    177    177    177    177    177  ...   \n",
       "mean    878   966  1109  1365  1645   1795   1916   2115   2421   2836  ...   \n",
       "std    1087  1199  1392  1727  2036   2255   2447   2687   3151   3711  ...   \n",
       "min      44    47    50    56    62     71     75     77     82     85  ...   \n",
       "25%     206   225   253   290   367    387    390    466    530    576  ...   \n",
       "50%     430   459   514   645   806    830    874    942   1047   1223  ...   \n",
       "75%     943  1057  1207  1440  1817   1996   2080   2337   2818   3191  ...   \n",
       "max    5357  5740  6285  7855  9078  10328  10865  11644  16282  18265  ...   \n",
       "\n",
       "        2013   2014   2015   2016   2017   2018   2019   2020    2021    2022  \n",
       "count    177    177    177    177    177    177    177    177     177     177  \n",
       "mean   14574  14844  13587  13797  14516  15328  15210  14012   15767   16201  \n",
       "std    17835  18200  16413  16792  17716  18818  18555  17579   20009   20055  \n",
       "min      241    257    262    268    295    288    283    282     298     312  \n",
       "25%     2064   2011   2120   2107   2113   2295   2334   2179    2422    2445  \n",
       "50%     6814   6844   6200   6099   6676   6912   6702   6063    6565    6908  \n",
       "75%    19115  19389  17510  17654  18470  19556  19378  17893   20454   21213  \n",
       "max    87314  90873  83813  82157  82255  85216  84113  86655  102955  105993  \n",
       "\n",
       "[8 rows x 53 columns]"
      ]
     },
     "execution_count": 4,
     "metadata": {},
     "output_type": "execute_result"
    }
   ],
   "source": [
    "df.describe().astype(int)"
   ]
  },
  {
   "cell_type": "markdown",
   "id": "6eab755b-aad0-4eb2-ad7d-4bee3cec841b",
   "metadata": {},
   "source": [
    "# TREND ANALYSIS......\n",
    "\n",
    "## INDIVIDUAL COUNTRY ANALYSIS.........."
   ]
  },
  {
   "cell_type": "code",
   "execution_count": 5,
   "id": "3bae854f-1643-4dfe-9e3a-e15ca36c68b1",
   "metadata": {},
   "outputs": [
    {
     "data": {
      "application/vnd.jupyter.widget-view+json": {
       "model_id": "9de66d690792417791314bdab174dbc9",
       "version_major": 2,
       "version_minor": 0
      },
      "text/plain": [
       "interactive(children=(Dropdown(description='Select Country:', options=('Afghanistan', 'Albania', 'Algeria', 'A…"
      ]
     },
     "execution_count": 5,
     "metadata": {},
     "output_type": "execute_result"
    }
   ],
   "source": [
    "# Melt the DataFrame\n",
    "df_melted = df.melt(id_vars=['Country'], var_name='Year', value_name='GDP per Capita')\n",
    "\n",
    "# Convert 'Year' to numeric, coerce errors to NaN and then drop NaN values\n",
    "df_melted['Year'] = pd.to_numeric(df_melted['Year'], errors='coerce')\n",
    "df_melted = df_melted.dropna(subset=['Year'])\n",
    "\n",
    "# Convert 'Year' back to integer if needed\n",
    "df_melted['Year'] = df_melted['Year'].astype(int)\n",
    "\n",
    "# Function to create the interactive chart\n",
    "def plot_gdp_chart(selected_country):\n",
    "    filtered_df = df_melted[df_melted['Country'] == selected_country]\n",
    "    \n",
    "    # Create the figure\n",
    "    fig = go.Figure()\n",
    "    \n",
    "    # Add trace for GDP per capita\n",
    "    fig.add_trace(go.Scatter(\n",
    "        x=filtered_df['Year'],\n",
    "        y=filtered_df['GDP per Capita'],\n",
    "        mode='lines+markers',\n",
    "        name=selected_country\n",
    "    ))\n",
    "    \n",
    "    # Update layout\n",
    "    fig.update_layout(\n",
    "        title=f'GDP per Capita of {selected_country} Over Time',\n",
    "        xaxis_title='Year',\n",
    "        yaxis_title='GDP per Capita',\n",
    "        hovermode='x unified',\n",
    "        plot_bgcolor='#1f1f1f',  # Dark background for plot\n",
    "        paper_bgcolor='#1f1f1f',# Dark background for paper\n",
    "        height = 450 ,\n",
    "        font=dict(color='white')  # White font color for the graph\n",
    "    )\n",
    "    \n",
    "    # Display the figure\n",
    "    display(fig)\n",
    "\n",
    "# Create interactive dropdown\n",
    "country_dropdown = widgets.Dropdown(\n",
    "    options=df['Country'].unique(),\n",
    "    value=df['Country'].unique()[0],\n",
    "    description='Select Country:',\n",
    "    style={'description_width': 'initial'}\n",
    ")\n",
    "\n",
    "# Link dropdown to the plotting function\n",
    "widgets.interactive(plot_gdp_chart, selected_country=country_dropdown)"
   ]
  },
  {
   "cell_type": "markdown",
   "id": "a6d901e7-c97e-44c2-9a20-fa8e887538b3",
   "metadata": {},
   "source": [
    "# GLOBAL AVAERAGE GDP PER CAPITA ANALYSIS OVER TIME"
   ]
  },
  {
   "cell_type": "code",
   "execution_count": 6,
   "id": "44704843-e25d-4743-a78b-e6988cdb3b71",
   "metadata": {},
   "outputs": [
    {
     "data": {
      "application/vnd.plotly.v1+json": {
       "config": {
        "plotlyServerURL": "https://plot.ly"
       },
       "data": [
        {
         "mode": "lines+markers",
         "name": "Global Average",
         "type": "scatter",
         "x": [
          1970,
          1971,
          1972,
          1973,
          1974,
          1975,
          1976,
          1977,
          1978,
          1979,
          1980,
          1981,
          1982,
          1983,
          1984,
          1985,
          1986,
          1987,
          1988,
          1989,
          1990,
          1991,
          1992,
          1993,
          1994,
          1995,
          1996,
          1997,
          1998,
          1999,
          2000,
          2001,
          2002,
          2003,
          2004,
          2005,
          2006,
          2007,
          2008,
          2009,
          2010,
          2011,
          2012,
          2013,
          2014,
          2015,
          2016,
          2017,
          2018,
          2019,
          2020,
          2021,
          2022
         ],
         "y": [
          878.8586439172317,
          966.0935037904519,
          1109.225344140565,
          1365.2395343376836,
          1645.0412276372883,
          1795.4846096554802,
          1916.8717653188137,
          2115.7866153088703,
          2421.890958274181,
          2836.692902300791,
          3244.1340046120336,
          3190.042797191073,
          3117.471721998644,
          3060.3766893344064,
          3041.1393259853107,
          3048.61662504226,
          3573.629552593729,
          4120.93513281644,
          4566.030825821865,
          4708.1957372762145,
          5372.673692858023,
          5683.163370976837,
          6025.107799715254,
          5849.550851549718,
          6295.84023425034,
          7039.954393323446,
          7249.820963276836,
          7128.949428762147,
          7161.053451522033,
          7321.71574409548,
          7258.702235290395,
          7234.352448819774,
          7542.802201280509,
          8621.212311221863,
          9761.328812627515,
          10505.266293785875,
          11292.443649962712,
          12771.885126716948,
          13751.925350768362,
          12490.52556179887,
          13102.923128784745,
          14344.28284131808,
          14199.444364060453,
          14574.920416829378,
          14844.995798899434,
          13587.135291805085,
          13797.48848420226,
          14516.888534631638,
          15328.178113351412,
          15210.010422711866,
          14012.366252231637,
          15767.021344112994,
          16201.173632066102
         ]
        }
       ],
       "layout": {
        "autosize": true,
        "font": {
         "color": "white"
        },
        "paper_bgcolor": "#1f1f1f",
        "plot_bgcolor": "#1f1f1f",
        "template": {
         "data": {
          "bar": [
           {
            "error_x": {
             "color": "#2a3f5f"
            },
            "error_y": {
             "color": "#2a3f5f"
            },
            "marker": {
             "line": {
              "color": "#E5ECF6",
              "width": 0.5
             },
             "pattern": {
              "fillmode": "overlay",
              "size": 10,
              "solidity": 0.2
             }
            },
            "type": "bar"
           }
          ],
          "barpolar": [
           {
            "marker": {
             "line": {
              "color": "#E5ECF6",
              "width": 0.5
             },
             "pattern": {
              "fillmode": "overlay",
              "size": 10,
              "solidity": 0.2
             }
            },
            "type": "barpolar"
           }
          ],
          "carpet": [
           {
            "aaxis": {
             "endlinecolor": "#2a3f5f",
             "gridcolor": "white",
             "linecolor": "white",
             "minorgridcolor": "white",
             "startlinecolor": "#2a3f5f"
            },
            "baxis": {
             "endlinecolor": "#2a3f5f",
             "gridcolor": "white",
             "linecolor": "white",
             "minorgridcolor": "white",
             "startlinecolor": "#2a3f5f"
            },
            "type": "carpet"
           }
          ],
          "choropleth": [
           {
            "colorbar": {
             "outlinewidth": 0,
             "ticks": ""
            },
            "type": "choropleth"
           }
          ],
          "contour": [
           {
            "colorbar": {
             "outlinewidth": 0,
             "ticks": ""
            },
            "colorscale": [
             [
              0,
              "#0d0887"
             ],
             [
              0.1111111111111111,
              "#46039f"
             ],
             [
              0.2222222222222222,
              "#7201a8"
             ],
             [
              0.3333333333333333,
              "#9c179e"
             ],
             [
              0.4444444444444444,
              "#bd3786"
             ],
             [
              0.5555555555555556,
              "#d8576b"
             ],
             [
              0.6666666666666666,
              "#ed7953"
             ],
             [
              0.7777777777777778,
              "#fb9f3a"
             ],
             [
              0.8888888888888888,
              "#fdca26"
             ],
             [
              1,
              "#f0f921"
             ]
            ],
            "type": "contour"
           }
          ],
          "contourcarpet": [
           {
            "colorbar": {
             "outlinewidth": 0,
             "ticks": ""
            },
            "type": "contourcarpet"
           }
          ],
          "heatmap": [
           {
            "colorbar": {
             "outlinewidth": 0,
             "ticks": ""
            },
            "colorscale": [
             [
              0,
              "#0d0887"
             ],
             [
              0.1111111111111111,
              "#46039f"
             ],
             [
              0.2222222222222222,
              "#7201a8"
             ],
             [
              0.3333333333333333,
              "#9c179e"
             ],
             [
              0.4444444444444444,
              "#bd3786"
             ],
             [
              0.5555555555555556,
              "#d8576b"
             ],
             [
              0.6666666666666666,
              "#ed7953"
             ],
             [
              0.7777777777777778,
              "#fb9f3a"
             ],
             [
              0.8888888888888888,
              "#fdca26"
             ],
             [
              1,
              "#f0f921"
             ]
            ],
            "type": "heatmap"
           }
          ],
          "heatmapgl": [
           {
            "colorbar": {
             "outlinewidth": 0,
             "ticks": ""
            },
            "colorscale": [
             [
              0,
              "#0d0887"
             ],
             [
              0.1111111111111111,
              "#46039f"
             ],
             [
              0.2222222222222222,
              "#7201a8"
             ],
             [
              0.3333333333333333,
              "#9c179e"
             ],
             [
              0.4444444444444444,
              "#bd3786"
             ],
             [
              0.5555555555555556,
              "#d8576b"
             ],
             [
              0.6666666666666666,
              "#ed7953"
             ],
             [
              0.7777777777777778,
              "#fb9f3a"
             ],
             [
              0.8888888888888888,
              "#fdca26"
             ],
             [
              1,
              "#f0f921"
             ]
            ],
            "type": "heatmapgl"
           }
          ],
          "histogram": [
           {
            "marker": {
             "pattern": {
              "fillmode": "overlay",
              "size": 10,
              "solidity": 0.2
             }
            },
            "type": "histogram"
           }
          ],
          "histogram2d": [
           {
            "colorbar": {
             "outlinewidth": 0,
             "ticks": ""
            },
            "colorscale": [
             [
              0,
              "#0d0887"
             ],
             [
              0.1111111111111111,
              "#46039f"
             ],
             [
              0.2222222222222222,
              "#7201a8"
             ],
             [
              0.3333333333333333,
              "#9c179e"
             ],
             [
              0.4444444444444444,
              "#bd3786"
             ],
             [
              0.5555555555555556,
              "#d8576b"
             ],
             [
              0.6666666666666666,
              "#ed7953"
             ],
             [
              0.7777777777777778,
              "#fb9f3a"
             ],
             [
              0.8888888888888888,
              "#fdca26"
             ],
             [
              1,
              "#f0f921"
             ]
            ],
            "type": "histogram2d"
           }
          ],
          "histogram2dcontour": [
           {
            "colorbar": {
             "outlinewidth": 0,
             "ticks": ""
            },
            "colorscale": [
             [
              0,
              "#0d0887"
             ],
             [
              0.1111111111111111,
              "#46039f"
             ],
             [
              0.2222222222222222,
              "#7201a8"
             ],
             [
              0.3333333333333333,
              "#9c179e"
             ],
             [
              0.4444444444444444,
              "#bd3786"
             ],
             [
              0.5555555555555556,
              "#d8576b"
             ],
             [
              0.6666666666666666,
              "#ed7953"
             ],
             [
              0.7777777777777778,
              "#fb9f3a"
             ],
             [
              0.8888888888888888,
              "#fdca26"
             ],
             [
              1,
              "#f0f921"
             ]
            ],
            "type": "histogram2dcontour"
           }
          ],
          "mesh3d": [
           {
            "colorbar": {
             "outlinewidth": 0,
             "ticks": ""
            },
            "type": "mesh3d"
           }
          ],
          "parcoords": [
           {
            "line": {
             "colorbar": {
              "outlinewidth": 0,
              "ticks": ""
             }
            },
            "type": "parcoords"
           }
          ],
          "pie": [
           {
            "automargin": true,
            "type": "pie"
           }
          ],
          "scatter": [
           {
            "fillpattern": {
             "fillmode": "overlay",
             "size": 10,
             "solidity": 0.2
            },
            "type": "scatter"
           }
          ],
          "scatter3d": [
           {
            "line": {
             "colorbar": {
              "outlinewidth": 0,
              "ticks": ""
             }
            },
            "marker": {
             "colorbar": {
              "outlinewidth": 0,
              "ticks": ""
             }
            },
            "type": "scatter3d"
           }
          ],
          "scattercarpet": [
           {
            "marker": {
             "colorbar": {
              "outlinewidth": 0,
              "ticks": ""
             }
            },
            "type": "scattercarpet"
           }
          ],
          "scattergeo": [
           {
            "marker": {
             "colorbar": {
              "outlinewidth": 0,
              "ticks": ""
             }
            },
            "type": "scattergeo"
           }
          ],
          "scattergl": [
           {
            "marker": {
             "colorbar": {
              "outlinewidth": 0,
              "ticks": ""
             }
            },
            "type": "scattergl"
           }
          ],
          "scattermapbox": [
           {
            "marker": {
             "colorbar": {
              "outlinewidth": 0,
              "ticks": ""
             }
            },
            "type": "scattermapbox"
           }
          ],
          "scatterpolar": [
           {
            "marker": {
             "colorbar": {
              "outlinewidth": 0,
              "ticks": ""
             }
            },
            "type": "scatterpolar"
           }
          ],
          "scatterpolargl": [
           {
            "marker": {
             "colorbar": {
              "outlinewidth": 0,
              "ticks": ""
             }
            },
            "type": "scatterpolargl"
           }
          ],
          "scatterternary": [
           {
            "marker": {
             "colorbar": {
              "outlinewidth": 0,
              "ticks": ""
             }
            },
            "type": "scatterternary"
           }
          ],
          "surface": [
           {
            "colorbar": {
             "outlinewidth": 0,
             "ticks": ""
            },
            "colorscale": [
             [
              0,
              "#0d0887"
             ],
             [
              0.1111111111111111,
              "#46039f"
             ],
             [
              0.2222222222222222,
              "#7201a8"
             ],
             [
              0.3333333333333333,
              "#9c179e"
             ],
             [
              0.4444444444444444,
              "#bd3786"
             ],
             [
              0.5555555555555556,
              "#d8576b"
             ],
             [
              0.6666666666666666,
              "#ed7953"
             ],
             [
              0.7777777777777778,
              "#fb9f3a"
             ],
             [
              0.8888888888888888,
              "#fdca26"
             ],
             [
              1,
              "#f0f921"
             ]
            ],
            "type": "surface"
           }
          ],
          "table": [
           {
            "cells": {
             "fill": {
              "color": "#EBF0F8"
             },
             "line": {
              "color": "white"
             }
            },
            "header": {
             "fill": {
              "color": "#C8D4E3"
             },
             "line": {
              "color": "white"
             }
            },
            "type": "table"
           }
          ]
         },
         "layout": {
          "annotationdefaults": {
           "arrowcolor": "#2a3f5f",
           "arrowhead": 0,
           "arrowwidth": 1
          },
          "autotypenumbers": "strict",
          "coloraxis": {
           "colorbar": {
            "outlinewidth": 0,
            "ticks": ""
           }
          },
          "colorscale": {
           "diverging": [
            [
             0,
             "#8e0152"
            ],
            [
             0.1,
             "#c51b7d"
            ],
            [
             0.2,
             "#de77ae"
            ],
            [
             0.3,
             "#f1b6da"
            ],
            [
             0.4,
             "#fde0ef"
            ],
            [
             0.5,
             "#f7f7f7"
            ],
            [
             0.6,
             "#e6f5d0"
            ],
            [
             0.7,
             "#b8e186"
            ],
            [
             0.8,
             "#7fbc41"
            ],
            [
             0.9,
             "#4d9221"
            ],
            [
             1,
             "#276419"
            ]
           ],
           "sequential": [
            [
             0,
             "#0d0887"
            ],
            [
             0.1111111111111111,
             "#46039f"
            ],
            [
             0.2222222222222222,
             "#7201a8"
            ],
            [
             0.3333333333333333,
             "#9c179e"
            ],
            [
             0.4444444444444444,
             "#bd3786"
            ],
            [
             0.5555555555555556,
             "#d8576b"
            ],
            [
             0.6666666666666666,
             "#ed7953"
            ],
            [
             0.7777777777777778,
             "#fb9f3a"
            ],
            [
             0.8888888888888888,
             "#fdca26"
            ],
            [
             1,
             "#f0f921"
            ]
           ],
           "sequentialminus": [
            [
             0,
             "#0d0887"
            ],
            [
             0.1111111111111111,
             "#46039f"
            ],
            [
             0.2222222222222222,
             "#7201a8"
            ],
            [
             0.3333333333333333,
             "#9c179e"
            ],
            [
             0.4444444444444444,
             "#bd3786"
            ],
            [
             0.5555555555555556,
             "#d8576b"
            ],
            [
             0.6666666666666666,
             "#ed7953"
            ],
            [
             0.7777777777777778,
             "#fb9f3a"
            ],
            [
             0.8888888888888888,
             "#fdca26"
            ],
            [
             1,
             "#f0f921"
            ]
           ]
          },
          "colorway": [
           "#636efa",
           "#EF553B",
           "#00cc96",
           "#ab63fa",
           "#FFA15A",
           "#19d3f3",
           "#FF6692",
           "#B6E880",
           "#FF97FF",
           "#FECB52"
          ],
          "font": {
           "color": "#2a3f5f"
          },
          "geo": {
           "bgcolor": "white",
           "lakecolor": "white",
           "landcolor": "#E5ECF6",
           "showlakes": true,
           "showland": true,
           "subunitcolor": "white"
          },
          "hoverlabel": {
           "align": "left"
          },
          "hovermode": "closest",
          "mapbox": {
           "style": "light"
          },
          "paper_bgcolor": "white",
          "plot_bgcolor": "#E5ECF6",
          "polar": {
           "angularaxis": {
            "gridcolor": "white",
            "linecolor": "white",
            "ticks": ""
           },
           "bgcolor": "#E5ECF6",
           "radialaxis": {
            "gridcolor": "white",
            "linecolor": "white",
            "ticks": ""
           }
          },
          "scene": {
           "xaxis": {
            "backgroundcolor": "#E5ECF6",
            "gridcolor": "white",
            "gridwidth": 2,
            "linecolor": "white",
            "showbackground": true,
            "ticks": "",
            "zerolinecolor": "white"
           },
           "yaxis": {
            "backgroundcolor": "#E5ECF6",
            "gridcolor": "white",
            "gridwidth": 2,
            "linecolor": "white",
            "showbackground": true,
            "ticks": "",
            "zerolinecolor": "white"
           },
           "zaxis": {
            "backgroundcolor": "#E5ECF6",
            "gridcolor": "white",
            "gridwidth": 2,
            "linecolor": "white",
            "showbackground": true,
            "ticks": "",
            "zerolinecolor": "white"
           }
          },
          "shapedefaults": {
           "line": {
            "color": "#2a3f5f"
           }
          },
          "ternary": {
           "aaxis": {
            "gridcolor": "white",
            "linecolor": "white",
            "ticks": ""
           },
           "baxis": {
            "gridcolor": "white",
            "linecolor": "white",
            "ticks": ""
           },
           "bgcolor": "#E5ECF6",
           "caxis": {
            "gridcolor": "white",
            "linecolor": "white",
            "ticks": ""
           }
          },
          "title": {
           "x": 0.05
          },
          "xaxis": {
           "automargin": true,
           "gridcolor": "white",
           "linecolor": "white",
           "ticks": "",
           "title": {
            "standoff": 15
           },
           "zerolinecolor": "white",
           "zerolinewidth": 2
          },
          "yaxis": {
           "automargin": true,
           "gridcolor": "white",
           "linecolor": "white",
           "ticks": "",
           "title": {
            "standoff": 15
           },
           "zerolinecolor": "white",
           "zerolinewidth": 2
          }
         }
        },
        "title": {
         "text": "Global Trends in GDP per Capita Over Time"
        },
        "xaxis": {
         "autorange": true,
         "range": [
          1966.8535425582502,
          2025.1464574417498
         ],
         "title": {
          "text": "Year"
         },
         "type": "linear"
        },
        "yaxis": {
         "autorange": true,
         "range": [
          -243.47653037392763,
          17323.508806357262
         ],
         "title": {
          "text": "Global Average GDP per Capita"
         },
         "type": "linear"
        }
       }
      },
      "image/png": "[encoded data removed]",
      "text/html": [
       "<div>                            <div id=\"5fca96ca-e7b1-463f-be07-37589c9821bd\" class=\"plotly-graph-div\" style=\"height:450px; width:100%;\"></div>            <script type=\"text/javascript\">                require([\"plotly\"], function(Plotly) {                    window.PLOTLYENV=window.PLOTLYENV || {};                                    if (document.getElementById(\"5fca96ca-e7b1-463f-be07-37589c9821bd\")) {                    Plotly.newPlot(                        \"5fca96ca-e7b1-463f-be07-37589c9821bd\",                        [{\"mode\":\"lines+markers\",\"name\":\"Global Average\",\"x\":[1970,1971,1972,1973,1974,1975,1976,1977,1978,1979,1980,1981,1982,1983,1984,1985,1986,1987,1988,1989,1990,1991,1992,1993,1994,1995,1996,1997,1998,1999,2000,2001,2002,2003,2004,2005,2006,2007,2008,2009,2010,2011,2012,2013,2014,2015,2016,2017,2018,2019,2020,2021,2022],\"y\":[878.8586439172317,966.0935037904519,1109.225344140565,1365.2395343376836,1645.0412276372883,1795.4846096554802,1916.8717653188137,2115.7866153088703,2421.890958274181,2836.692902300791,3244.1340046120336,3190.042797191073,3117.471721998644,3060.3766893344064,3041.1393259853107,3048.61662504226,3573.629552593729,4120.93513281644,4566.030825821865,4708.1957372762145,5372.673692858023,5683.163370976837,6025.107799715254,5849.550851549718,6295.84023425034,7039.954393323446,7249.820963276836,7128.949428762147,7161.053451522033,7321.71574409548,7258.702235290395,7234.352448819774,7542.802201280509,8621.212311221863,9761.328812627515,10505.266293785875,11292.443649962712,12771.885126716948,13751.925350768362,12490.52556179887,13102.923128784745,14344.28284131808,14199.444364060453,14574.920416829378,14844.995798899434,13587.135291805085,13797.48848420226,14516.888534631638,15328.178113351412,15210.010422711866,14012.366252231637,15767.021344112994,16201.173632066102],\"type\":\"scatter\"}],                        {\"template\":{\"data\":{\"histogram2dcontour\":[{\"type\":\"histogram2dcontour\",\"colorbar\":{\"outlinewidth\":0,\"ticks\":\"\"},\"colorscale\":[[0.0,\"#0d0887\"],[0.1111111111111111,\"#46039f\"],[0.2222222222222222,\"#7201a8\"],[0.3333333333333333,\"#9c179e\"],[0.4444444444444444,\"#bd3786\"],[0.5555555555555556,\"#d8576b\"],[0.6666666666666666,\"#ed7953\"],[0.7777777777777778,\"#fb9f3a\"],[0.8888888888888888,\"#fdca26\"],[1.0,\"#f0f921\"]]}],\"choropleth\":[{\"type\":\"choropleth\",\"colorbar\":{\"outlinewidth\":0,\"ticks\":\"\"}}],\"histogram2d\":[{\"type\":\"histogram2d\",\"colorbar\":{\"outlinewidth\":0,\"ticks\":\"\"},\"colorscale\":[[0.0,\"#0d0887\"],[0.1111111111111111,\"#46039f\"],[0.2222222222222222,\"#7201a8\"],[0.3333333333333333,\"#9c179e\"],[0.4444444444444444,\"#bd3786\"],[0.5555555555555556,\"#d8576b\"],[0.6666666666666666,\"#ed7953\"],[0.7777777777777778,\"#fb9f3a\"],[0.8888888888888888,\"#fdca26\"],[1.0,\"#f0f921\"]]}],\"heatmap\":[{\"type\":\"heatmap\",\"colorbar\":{\"outlinewidth\":0,\"ticks\":\"\"},\"colorscale\":[[0.0,\"#0d0887\"],[0.1111111111111111,\"#46039f\"],[0.2222222222222222,\"#7201a8\"],[0.3333333333333333,\"#9c179e\"],[0.4444444444444444,\"#bd3786\"],[0.5555555555555556,\"#d8576b\"],[0.6666666666666666,\"#ed7953\"],[0.7777777777777778,\"#fb9f3a\"],[0.8888888888888888,\"#fdca26\"],[1.0,\"#f0f921\"]]}],\"heatmapgl\":[{\"type\":\"heatmapgl\",\"colorbar\":{\"outlinewidth\":0,\"ticks\":\"\"},\"colorscale\":[[0.0,\"#0d0887\"],[0.1111111111111111,\"#46039f\"],[0.2222222222222222,\"#7201a8\"],[0.3333333333333333,\"#9c179e\"],[0.4444444444444444,\"#bd3786\"],[0.5555555555555556,\"#d8576b\"],[0.6666666666666666,\"#ed7953\"],[0.7777777777777778,\"#fb9f3a\"],[0.8888888888888888,\"#fdca26\"],[1.0,\"#f0f921\"]]}],\"contourcarpet\":[{\"type\":\"contourcarpet\",\"colorbar\":{\"outlinewidth\":0,\"ticks\":\"\"}}],\"contour\":[{\"type\":\"contour\",\"colorbar\":{\"outlinewidth\":0,\"ticks\":\"\"},\"colorscale\":[[0.0,\"#0d0887\"],[0.1111111111111111,\"#46039f\"],[0.2222222222222222,\"#7201a8\"],[0.3333333333333333,\"#9c179e\"],[0.4444444444444444,\"#bd3786\"],[0.5555555555555556,\"#d8576b\"],[0.6666666666666666,\"#ed7953\"],[0.7777777777777778,\"#fb9f3a\"],[0.8888888888888888,\"#fdca26\"],[1.0,\"#f0f921\"]]}],\"surface\":[{\"type\":\"surface\",\"colorbar\":{\"outlinewidth\":0,\"ticks\":\"\"},\"colorscale\":[[0.0,\"#0d0887\"],[0.1111111111111111,\"#46039f\"],[0.2222222222222222,\"#7201a8\"],[0.3333333333333333,\"#9c179e\"],[0.4444444444444444,\"#bd3786\"],[0.5555555555555556,\"#d8576b\"],[0.6666666666666666,\"#ed7953\"],[0.7777777777777778,\"#fb9f3a\"],[0.8888888888888888,\"#fdca26\"],[1.0,\"#f0f921\"]]}],\"mesh3d\":[{\"type\":\"mesh3d\",\"colorbar\":{\"outlinewidth\":0,\"ticks\":\"\"}}],\"scatter\":[{\"fillpattern\":{\"fillmode\":\"overlay\",\"size\":10,\"solidity\":0.2},\"type\":\"scatter\"}],\"parcoords\":[{\"type\":\"parcoords\",\"line\":{\"colorbar\":{\"outlinewidth\":0,\"ticks\":\"\"}}}],\"scatterpolargl\":[{\"type\":\"scatterpolargl\",\"marker\":{\"colorbar\":{\"outlinewidth\":0,\"ticks\":\"\"}}}],\"bar\":[{\"error_x\":{\"color\":\"#2a3f5f\"},\"error_y\":{\"color\":\"#2a3f5f\"},\"marker\":{\"line\":{\"color\":\"#E5ECF6\",\"width\":0.5},\"pattern\":{\"fillmode\":\"overlay\",\"size\":10,\"solidity\":0.2}},\"type\":\"bar\"}],\"scattergeo\":[{\"type\":\"scattergeo\",\"marker\":{\"colorbar\":{\"outlinewidth\":0,\"ticks\":\"\"}}}],\"scatterpolar\":[{\"type\":\"scatterpolar\",\"marker\":{\"colorbar\":{\"outlinewidth\":0,\"ticks\":\"\"}}}],\"histogram\":[{\"marker\":{\"pattern\":{\"fillmode\":\"overlay\",\"size\":10,\"solidity\":0.2}},\"type\":\"histogram\"}],\"scattergl\":[{\"type\":\"scattergl\",\"marker\":{\"colorbar\":{\"outlinewidth\":0,\"ticks\":\"\"}}}],\"scatter3d\":[{\"type\":\"scatter3d\",\"line\":{\"colorbar\":{\"outlinewidth\":0,\"ticks\":\"\"}},\"marker\":{\"colorbar\":{\"outlinewidth\":0,\"ticks\":\"\"}}}],\"scattermapbox\":[{\"type\":\"scattermapbox\",\"marker\":{\"colorbar\":{\"outlinewidth\":0,\"ticks\":\"\"}}}],\"scatterternary\":[{\"type\":\"scatterternary\",\"marker\":{\"colorbar\":{\"outlinewidth\":0,\"ticks\":\"\"}}}],\"scattercarpet\":[{\"type\":\"scattercarpet\",\"marker\":{\"colorbar\":{\"outlinewidth\":0,\"ticks\":\"\"}}}],\"carpet\":[{\"aaxis\":{\"endlinecolor\":\"#2a3f5f\",\"gridcolor\":\"white\",\"linecolor\":\"white\",\"minorgridcolor\":\"white\",\"startlinecolor\":\"#2a3f5f\"},\"baxis\":{\"endlinecolor\":\"#2a3f5f\",\"gridcolor\":\"white\",\"linecolor\":\"white\",\"minorgridcolor\":\"white\",\"startlinecolor\":\"#2a3f5f\"},\"type\":\"carpet\"}],\"table\":[{\"cells\":{\"fill\":{\"color\":\"#EBF0F8\"},\"line\":{\"color\":\"white\"}},\"header\":{\"fill\":{\"color\":\"#C8D4E3\"},\"line\":{\"color\":\"white\"}},\"type\":\"table\"}],\"barpolar\":[{\"marker\":{\"line\":{\"color\":\"#E5ECF6\",\"width\":0.5},\"pattern\":{\"fillmode\":\"overlay\",\"size\":10,\"solidity\":0.2}},\"type\":\"barpolar\"}],\"pie\":[{\"automargin\":true,\"type\":\"pie\"}]},\"layout\":{\"autotypenumbers\":\"strict\",\"colorway\":[\"#636efa\",\"#EF553B\",\"#00cc96\",\"#ab63fa\",\"#FFA15A\",\"#19d3f3\",\"#FF6692\",\"#B6E880\",\"#FF97FF\",\"#FECB52\"],\"font\":{\"color\":\"#2a3f5f\"},\"hovermode\":\"closest\",\"hoverlabel\":{\"align\":\"left\"},\"paper_bgcolor\":\"white\",\"plot_bgcolor\":\"#E5ECF6\",\"polar\":{\"bgcolor\":\"#E5ECF6\",\"angularaxis\":{\"gridcolor\":\"white\",\"linecolor\":\"white\",\"ticks\":\"\"},\"radialaxis\":{\"gridcolor\":\"white\",\"linecolor\":\"white\",\"ticks\":\"\"}},\"ternary\":{\"bgcolor\":\"#E5ECF6\",\"aaxis\":{\"gridcolor\":\"white\",\"linecolor\":\"white\",\"ticks\":\"\"},\"baxis\":{\"gridcolor\":\"white\",\"linecolor\":\"white\",\"ticks\":\"\"},\"caxis\":{\"gridcolor\":\"white\",\"linecolor\":\"white\",\"ticks\":\"\"}},\"coloraxis\":{\"colorbar\":{\"outlinewidth\":0,\"ticks\":\"\"}},\"colorscale\":{\"sequential\":[[0.0,\"#0d0887\"],[0.1111111111111111,\"#46039f\"],[0.2222222222222222,\"#7201a8\"],[0.3333333333333333,\"#9c179e\"],[0.4444444444444444,\"#bd3786\"],[0.5555555555555556,\"#d8576b\"],[0.6666666666666666,\"#ed7953\"],[0.7777777777777778,\"#fb9f3a\"],[0.8888888888888888,\"#fdca26\"],[1.0,\"#f0f921\"]],\"sequentialminus\":[[0.0,\"#0d0887\"],[0.1111111111111111,\"#46039f\"],[0.2222222222222222,\"#7201a8\"],[0.3333333333333333,\"#9c179e\"],[0.4444444444444444,\"#bd3786\"],[0.5555555555555556,\"#d8576b\"],[0.6666666666666666,\"#ed7953\"],[0.7777777777777778,\"#fb9f3a\"],[0.8888888888888888,\"#fdca26\"],[1.0,\"#f0f921\"]],\"diverging\":[[0,\"#8e0152\"],[0.1,\"#c51b7d\"],[0.2,\"#de77ae\"],[0.3,\"#f1b6da\"],[0.4,\"#fde0ef\"],[0.5,\"#f7f7f7\"],[0.6,\"#e6f5d0\"],[0.7,\"#b8e186\"],[0.8,\"#7fbc41\"],[0.9,\"#4d9221\"],[1,\"#276419\"]]},\"xaxis\":{\"gridcolor\":\"white\",\"linecolor\":\"white\",\"ticks\":\"\",\"title\":{\"standoff\":15},\"zerolinecolor\":\"white\",\"automargin\":true,\"zerolinewidth\":2},\"yaxis\":{\"gridcolor\":\"white\",\"linecolor\":\"white\",\"ticks\":\"\",\"title\":{\"standoff\":15},\"zerolinecolor\":\"white\",\"automargin\":true,\"zerolinewidth\":2},\"scene\":{\"xaxis\":{\"backgroundcolor\":\"#E5ECF6\",\"gridcolor\":\"white\",\"linecolor\":\"white\",\"showbackground\":true,\"ticks\":\"\",\"zerolinecolor\":\"white\",\"gridwidth\":2},\"yaxis\":{\"backgroundcolor\":\"#E5ECF6\",\"gridcolor\":\"white\",\"linecolor\":\"white\",\"showbackground\":true,\"ticks\":\"\",\"zerolinecolor\":\"white\",\"gridwidth\":2},\"zaxis\":{\"backgroundcolor\":\"#E5ECF6\",\"gridcolor\":\"white\",\"linecolor\":\"white\",\"showbackground\":true,\"ticks\":\"\",\"zerolinecolor\":\"white\",\"gridwidth\":2}},\"shapedefaults\":{\"line\":{\"color\":\"#2a3f5f\"}},\"annotationdefaults\":{\"arrowcolor\":\"#2a3f5f\",\"arrowhead\":0,\"arrowwidth\":1},\"geo\":{\"bgcolor\":\"white\",\"landcolor\":\"#E5ECF6\",\"subunitcolor\":\"white\",\"showland\":true,\"showlakes\":true,\"lakecolor\":\"white\"},\"title\":{\"x\":0.05},\"mapbox\":{\"style\":\"light\"}}},\"font\":{\"color\":\"white\"},\"title\":{\"text\":\"Global Trends in GDP per Capita Over Time\"},\"xaxis\":{\"title\":{\"text\":\"Year\"}},\"yaxis\":{\"title\":{\"text\":\"Global Average GDP per Capita\"}},\"plot_bgcolor\":\"#1f1f1f\",\"paper_bgcolor\":\"#1f1f1f\",\"height\":450},                        {\"responsive\": true}                    ).then(function(){\n",
       "                            \n",
       "var gd = document.getElementById('5fca96ca-e7b1-463f-be07-37589c9821bd');\n",
       "var x = new MutationObserver(function (mutations, observer) {{\n",
       "        var display = window.getComputedStyle(gd).display;\n",
       "        if (!display || display === 'none') {{\n",
       "            console.log([gd, 'removed!']);\n",
       "            Plotly.purge(gd);\n",
       "            observer.disconnect();\n",
       "        }}\n",
       "}});\n",
       "\n",
       "// Listen for the removal of the full notebook cells\n",
       "var notebookContainer = gd.closest('#notebook-container');\n",
       "if (notebookContainer) {{\n",
       "    x.observe(notebookContainer, {childList: true});\n",
       "}}\n",
       "\n",
       "// Listen for the clearing of the current output cell\n",
       "var outputEl = gd.closest('.output');\n",
       "if (outputEl) {{\n",
       "    x.observe(outputEl, {childList: true});\n",
       "}}\n",
       "\n",
       "                        })                };                });            </script>        </div>"
      ]
     },
     "metadata": {},
     "output_type": "display_data"
    }
   ],
   "source": [
    "# Calculate the global average GDP per Capita per year\n",
    "global_trends = df_melted.groupby('Year')['GDP per Capita'].mean().reset_index()\n",
    "\n",
    "# Create the plot\n",
    "fig = go.Figure()\n",
    "fig.add_trace(go.Scatter(\n",
    "    x=global_trends['Year'],\n",
    "    y=global_trends['GDP per Capita'],\n",
    "    mode='lines+markers',\n",
    "    name='Global Average'\n",
    "))\n",
    "fig.update_layout(\n",
    "    title='Global Trends in GDP per Capita Over Time',\n",
    "    xaxis_title='Year',\n",
    "    yaxis_title='Global Average GDP per Capita',\n",
    "    plot_bgcolor='#1f1f1f',\n",
    "    paper_bgcolor='#1f1f1f',\n",
    "    height = 450 ,\n",
    "    font=dict(color='white')\n",
    ")\n",
    "fig.show()"
   ]
  },
  {
   "cell_type": "markdown",
   "id": "abaf8966-d939-4942-8d4b-94a5f9607e53",
   "metadata": {},
   "source": [
    "# COMPARATIVE ANALYSIS BETWEEN TOP PERFORM AND BOTTOM PERFORMER COUNTRIES."
   ]
  },
  {
   "cell_type": "code",
   "execution_count": 7,
   "id": "bf6e4ad6-1535-4525-885f-b32e8bf5ac54",
   "metadata": {},
   "outputs": [
    {
     "data": {
      "application/vnd.plotly.v1+json": {
       "config": {
        "plotlyServerURL": "https://plot.ly"
       },
       "data": [
        {
         "mode": "lines+markers",
         "name": "Top Performer: Ireland",
         "type": "scatter",
         "x": [
          1970,
          1971,
          1972,
          1973,
          1974,
          1975,
          1976,
          1977,
          1978,
          1979,
          1980,
          1981,
          1982,
          1983,
          1984,
          1985,
          1986,
          1987,
          1988,
          1989,
          1990,
          1991,
          1992,
          1993,
          1994,
          1995,
          1996,
          1997,
          1998,
          1999,
          2000,
          2001,
          2002,
          2003,
          2004,
          2005,
          2006,
          2007,
          2008,
          2009,
          2010,
          2011,
          2012,
          2013,
          2014,
          2015,
          2016,
          2017,
          2018,
          2019,
          2020,
          2021,
          2022
         ],
         "y": [
          1496.558098,
          1717.059346,
          2096.276189,
          2443.353085,
          2538.922015,
          3003.319568,
          2948.906344,
          3456.045125,
          4431.478318,
          5465.47148,
          6412.548002,
          6035.505399,
          6222.319675,
          5979.272666,
          5759.674427,
          6067.230292,
          8167.785689,
          9653.473622,
          10797.79305,
          11265.23573,
          14147.01391,
          14205.76711,
          15849.3067,
          14782.89074,
          16041.70956,
          19316.14005,
          21013.13255,
          22762.58428,
          24519.58469,
          26575.2773,
          26521.63845,
          28532.40168,
          32866.71779,
          41503.76238,
          48121.62764,
          51390.83312,
          54778.03953,
          61865.32133,
          61615.6606,
          52334.7033,
          48998.36338,
          52559.71069,
          49321.75055,
          51874.81264,
          56107.12028,
          62636.45651,
          63267.60071,
          70673.12044,
          79986.09973,
          81481.09924,
          86655.55516,
          102955.8011,
          105993.2728
         ]
        },
        {
         "mode": "lines+markers",
         "name": "Bottom Performer: Burundi",
         "type": "scatter",
         "x": [
          1970,
          1971,
          1972,
          1973,
          1974,
          1975,
          1976,
          1977,
          1978,
          1979,
          1980,
          1981,
          1982,
          1983,
          1984,
          1985,
          1986,
          1987,
          1988,
          1989,
          1990,
          1991,
          1992,
          1993,
          1994,
          1995,
          1996,
          1997,
          1998,
          1999,
          2000,
          2001,
          2002,
          2003,
          2004,
          2005,
          2006,
          2007,
          2008,
          2009,
          2010,
          2011,
          2012,
          2013,
          2014,
          2015,
          2016,
          2017,
          2018,
          2019,
          2020,
          2021,
          2022
         ],
         "y": [
          70.16815869,
          70.49459431,
          68.82952332,
          85.53714794,
          94.63738924,
          110.6556358,
          119.380471,
          138.3198142,
          151.9080482,
          191.6245358,
          220.5484581,
          221.1537032,
          227.1680414,
          234.2069555,
          207.7945631,
          236.6904916,
          244.6800411,
          225.3050546,
          206.5920026,
          210.5822197,
          209.4024853,
          208.6572024,
          189.2368261,
          175.4850206,
          191.3252766,
          168.6275088,
          146.5238718,
          164.2263499,
          148.0769612,
          130.7647899,
          112.4209848,
          102.439454,
          94.46644805,
          86.79415517,
          95.48289167,
          151.1880405,
          166.2762452,
          170.7067601,
          194.7107365,
          203.8607026,
          222.6608502,
          236.4501734,
          237.5995773,
          241.549503,
          257.8229314,
          262.0017585,
          268.7332911,
          295.6209363,
          288.6263937,
          283.66987,
          282.4310578,
          298.1703494,
          312.8743776
         ]
        }
       ],
       "layout": {
        "autosize": true,
        "font": {
         "color": "white"
        },
        "paper_bgcolor": "#1f1f1f",
        "plot_bgcolor": "#1f1f1f",
        "template": {
         "data": {
          "bar": [
           {
            "error_x": {
             "color": "#2a3f5f"
            },
            "error_y": {
             "color": "#2a3f5f"
            },
            "marker": {
             "line": {
              "color": "#E5ECF6",
              "width": 0.5
             },
             "pattern": {
              "fillmode": "overlay",
              "size": 10,
              "solidity": 0.2
             }
            },
            "type": "bar"
           }
          ],
          "barpolar": [
           {
            "marker": {
             "line": {
              "color": "#E5ECF6",
              "width": 0.5
             },
             "pattern": {
              "fillmode": "overlay",
              "size": 10,
              "solidity": 0.2
             }
            },
            "type": "barpolar"
           }
          ],
          "carpet": [
           {
            "aaxis": {
             "endlinecolor": "#2a3f5f",
             "gridcolor": "white",
             "linecolor": "white",
             "minorgridcolor": "white",
             "startlinecolor": "#2a3f5f"
            },
            "baxis": {
             "endlinecolor": "#2a3f5f",
             "gridcolor": "white",
             "linecolor": "white",
             "minorgridcolor": "white",
             "startlinecolor": "#2a3f5f"
            },
            "type": "carpet"
           }
          ],
          "choropleth": [
           {
            "colorbar": {
             "outlinewidth": 0,
             "ticks": ""
            },
            "type": "choropleth"
           }
          ],
          "contour": [
           {
            "colorbar": {
             "outlinewidth": 0,
             "ticks": ""
            },
            "colorscale": [
             [
              0,
              "#0d0887"
             ],
             [
              0.1111111111111111,
              "#46039f"
             ],
             [
              0.2222222222222222,
              "#7201a8"
             ],
             [
              0.3333333333333333,
              "#9c179e"
             ],
             [
              0.4444444444444444,
              "#bd3786"
             ],
             [
              0.5555555555555556,
              "#d8576b"
             ],
             [
              0.6666666666666666,
              "#ed7953"
             ],
             [
              0.7777777777777778,
              "#fb9f3a"
             ],
             [
              0.8888888888888888,
              "#fdca26"
             ],
             [
              1,
              "#f0f921"
             ]
            ],
            "type": "contour"
           }
          ],
          "contourcarpet": [
           {
            "colorbar": {
             "outlinewidth": 0,
             "ticks": ""
            },
            "type": "contourcarpet"
           }
          ],
          "heatmap": [
           {
            "colorbar": {
             "outlinewidth": 0,
             "ticks": ""
            },
            "colorscale": [
             [
              0,
              "#0d0887"
             ],
             [
              0.1111111111111111,
              "#46039f"
             ],
             [
              0.2222222222222222,
              "#7201a8"
             ],
             [
              0.3333333333333333,
              "#9c179e"
             ],
             [
              0.4444444444444444,
              "#bd3786"
             ],
             [
              0.5555555555555556,
              "#d8576b"
             ],
             [
              0.6666666666666666,
              "#ed7953"
             ],
             [
              0.7777777777777778,
              "#fb9f3a"
             ],
             [
              0.8888888888888888,
              "#fdca26"
             ],
             [
              1,
              "#f0f921"
             ]
            ],
            "type": "heatmap"
           }
          ],
          "heatmapgl": [
           {
            "colorbar": {
             "outlinewidth": 0,
             "ticks": ""
            },
            "colorscale": [
             [
              0,
              "#0d0887"
             ],
             [
              0.1111111111111111,
              "#46039f"
             ],
             [
              0.2222222222222222,
              "#7201a8"
             ],
             [
              0.3333333333333333,
              "#9c179e"
             ],
             [
              0.4444444444444444,
              "#bd3786"
             ],
             [
              0.5555555555555556,
              "#d8576b"
             ],
             [
              0.6666666666666666,
              "#ed7953"
             ],
             [
              0.7777777777777778,
              "#fb9f3a"
             ],
             [
              0.8888888888888888,
              "#fdca26"
             ],
             [
              1,
              "#f0f921"
             ]
            ],
            "type": "heatmapgl"
           }
          ],
          "histogram": [
           {
            "marker": {
             "pattern": {
              "fillmode": "overlay",
              "size": 10,
              "solidity": 0.2
             }
            },
            "type": "histogram"
           }
          ],
          "histogram2d": [
           {
            "colorbar": {
             "outlinewidth": 0,
             "ticks": ""
            },
            "colorscale": [
             [
              0,
              "#0d0887"
             ],
             [
              0.1111111111111111,
              "#46039f"
             ],
             [
              0.2222222222222222,
              "#7201a8"
             ],
             [
              0.3333333333333333,
              "#9c179e"
             ],
             [
              0.4444444444444444,
              "#bd3786"
             ],
             [
              0.5555555555555556,
              "#d8576b"
             ],
             [
              0.6666666666666666,
              "#ed7953"
             ],
             [
              0.7777777777777778,
              "#fb9f3a"
             ],
             [
              0.8888888888888888,
              "#fdca26"
             ],
             [
              1,
              "#f0f921"
             ]
            ],
            "type": "histogram2d"
           }
          ],
          "histogram2dcontour": [
           {
            "colorbar": {
             "outlinewidth": 0,
             "ticks": ""
            },
            "colorscale": [
             [
              0,
              "#0d0887"
             ],
             [
              0.1111111111111111,
              "#46039f"
             ],
             [
              0.2222222222222222,
              "#7201a8"
             ],
             [
              0.3333333333333333,
              "#9c179e"
             ],
             [
              0.4444444444444444,
              "#bd3786"
             ],
             [
              0.5555555555555556,
              "#d8576b"
             ],
             [
              0.6666666666666666,
              "#ed7953"
             ],
             [
              0.7777777777777778,
              "#fb9f3a"
             ],
             [
              0.8888888888888888,
              "#fdca26"
             ],
             [
              1,
              "#f0f921"
             ]
            ],
            "type": "histogram2dcontour"
           }
          ],
          "mesh3d": [
           {
            "colorbar": {
             "outlinewidth": 0,
             "ticks": ""
            },
            "type": "mesh3d"
           }
          ],
          "parcoords": [
           {
            "line": {
             "colorbar": {
              "outlinewidth": 0,
              "ticks": ""
             }
            },
            "type": "parcoords"
           }
          ],
          "pie": [
           {
            "automargin": true,
            "type": "pie"
           }
          ],
          "scatter": [
           {
            "fillpattern": {
             "fillmode": "overlay",
             "size": 10,
             "solidity": 0.2
            },
            "type": "scatter"
           }
          ],
          "scatter3d": [
           {
            "line": {
             "colorbar": {
              "outlinewidth": 0,
              "ticks": ""
             }
            },
            "marker": {
             "colorbar": {
              "outlinewidth": 0,
              "ticks": ""
             }
            },
            "type": "scatter3d"
           }
          ],
          "scattercarpet": [
           {
            "marker": {
             "colorbar": {
              "outlinewidth": 0,
              "ticks": ""
             }
            },
            "type": "scattercarpet"
           }
          ],
          "scattergeo": [
           {
            "marker": {
             "colorbar": {
              "outlinewidth": 0,
              "ticks": ""
             }
            },
            "type": "scattergeo"
           }
          ],
          "scattergl": [
           {
            "marker": {
             "colorbar": {
              "outlinewidth": 0,
              "ticks": ""
             }
            },
            "type": "scattergl"
           }
          ],
          "scattermapbox": [
           {
            "marker": {
             "colorbar": {
              "outlinewidth": 0,
              "ticks": ""
             }
            },
            "type": "scattermapbox"
           }
          ],
          "scatterpolar": [
           {
            "marker": {
             "colorbar": {
              "outlinewidth": 0,
              "ticks": ""
             }
            },
            "type": "scatterpolar"
           }
          ],
          "scatterpolargl": [
           {
            "marker": {
             "colorbar": {
              "outlinewidth": 0,
              "ticks": ""
             }
            },
            "type": "scatterpolargl"
           }
          ],
          "scatterternary": [
           {
            "marker": {
             "colorbar": {
              "outlinewidth": 0,
              "ticks": ""
             }
            },
            "type": "scatterternary"
           }
          ],
          "surface": [
           {
            "colorbar": {
             "outlinewidth": 0,
             "ticks": ""
            },
            "colorscale": [
             [
              0,
              "#0d0887"
             ],
             [
              0.1111111111111111,
              "#46039f"
             ],
             [
              0.2222222222222222,
              "#7201a8"
             ],
             [
              0.3333333333333333,
              "#9c179e"
             ],
             [
              0.4444444444444444,
              "#bd3786"
             ],
             [
              0.5555555555555556,
              "#d8576b"
             ],
             [
              0.6666666666666666,
              "#ed7953"
             ],
             [
              0.7777777777777778,
              "#fb9f3a"
             ],
             [
              0.8888888888888888,
              "#fdca26"
             ],
             [
              1,
              "#f0f921"
             ]
            ],
            "type": "surface"
           }
          ],
          "table": [
           {
            "cells": {
             "fill": {
              "color": "#EBF0F8"
             },
             "line": {
              "color": "white"
             }
            },
            "header": {
             "fill": {
              "color": "#C8D4E3"
             },
             "line": {
              "color": "white"
             }
            },
            "type": "table"
           }
          ]
         },
         "layout": {
          "annotationdefaults": {
           "arrowcolor": "#2a3f5f",
           "arrowhead": 0,
           "arrowwidth": 1
          },
          "autotypenumbers": "strict",
          "coloraxis": {
           "colorbar": {
            "outlinewidth": 0,
            "ticks": ""
           }
          },
          "colorscale": {
           "diverging": [
            [
             0,
             "#8e0152"
            ],
            [
             0.1,
             "#c51b7d"
            ],
            [
             0.2,
             "#de77ae"
            ],
            [
             0.3,
             "#f1b6da"
            ],
            [
             0.4,
             "#fde0ef"
            ],
            [
             0.5,
             "#f7f7f7"
            ],
            [
             0.6,
             "#e6f5d0"
            ],
            [
             0.7,
             "#b8e186"
            ],
            [
             0.8,
             "#7fbc41"
            ],
            [
             0.9,
             "#4d9221"
            ],
            [
             1,
             "#276419"
            ]
           ],
           "sequential": [
            [
             0,
             "#0d0887"
            ],
            [
             0.1111111111111111,
             "#46039f"
            ],
            [
             0.2222222222222222,
             "#7201a8"
            ],
            [
             0.3333333333333333,
             "#9c179e"
            ],
            [
             0.4444444444444444,
             "#bd3786"
            ],
            [
             0.5555555555555556,
             "#d8576b"
            ],
            [
             0.6666666666666666,
             "#ed7953"
            ],
            [
             0.7777777777777778,
             "#fb9f3a"
            ],
            [
             0.8888888888888888,
             "#fdca26"
            ],
            [
             1,
             "#f0f921"
            ]
           ],
           "sequentialminus": [
            [
             0,
             "#0d0887"
            ],
            [
             0.1111111111111111,
             "#46039f"
            ],
            [
             0.2222222222222222,
             "#7201a8"
            ],
            [
             0.3333333333333333,
             "#9c179e"
            ],
            [
             0.4444444444444444,
             "#bd3786"
            ],
            [
             0.5555555555555556,
             "#d8576b"
            ],
            [
             0.6666666666666666,
             "#ed7953"
            ],
            [
             0.7777777777777778,
             "#fb9f3a"
            ],
            [
             0.8888888888888888,
             "#fdca26"
            ],
            [
             1,
             "#f0f921"
            ]
           ]
          },
          "colorway": [
           "#636efa",
           "#EF553B",
           "#00cc96",
           "#ab63fa",
           "#FFA15A",
           "#19d3f3",
           "#FF6692",
           "#B6E880",
           "#FF97FF",
           "#FECB52"
          ],
          "font": {
           "color": "#2a3f5f"
          },
          "geo": {
           "bgcolor": "white",
           "lakecolor": "white",
           "landcolor": "#E5ECF6",
           "showlakes": true,
           "showland": true,
           "subunitcolor": "white"
          },
          "hoverlabel": {
           "align": "left"
          },
          "hovermode": "closest",
          "mapbox": {
           "style": "light"
          },
          "paper_bgcolor": "white",
          "plot_bgcolor": "#E5ECF6",
          "polar": {
           "angularaxis": {
            "gridcolor": "white",
            "linecolor": "white",
            "ticks": ""
           },
           "bgcolor": "#E5ECF6",
           "radialaxis": {
            "gridcolor": "white",
            "linecolor": "white",
            "ticks": ""
           }
          },
          "scene": {
           "xaxis": {
            "backgroundcolor": "#E5ECF6",
            "gridcolor": "white",
            "gridwidth": 2,
            "linecolor": "white",
            "showbackground": true,
            "ticks": "",
            "zerolinecolor": "white"
           },
           "yaxis": {
            "backgroundcolor": "#E5ECF6",
            "gridcolor": "white",
            "gridwidth": 2,
            "linecolor": "white",
            "showbackground": true,
            "ticks": "",
            "zerolinecolor": "white"
           },
           "zaxis": {
            "backgroundcolor": "#E5ECF6",
            "gridcolor": "white",
            "gridwidth": 2,
            "linecolor": "white",
            "showbackground": true,
            "ticks": "",
            "zerolinecolor": "white"
           }
          },
          "shapedefaults": {
           "line": {
            "color": "#2a3f5f"
           }
          },
          "ternary": {
           "aaxis": {
            "gridcolor": "white",
            "linecolor": "white",
            "ticks": ""
           },
           "baxis": {
            "gridcolor": "white",
            "linecolor": "white",
            "ticks": ""
           },
           "bgcolor": "#E5ECF6",
           "caxis": {
            "gridcolor": "white",
            "linecolor": "white",
            "ticks": ""
           }
          },
          "title": {
           "x": 0.05
          },
          "xaxis": {
           "automargin": true,
           "gridcolor": "white",
           "linecolor": "white",
           "ticks": "",
           "title": {
            "standoff": 15
           },
           "zerolinecolor": "white",
           "zerolinewidth": 2
          },
          "yaxis": {
           "automargin": true,
           "gridcolor": "white",
           "linecolor": "white",
           "ticks": "",
           "title": {
            "standoff": 15
           },
           "zerolinecolor": "white",
           "zerolinewidth": 2
          }
         }
        },
        "title": {
         "text": "Comparative Analysis of Top vs. Bottom Performing Countries in GDP per Capita"
        },
        "xaxis": {
         "autorange": true,
         "range": [
          1966.8011444921317,
          2025.1988555078683
         ],
         "title": {
          "text": "Year"
         },
         "type": "linear"
        },
        "yaxis": {
         "autorange": true,
         "range": [
          -7689.967277201146,
          113752.06960052115
         ],
         "title": {
          "text": "GDP per Capita"
         },
         "type": "linear"
        }
       }
      },
      "image/png": "[encoded data removed]",
      "text/html": [
       "<div>                            <div id=\"07c88b47-01aa-4327-932d-6d1550c48bc6\" class=\"plotly-graph-div\" style=\"height:450px; width:100%;\"></div>            <script type=\"text/javascript\">                require([\"plotly\"], function(Plotly) {                    window.PLOTLYENV=window.PLOTLYENV || {};                                    if (document.getElementById(\"07c88b47-01aa-4327-932d-6d1550c48bc6\")) {                    Plotly.newPlot(                        \"07c88b47-01aa-4327-932d-6d1550c48bc6\",                        [{\"mode\":\"lines+markers\",\"name\":\"Top Performer: Ireland\",\"x\":[1970,1971,1972,1973,1974,1975,1976,1977,1978,1979,1980,1981,1982,1983,1984,1985,1986,1987,1988,1989,1990,1991,1992,1993,1994,1995,1996,1997,1998,1999,2000,2001,2002,2003,2004,2005,2006,2007,2008,2009,2010,2011,2012,2013,2014,2015,2016,2017,2018,2019,2020,2021,2022],\"y\":[1496.558098,1717.059346,2096.276189,2443.353085,2538.922015,3003.319568,2948.906344,3456.045125,4431.478318,5465.47148,6412.548002,6035.505399,6222.319675,5979.272666,5759.674427,6067.230292,8167.785689,9653.473622,10797.79305,11265.23573,14147.01391,14205.76711,15849.3067,14782.89074,16041.70956,19316.14005,21013.13255,22762.58428,24519.58469,26575.2773,26521.63845,28532.40168,32866.71779,41503.76238,48121.62764,51390.83312,54778.03953,61865.32133,61615.6606,52334.7033,48998.36338,52559.71069,49321.75055,51874.81264,56107.12028,62636.45651,63267.60071,70673.12044,79986.09973,81481.09924,86655.55516,102955.8011,105993.2728],\"type\":\"scatter\"},{\"mode\":\"lines+markers\",\"name\":\"Bottom Performer: Burundi\",\"x\":[1970,1971,1972,1973,1974,1975,1976,1977,1978,1979,1980,1981,1982,1983,1984,1985,1986,1987,1988,1989,1990,1991,1992,1993,1994,1995,1996,1997,1998,1999,2000,2001,2002,2003,2004,2005,2006,2007,2008,2009,2010,2011,2012,2013,2014,2015,2016,2017,2018,2019,2020,2021,2022],\"y\":[70.16815869,70.49459431,68.82952332,85.53714794,94.63738924,110.6556358,119.380471,138.3198142,151.9080482,191.6245358,220.5484581,221.1537032,227.1680414,234.2069555,207.7945631,236.6904916,244.6800411,225.3050546,206.5920026,210.5822197,209.4024853,208.6572024,189.2368261,175.4850206,191.3252766,168.6275088,146.5238718,164.2263499,148.0769612,130.7647899,112.4209848,102.439454,94.46644805,86.79415517,95.48289167,151.1880405,166.2762452,170.7067601,194.7107365,203.8607026,222.6608502,236.4501734,237.5995773,241.549503,257.8229314,262.0017585,268.7332911,295.6209363,288.6263937,283.66987,282.4310578,298.1703494,312.8743776],\"type\":\"scatter\"}],                        {\"template\":{\"data\":{\"histogram2dcontour\":[{\"type\":\"histogram2dcontour\",\"colorbar\":{\"outlinewidth\":0,\"ticks\":\"\"},\"colorscale\":[[0.0,\"#0d0887\"],[0.1111111111111111,\"#46039f\"],[0.2222222222222222,\"#7201a8\"],[0.3333333333333333,\"#9c179e\"],[0.4444444444444444,\"#bd3786\"],[0.5555555555555556,\"#d8576b\"],[0.6666666666666666,\"#ed7953\"],[0.7777777777777778,\"#fb9f3a\"],[0.8888888888888888,\"#fdca26\"],[1.0,\"#f0f921\"]]}],\"choropleth\":[{\"type\":\"choropleth\",\"colorbar\":{\"outlinewidth\":0,\"ticks\":\"\"}}],\"histogram2d\":[{\"type\":\"histogram2d\",\"colorbar\":{\"outlinewidth\":0,\"ticks\":\"\"},\"colorscale\":[[0.0,\"#0d0887\"],[0.1111111111111111,\"#46039f\"],[0.2222222222222222,\"#7201a8\"],[0.3333333333333333,\"#9c179e\"],[0.4444444444444444,\"#bd3786\"],[0.5555555555555556,\"#d8576b\"],[0.6666666666666666,\"#ed7953\"],[0.7777777777777778,\"#fb9f3a\"],[0.8888888888888888,\"#fdca26\"],[1.0,\"#f0f921\"]]}],\"heatmap\":[{\"type\":\"heatmap\",\"colorbar\":{\"outlinewidth\":0,\"ticks\":\"\"},\"colorscale\":[[0.0,\"#0d0887\"],[0.1111111111111111,\"#46039f\"],[0.2222222222222222,\"#7201a8\"],[0.3333333333333333,\"#9c179e\"],[0.4444444444444444,\"#bd3786\"],[0.5555555555555556,\"#d8576b\"],[0.6666666666666666,\"#ed7953\"],[0.7777777777777778,\"#fb9f3a\"],[0.8888888888888888,\"#fdca26\"],[1.0,\"#f0f921\"]]}],\"heatmapgl\":[{\"type\":\"heatmapgl\",\"colorbar\":{\"outlinewidth\":0,\"ticks\":\"\"},\"colorscale\":[[0.0,\"#0d0887\"],[0.1111111111111111,\"#46039f\"],[0.2222222222222222,\"#7201a8\"],[0.3333333333333333,\"#9c179e\"],[0.4444444444444444,\"#bd3786\"],[0.5555555555555556,\"#d8576b\"],[0.6666666666666666,\"#ed7953\"],[0.7777777777777778,\"#fb9f3a\"],[0.8888888888888888,\"#fdca26\"],[1.0,\"#f0f921\"]]}],\"contourcarpet\":[{\"type\":\"contourcarpet\",\"colorbar\":{\"outlinewidth\":0,\"ticks\":\"\"}}],\"contour\":[{\"type\":\"contour\",\"colorbar\":{\"outlinewidth\":0,\"ticks\":\"\"},\"colorscale\":[[0.0,\"#0d0887\"],[0.1111111111111111,\"#46039f\"],[0.2222222222222222,\"#7201a8\"],[0.3333333333333333,\"#9c179e\"],[0.4444444444444444,\"#bd3786\"],[0.5555555555555556,\"#d8576b\"],[0.6666666666666666,\"#ed7953\"],[0.7777777777777778,\"#fb9f3a\"],[0.8888888888888888,\"#fdca26\"],[1.0,\"#f0f921\"]]}],\"surface\":[{\"type\":\"surface\",\"colorbar\":{\"outlinewidth\":0,\"ticks\":\"\"},\"colorscale\":[[0.0,\"#0d0887\"],[0.1111111111111111,\"#46039f\"],[0.2222222222222222,\"#7201a8\"],[0.3333333333333333,\"#9c179e\"],[0.4444444444444444,\"#bd3786\"],[0.5555555555555556,\"#d8576b\"],[0.6666666666666666,\"#ed7953\"],[0.7777777777777778,\"#fb9f3a\"],[0.8888888888888888,\"#fdca26\"],[1.0,\"#f0f921\"]]}],\"mesh3d\":[{\"type\":\"mesh3d\",\"colorbar\":{\"outlinewidth\":0,\"ticks\":\"\"}}],\"scatter\":[{\"fillpattern\":{\"fillmode\":\"overlay\",\"size\":10,\"solidity\":0.2},\"type\":\"scatter\"}],\"parcoords\":[{\"type\":\"parcoords\",\"line\":{\"colorbar\":{\"outlinewidth\":0,\"ticks\":\"\"}}}],\"scatterpolargl\":[{\"type\":\"scatterpolargl\",\"marker\":{\"colorbar\":{\"outlinewidth\":0,\"ticks\":\"\"}}}],\"bar\":[{\"error_x\":{\"color\":\"#2a3f5f\"},\"error_y\":{\"color\":\"#2a3f5f\"},\"marker\":{\"line\":{\"color\":\"#E5ECF6\",\"width\":0.5},\"pattern\":{\"fillmode\":\"overlay\",\"size\":10,\"solidity\":0.2}},\"type\":\"bar\"}],\"scattergeo\":[{\"type\":\"scattergeo\",\"marker\":{\"colorbar\":{\"outlinewidth\":0,\"ticks\":\"\"}}}],\"scatterpolar\":[{\"type\":\"scatterpolar\",\"marker\":{\"colorbar\":{\"outlinewidth\":0,\"ticks\":\"\"}}}],\"histogram\":[{\"marker\":{\"pattern\":{\"fillmode\":\"overlay\",\"size\":10,\"solidity\":0.2}},\"type\":\"histogram\"}],\"scattergl\":[{\"type\":\"scattergl\",\"marker\":{\"colorbar\":{\"outlinewidth\":0,\"ticks\":\"\"}}}],\"scatter3d\":[{\"type\":\"scatter3d\",\"line\":{\"colorbar\":{\"outlinewidth\":0,\"ticks\":\"\"}},\"marker\":{\"colorbar\":{\"outlinewidth\":0,\"ticks\":\"\"}}}],\"scattermapbox\":[{\"type\":\"scattermapbox\",\"marker\":{\"colorbar\":{\"outlinewidth\":0,\"ticks\":\"\"}}}],\"scatterternary\":[{\"type\":\"scatterternary\",\"marker\":{\"colorbar\":{\"outlinewidth\":0,\"ticks\":\"\"}}}],\"scattercarpet\":[{\"type\":\"scattercarpet\",\"marker\":{\"colorbar\":{\"outlinewidth\":0,\"ticks\":\"\"}}}],\"carpet\":[{\"aaxis\":{\"endlinecolor\":\"#2a3f5f\",\"gridcolor\":\"white\",\"linecolor\":\"white\",\"minorgridcolor\":\"white\",\"startlinecolor\":\"#2a3f5f\"},\"baxis\":{\"endlinecolor\":\"#2a3f5f\",\"gridcolor\":\"white\",\"linecolor\":\"white\",\"minorgridcolor\":\"white\",\"startlinecolor\":\"#2a3f5f\"},\"type\":\"carpet\"}],\"table\":[{\"cells\":{\"fill\":{\"color\":\"#EBF0F8\"},\"line\":{\"color\":\"white\"}},\"header\":{\"fill\":{\"color\":\"#C8D4E3\"},\"line\":{\"color\":\"white\"}},\"type\":\"table\"}],\"barpolar\":[{\"marker\":{\"line\":{\"color\":\"#E5ECF6\",\"width\":0.5},\"pattern\":{\"fillmode\":\"overlay\",\"size\":10,\"solidity\":0.2}},\"type\":\"barpolar\"}],\"pie\":[{\"automargin\":true,\"type\":\"pie\"}]},\"layout\":{\"autotypenumbers\":\"strict\",\"colorway\":[\"#636efa\",\"#EF553B\",\"#00cc96\",\"#ab63fa\",\"#FFA15A\",\"#19d3f3\",\"#FF6692\",\"#B6E880\",\"#FF97FF\",\"#FECB52\"],\"font\":{\"color\":\"#2a3f5f\"},\"hovermode\":\"closest\",\"hoverlabel\":{\"align\":\"left\"},\"paper_bgcolor\":\"white\",\"plot_bgcolor\":\"#E5ECF6\",\"polar\":{\"bgcolor\":\"#E5ECF6\",\"angularaxis\":{\"gridcolor\":\"white\",\"linecolor\":\"white\",\"ticks\":\"\"},\"radialaxis\":{\"gridcolor\":\"white\",\"linecolor\":\"white\",\"ticks\":\"\"}},\"ternary\":{\"bgcolor\":\"#E5ECF6\",\"aaxis\":{\"gridcolor\":\"white\",\"linecolor\":\"white\",\"ticks\":\"\"},\"baxis\":{\"gridcolor\":\"white\",\"linecolor\":\"white\",\"ticks\":\"\"},\"caxis\":{\"gridcolor\":\"white\",\"linecolor\":\"white\",\"ticks\":\"\"}},\"coloraxis\":{\"colorbar\":{\"outlinewidth\":0,\"ticks\":\"\"}},\"colorscale\":{\"sequential\":[[0.0,\"#0d0887\"],[0.1111111111111111,\"#46039f\"],[0.2222222222222222,\"#7201a8\"],[0.3333333333333333,\"#9c179e\"],[0.4444444444444444,\"#bd3786\"],[0.5555555555555556,\"#d8576b\"],[0.6666666666666666,\"#ed7953\"],[0.7777777777777778,\"#fb9f3a\"],[0.8888888888888888,\"#fdca26\"],[1.0,\"#f0f921\"]],\"sequentialminus\":[[0.0,\"#0d0887\"],[0.1111111111111111,\"#46039f\"],[0.2222222222222222,\"#7201a8\"],[0.3333333333333333,\"#9c179e\"],[0.4444444444444444,\"#bd3786\"],[0.5555555555555556,\"#d8576b\"],[0.6666666666666666,\"#ed7953\"],[0.7777777777777778,\"#fb9f3a\"],[0.8888888888888888,\"#fdca26\"],[1.0,\"#f0f921\"]],\"diverging\":[[0,\"#8e0152\"],[0.1,\"#c51b7d\"],[0.2,\"#de77ae\"],[0.3,\"#f1b6da\"],[0.4,\"#fde0ef\"],[0.5,\"#f7f7f7\"],[0.6,\"#e6f5d0\"],[0.7,\"#b8e186\"],[0.8,\"#7fbc41\"],[0.9,\"#4d9221\"],[1,\"#276419\"]]},\"xaxis\":{\"gridcolor\":\"white\",\"linecolor\":\"white\",\"ticks\":\"\",\"title\":{\"standoff\":15},\"zerolinecolor\":\"white\",\"automargin\":true,\"zerolinewidth\":2},\"yaxis\":{\"gridcolor\":\"white\",\"linecolor\":\"white\",\"ticks\":\"\",\"title\":{\"standoff\":15},\"zerolinecolor\":\"white\",\"automargin\":true,\"zerolinewidth\":2},\"scene\":{\"xaxis\":{\"backgroundcolor\":\"#E5ECF6\",\"gridcolor\":\"white\",\"linecolor\":\"white\",\"showbackground\":true,\"ticks\":\"\",\"zerolinecolor\":\"white\",\"gridwidth\":2},\"yaxis\":{\"backgroundcolor\":\"#E5ECF6\",\"gridcolor\":\"white\",\"linecolor\":\"white\",\"showbackground\":true,\"ticks\":\"\",\"zerolinecolor\":\"white\",\"gridwidth\":2},\"zaxis\":{\"backgroundcolor\":\"#E5ECF6\",\"gridcolor\":\"white\",\"linecolor\":\"white\",\"showbackground\":true,\"ticks\":\"\",\"zerolinecolor\":\"white\",\"gridwidth\":2}},\"shapedefaults\":{\"line\":{\"color\":\"#2a3f5f\"}},\"annotationdefaults\":{\"arrowcolor\":\"#2a3f5f\",\"arrowhead\":0,\"arrowwidth\":1},\"geo\":{\"bgcolor\":\"white\",\"landcolor\":\"#E5ECF6\",\"subunitcolor\":\"white\",\"showland\":true,\"showlakes\":true,\"lakecolor\":\"white\"},\"title\":{\"x\":0.05},\"mapbox\":{\"style\":\"light\"}}},\"font\":{\"color\":\"white\"},\"title\":{\"text\":\"Comparative Analysis of Top vs. Bottom Performing Countries in GDP per Capita\"},\"xaxis\":{\"title\":{\"text\":\"Year\"}},\"yaxis\":{\"title\":{\"text\":\"GDP per Capita\"}},\"plot_bgcolor\":\"#1f1f1f\",\"paper_bgcolor\":\"#1f1f1f\",\"height\":450},                        {\"responsive\": true}                    ).then(function(){\n",
       "                            \n",
       "var gd = document.getElementById('07c88b47-01aa-4327-932d-6d1550c48bc6');\n",
       "var x = new MutationObserver(function (mutations, observer) {{\n",
       "        var display = window.getComputedStyle(gd).display;\n",
       "        if (!display || display === 'none') {{\n",
       "            console.log([gd, 'removed!']);\n",
       "            Plotly.purge(gd);\n",
       "            observer.disconnect();\n",
       "        }}\n",
       "}});\n",
       "\n",
       "// Listen for the removal of the full notebook cells\n",
       "var notebookContainer = gd.closest('#notebook-container');\n",
       "if (notebookContainer) {{\n",
       "    x.observe(notebookContainer, {childList: true});\n",
       "}}\n",
       "\n",
       "// Listen for the clearing of the current output cell\n",
       "var outputEl = gd.closest('.output');\n",
       "if (outputEl) {{\n",
       "    x.observe(outputEl, {childList: true});\n",
       "}}\n",
       "\n",
       "                        })                };                });            </script>        </div>"
      ]
     },
     "metadata": {},
     "output_type": "display_data"
    }
   ],
   "source": [
    "# Get the latest year available\n",
    "latest_year = df_melted['Year'].max()\n",
    "\n",
    "# Filter data for the latest year\n",
    "latest_data = df_melted[df_melted['Year'] == latest_year]\n",
    "\n",
    "# Identify top and bottom performers\n",
    "top_performers = latest_data.nlargest(1, 'GDP per Capita')['Country'].values\n",
    "bottom_performers = latest_data.nsmallest(1, 'GDP per Capita')['Country'].values\n",
    "\n",
    "\n",
    "# Filter data for the top and bottom performers\n",
    "top_performance_data = df_melted[df_melted['Country'].isin(top_performers)]\n",
    "bottom_performance_data = df_melted[df_melted['Country'].isin(bottom_performers)]\n",
    "\n",
    "# Create the figure\n",
    "fig = go.Figure()\n",
    "\n",
    "# Add traces for top performer\n",
    "for country in top_performers:\n",
    "    country_data = top_performance_data[top_performance_data['Country'] == country]\n",
    "    fig.add_trace(go.Scatter(\n",
    "        x=country_data['Year'],\n",
    "        y=country_data['GDP per Capita'],\n",
    "        mode='lines+markers',\n",
    "        name=f'Top Performer: {country}'\n",
    "    ))\n",
    "\n",
    "# Add traces for bottom performer\n",
    "for country in bottom_performers:\n",
    "    country_data = bottom_performance_data[bottom_performance_data['Country'] == country]\n",
    "    fig.add_trace(go.Scatter(\n",
    "        x=country_data['Year'],\n",
    "        y=country_data['GDP per Capita'],\n",
    "        mode='lines+markers',\n",
    "        name=f'Bottom Performer: {country}'\n",
    "    ))\n",
    "\n",
    "# Update layout\n",
    "fig.update_layout(\n",
    "    title='Comparative Analysis of Top vs. Bottom Performing Countries in GDP per Capita',\n",
    "    xaxis_title='Year',\n",
    "    yaxis_title='GDP per Capita',\n",
    "    plot_bgcolor='#1f1f1f',\n",
    "    paper_bgcolor='#1f1f1f',\n",
    "    height = 450 ,\n",
    "    font=dict(color='white')\n",
    ")\n",
    "\n",
    "# Show the figure\n",
    "fig.show()"
   ]
  },
  {
   "cell_type": "markdown",
   "id": "b7b532ef-7c10-4a35-a2da-e7e331a53e6b",
   "metadata": {},
   "source": [
    "# GROWTH RATE ANALYSIS OF EVERY COUNTRY YEAR BY YEAR :"
   ]
  },
  {
   "cell_type": "code",
   "execution_count": 8,
   "id": "eed76a13-d752-42be-8331-719e84e7c3ea",
   "metadata": {},
   "outputs": [
    {
     "data": {
      "application/vnd.jupyter.widget-view+json": {
       "model_id": "6db5c15bc57946c1b59e69d5aa224324",
       "version_major": 2,
       "version_minor": 0
      },
      "text/plain": [
       "interactive(children=(Dropdown(description='Country:', options=(('Afghanistan', 'Afghanistan'), ('Albania', 'A…"
      ]
     },
     "metadata": {},
     "output_type": "display_data"
    },
    {
     "data": {
      "text/plain": [
       "<function __main__.plot_growth_rate(selected_country)>"
      ]
     },
     "execution_count": 8,
     "metadata": {},
     "output_type": "execute_result"
    }
   ],
   "source": [
    "\n",
    "# Calculate annual growth rate\n",
    "df_melted.sort_values(['Country', 'Year'], inplace=True)\n",
    "df_melted['Annual Growth Rate'] = df_melted.groupby('Country')['GDP per Capita'].pct_change() * 100\n",
    "\n",
    "# Create the interactive chart\n",
    "def plot_growth_rate(selected_country):\n",
    "    filtered_df = df_melted[df_melted['Country'] == selected_country]\n",
    "\n",
    "    # Define colors based on the value of 'Annual Growth Rate'\n",
    "    colors = ['red' if value < 0 else 'blue' for value in filtered_df['Annual Growth Rate']]\n",
    "    \n",
    "    fig = go.Figure()\n",
    "    \n",
    "    fig.add_trace(go.Bar(\n",
    "        x=filtered_df['Year'],\n",
    "        y=filtered_df['Annual Growth Rate'],\n",
    "        marker_color=colors,  # Apply colors,\n",
    "        name=selected_country\n",
    "    ))\n",
    "    \n",
    "    fig.update_layout(\n",
    "        title=f'Annual Growth Rate of GDP per Capita for {selected_country}',\n",
    "        xaxis_title='Year',\n",
    "        yaxis_title='Annual Growth Rate (%)',\n",
    "        plot_bgcolor='#1f1f1f',  # Light background for plot\n",
    "        paper_bgcolor='#1f1f1f',  # Light background for paper\n",
    "        font=dict(color='white'),  # Black font color\n",
    "        height=450\n",
    "    )\n",
    "    \n",
    "    fig.show()\n",
    "\n",
    "# Create a dropdown widget\n",
    "country_dropdown = widgets.Dropdown(\n",
    "    options=[(country, country) for country in df['Country'].unique()],\n",
    "    value=df['Country'].unique()[0],  # Default value\n",
    "    description='Country:',\n",
    ")\n",
    "\n",
    "# Create interactive plot\n",
    "interact(plot_growth_rate, selected_country=country_dropdown)"
   ]
  },
  {
   "cell_type": "markdown",
   "id": "e8b90986-f587-4428-94bb-dff5e81047fb",
   "metadata": {},
   "source": [
    "# Cross-Country Correlation Analysis of Annual GDP per Capita Growth Rates"
   ]
  },
  {
   "cell_type": "code",
   "execution_count": 9,
   "id": "76137226-ef3e-4bec-b921-4bfc4a010865",
   "metadata": {},
   "outputs": [
    {
     "data": {
      "application/vnd.plotly.v1+json": {
       "config": {
        "plotlyServerURL": "https://plot.ly"
       },
       "data": [
        {
         "colorbar": {
          "title": {
           "text": "Correlation"
          }
         },
         "colorscale": [
          [
           0,
           "#000000"
          ],
          [
           0.0625,
           "#001f4d"
          ],
          [
           0.125,
           "#003786"
          ],
          [
           0.1875,
           "#0e58a8"
          ],
          [
           0.25,
           "#217eb8"
          ],
          [
           0.3125,
           "#30a4ca"
          ],
          [
           0.375,
           "#54c8df"
          ],
          [
           0.4375,
           "#9be4ef"
          ],
          [
           0.5,
           "#e1e9d1"
          ],
          [
           0.5625,
           "#f3d573"
          ],
          [
           0.625,
           "#e7b000"
          ],
          [
           0.6875,
           "#da8200"
          ],
          [
           0.75,
           "#c65400"
          ],
          [
           0.8125,
           "#ac2301"
          ],
          [
           0.875,
           "#820000"
          ],
          [
           0.9375,
           "#4c0000"
          ],
          [
           1,
           "#000000"
          ]
         ],
         "hoverongaps": false,
         "type": "heatmap",
         "x": [
          "Afghanistan",
          "Albania",
          "Algeria",
          "Andorra",
          "Angola",
          "Anguilla",
          "Antigua and Barbuda",
          "Argentina",
          "Aruba",
          "Australia",
          "Austria",
          "Bahamas",
          "Bahrain",
          "Bangladesh",
          "Barbados",
          "Belgium",
          "Belize",
          "Benin",
          "Bhutan",
          "Bolivia (Plurinational State of)",
          "Botswana",
          "Brazil",
          "British Virgin Islands",
          "Bulgaria",
          "Burkina Faso",
          "Burundi",
          "Cabo Verde",
          "Cambodia",
          "Cameroon",
          "Canada"
         ],
         "y": [
          "Afghanistan",
          "Albania",
          "Algeria",
          "Andorra",
          "Angola",
          "Anguilla",
          "Antigua and Barbuda",
          "Argentina",
          "Aruba",
          "Australia",
          "Austria",
          "Bahamas",
          "Bahrain",
          "Bangladesh",
          "Barbados",
          "Belgium",
          "Belize",
          "Benin",
          "Bhutan",
          "Bolivia (Plurinational State of)",
          "Botswana",
          "Brazil",
          "British Virgin Islands",
          "Bulgaria",
          "Burkina Faso",
          "Burundi",
          "Cabo Verde",
          "Cambodia",
          "Cameroon",
          "Canada"
         ],
         "z": [
          [
           1,
           0.10489085106516206,
           0.2805540269994568,
           0.19252186566143636,
           0.07655797203181279,
           -0.11218778717021327,
           -0.18280118843928606,
           -0.018224132358660036,
           -0.3410655927024773,
           0.1603811766818496,
           0.13920660608018862,
           0.013979363936715469,
           0.19150097961959883,
           0.13121057712378922,
           0.10992992626691163,
           0.1041655279072147,
           0.002320334282281673,
           0.2898774963706773,
           0.2148396073874597,
           0.2032895269798861,
           0.19031220573775862,
           0.2980974081838762,
           -0.1054651475788596,
           0.245633665394333,
           0.29832843921096347,
           0.1542545085529817,
           0.018022336232154865,
           0.13211104441987,
           0.26095852269172903,
           0.22588879374255338
          ],
          [
           0.10489085106516206,
           1,
           0.18055922513351483,
           0.10368019348496613,
           0.07740409526387243,
           0.048170870534363114,
           -0.11166453904466421,
           -0.25994472310763206,
           0.007370108945528819,
           0.2474069859064555,
           0.047934780115215535,
           0.024015619250140365,
           0.05676932427801953,
           0.027024058456029433,
           -0.03943236386711732,
           0.07697736770126483,
           -0.15798426162656026,
           0.172598781959394,
           0.18250557977392112,
           0.0716471041849691,
           0.051492539967917084,
           0.2303273644049862,
           -0.253199224556284,
           0.49544956587716393,
           0.1387718119100889,
           -0.19985448581493997,
           0.3094924131707592,
           0.2518098514845797,
           0.03850773829019208,
           0.20657228367655556
          ],
          [
           0.2805540269994568,
           0.18055922513351483,
           1,
           0.46633198605141335,
           0.4884279313736476,
           0.3408866405403245,
           0.3633310697458285,
           0.2576680445550037,
           0.09853241469232721,
           0.48321824633934773,
           0.48358878198639366,
           0.4213818391241108,
           0.6689732505147327,
           0.20867193363359476,
           0.5998635322648204,
           0.4649630191714113,
           0.4365317950608728,
           0.4790314142265327,
           0.3308789170174403,
           0.4524290053319105,
           0.4401602344792773,
           0.43315932332276014,
           -0.0447812095092586,
           0.2620607551608754,
           0.5178601542907438,
           0.3849000945347603,
           0.3565131858958458,
           -0.14296313407980446,
           0.5969016236457311,
           0.6397346145726047
          ],
          [
           0.19252186566143636,
           0.10368019348496613,
           0.46633198605141335,
           1,
           0.19855466379236011,
           0.334734535379283,
           0.4249442944746507,
           0.277235181900325,
           0.29466828236991377,
           0.5288762817746941,
           0.8803361057250357,
           0.2510754040249287,
           0.2208931459575385,
           0.2351648981875491,
           0.38814699967195926,
           0.900374012504581,
           0.4768716766785008,
           0.6930371047188688,
           0.2656836239447662,
           0.23265472012368246,
           0.6041156022209948,
           0.37747745944883127,
           0.05034288037749916,
           0.14587554108554726,
           0.736161372237555,
           0.15566463371928965,
           0.8030098984151381,
           0.014282008044745678,
           0.6339094807913855,
           0.45635432072832416
          ],
          [
           0.07655797203181279,
           0.07740409526387243,
           0.4884279313736476,
           0.19855466379236011,
           1,
           0.3843819218804375,
           0.2687280564681231,
           0.2929075577165701,
           0.36124830091593335,
           0.29715820058347214,
           0.048714196168370576,
           0.3715847178769481,
           0.40183129500166404,
           0.028303686843572106,
           0.2394474548195436,
           0.053856498260808267,
           0.25517757925358214,
           -0.05731889949378907,
           0.3024027596418818,
           0.19476237409430042,
           0.21907788572870207,
           0.27197779585801535,
           -0.1262930064493522,
           -0.14382774854053088,
           0.018589448540444246,
           0.34915423600772627,
           0.17012575337377153,
           0.1279009763496524,
           -0.020959531355857486,
           0.473047871278164
          ],
          [
           -0.11218778717021327,
           0.048170870534363114,
           0.3408866405403245,
           0.334734535379283,
           0.3843819218804375,
           1,
           0.6820205312307653,
           0.16986305059617227,
           0.705093799197123,
           0.15162126102630133,
           0.2840506356750279,
           0.5525791919983493,
           0.15950548413295815,
           -0.09462019350282865,
           0.6219762413793372,
           0.2438459135225009,
           0.4245315799183982,
           0.015774698301505317,
           0.19982367933392303,
           0.104477791256694,
           0.33528155928082387,
           0.29028389473494814,
           0.17926577279976855,
           0.12772912088740246,
           0.06324092041371973,
           0.12442524009161686,
           0.43302513565451556,
           0.035865669096864096,
           0.10598187470053601,
           0.3638154044203006
          ],
          [
           -0.18280118843928606,
           -0.11166453904466421,
           0.3633310697458285,
           0.4249442944746507,
           0.2687280564681231,
           0.6820205312307653,
           1,
           0.08391697823280166,
           0.4789438612960279,
           0.34690800533133387,
           0.4519479352938794,
           0.5054080360047402,
           0.24338572150694507,
           -0.06931708594468029,
           0.6676947597820299,
           0.38615655482746625,
           0.7233084214287612,
           0.15623700967214352,
           0.15496980443835587,
           0.01622074673556943,
           0.452969769455608,
           0.28052375504096894,
           0.16257043235643748,
           0.00864738900310161,
           0.22222126060740383,
           0.22655895842093918,
           0.4166404405517906,
           -0.25511723424432514,
           0.3049589744829559,
           0.3125398437670238
          ],
          [
           -0.018224132358660036,
           -0.25994472310763206,
           0.2576680445550037,
           0.277235181900325,
           0.2929075577165701,
           0.16986305059617227,
           0.08391697823280166,
           1,
           0.23823318458224033,
           0.16022644865045968,
           0.2830303218633616,
           0.014290731054478577,
           0.18619588560131559,
           0.011231394221970838,
           0.07765179653340977,
           0.2694244960151733,
           0.15413029876673712,
           0.1548606688994587,
           0.21121575584713495,
           0.24400937335327086,
           0.12291583314312032,
           0.20759701624779356,
           0.1609458597216089,
           -0.09987248121850627,
           0.13052914160482904,
           0.2143313651350576,
           0.2498258622637259,
           0.06461024001809222,
           0.11833306479913182,
           0.2541502161445137
          ],
          [
           -0.3410655927024773,
           0.007370108945528819,
           0.09853241469232721,
           0.29466828236991377,
           0.36124830091593335,
           0.705093799197123,
           0.4789438612960279,
           0.23823318458224033,
           1,
           0.22595059617542046,
           0.21952230680294196,
           0.5054615178912522,
           0.21770405450133645,
           -0.053812986928768,
           0.3894357951352396,
           0.23632131218765856,
           0.3885158142412727,
           -0.08787791065518598,
           0.15317650442338687,
           0.1990563448265561,
           0.3723906189924152,
           0.27314980622739743,
           0.30225446067596673,
           0.010665638135164308,
           -0.07155344746046965,
           0.0021125971321219158,
           0.3656850505046112,
           0.19758015621225974,
           -0.05609872647496714,
           0.40660788538198833
          ],
          [
           0.1603811766818496,
           0.2474069859064555,
           0.48321824633934773,
           0.5288762817746941,
           0.29715820058347214,
           0.15162126102630133,
           0.34690800533133387,
           0.16022644865045968,
           0.22595059617542046,
           1,
           0.4826621301040727,
           0.20258558580113065,
           0.5654430271206721,
           0.22074653256164503,
           0.3883420957298398,
           0.49947742324849415,
           0.46594336078689186,
           0.31955920466924087,
           0.41469508645838027,
           0.3017533587306515,
           0.6486599244188218,
           0.5418726839455723,
           -0.044699496724684096,
           0.19926050060631,
           0.3061711037517975,
           0.1947065541884537,
           0.4946385908727227,
           0.0690223875039848,
           0.34190116183273683,
           0.7545618752306796
          ],
          [
           0.13920660608018862,
           0.047934780115215535,
           0.48358878198639366,
           0.8803361057250357,
           0.048714196168370576,
           0.2840506356750279,
           0.4519479352938794,
           0.2830303218633616,
           0.21952230680294196,
           0.4826621301040727,
           1,
           0.19578225847937852,
           0.27704654768901815,
           0.14400149089271128,
           0.42973809522355094,
           0.9745330958707344,
           0.5293390798546233,
           0.6844845625368575,
           0.23103538734770948,
           0.18599471025886238,
           0.5860708933274403,
           0.38122745322927915,
           0.10345837308928804,
           0.22883558698403791,
           0.6904950486329665,
           0.18643425469854,
           0.7768254207349299,
           -0.07307705688238153,
           0.6865240163247788,
           0.3942122407873809
          ],
          [
           0.013979363936715469,
           0.024015619250140365,
           0.4213818391241108,
           0.2510754040249287,
           0.3715847178769481,
           0.5525791919983493,
           0.5054080360047402,
           0.014290731054478577,
           0.5054615178912522,
           0.20258558580113065,
           0.19578225847937852,
           1,
           0.4143158749432125,
           0.08851206267858203,
           0.6345623473400671,
           0.1480600221007203,
           0.41541271584449285,
           0.07138677881637209,
           0.3211384426705695,
           0.19547865558643793,
           0.36811993587471015,
           0.1619783141442803,
           0.3089312827296572,
           -0.007324128216915777,
           0.03503381071697968,
           0.191897982580731,
           0.17599678072400907,
           -0.11258890377038563,
           0.1194472223916025,
           0.40766196362340723
          ],
          [
           0.19150097961959883,
           0.05676932427801953,
           0.6689732505147327,
           0.2208931459575385,
           0.40183129500166404,
           0.15950548413295815,
           0.24338572150694507,
           0.18619588560131559,
           0.21770405450133645,
           0.5654430271206721,
           0.27704654768901815,
           0.4143158749432125,
           1,
           0.1647436997362023,
           0.537487584765459,
           0.26487865796249555,
           0.450779355366799,
           0.19210757328238473,
           0.20909688141768945,
           0.40291232450922604,
           0.4421504129553851,
           0.4446432232781253,
           0.13585258993485366,
           0.12984327001906598,
           0.10771156769270562,
           0.31581672572446123,
           0.0708794183603412,
           -0.06123274893671533,
           0.31088211907461943,
           0.6948664601136001
          ],
          [
           0.13121057712378922,
           0.027024058456029433,
           0.20867193363359476,
           0.2351648981875491,
           0.028303686843572106,
           -0.09462019350282865,
           -0.06931708594468029,
           0.011231394221970838,
           -0.053812986928768,
           0.22074653256164503,
           0.14400149089271128,
           0.08851206267858203,
           0.1647436997362023,
           1,
           0.0553080057687535,
           0.2331890630334823,
           0.06140549048980225,
           0.2200193320700231,
           0.09326479764931322,
           0.39725398937293677,
           0.12130610403169738,
           0.13871473051853075,
           -0.009562351842725872,
           0.10207268909427145,
           0.2638704266944292,
           0.12787989244969017,
           0.11399955702524546,
           0.25675485005818616,
           0.22904748011227888,
           0.07184427814535387
          ],
          [
           0.10992992626691163,
           -0.03943236386711732,
           0.5998635322648204,
           0.38814699967195926,
           0.2394474548195436,
           0.6219762413793372,
           0.6676947597820299,
           0.07765179653340977,
           0.3894357951352396,
           0.3883420957298398,
           0.42973809522355094,
           0.6345623473400671,
           0.537487584765459,
           0.0553080057687535,
           1,
           0.37792497341087355,
           0.6653315907226502,
           0.2897555502945428,
           0.21991696863502633,
           0.2318249403663144,
           0.5693468971695581,
           0.4024496270762321,
           0.2678929257216247,
           0.08039911131052561,
           0.2301242191944676,
           0.37979619367518186,
           0.3290962021847896,
           -0.213864701385438,
           0.4154155324746554,
           0.5117120470286768
          ],
          [
           0.1041655279072147,
           0.07697736770126483,
           0.4649630191714113,
           0.900374012504581,
           0.053856498260808267,
           0.2438459135225009,
           0.38615655482746625,
           0.2694244960151733,
           0.23632131218765856,
           0.49947742324849415,
           0.9745330958707344,
           0.1480600221007203,
           0.26487865796249555,
           0.2331890630334823,
           0.37792497341087355,
           1,
           0.5075425122408794,
           0.6864659060929598,
           0.2136202916286433,
           0.2058103267670373,
           0.5879979405849529,
           0.393130809611514,
           0.08651303977938643,
           0.2335761002415298,
           0.696898160383284,
           0.1618478245414176,
           0.7786300406204286,
           -0.026621844466515908,
           0.6564168082234256,
           0.39868742151638487
          ],
          [
           0.002320334282281673,
           -0.15798426162656026,
           0.4365317950608728,
           0.4768716766785008,
           0.25517757925358214,
           0.4245315799183982,
           0.7233084214287612,
           0.15413029876673712,
           0.3885158142412727,
           0.46594336078689186,
           0.5293390798546233,
           0.41541271584449285,
           0.450779355366799,
           0.06140549048980225,
           0.6653315907226502,
           0.5075425122408794,
           1,
           0.2987658583324218,
           0.14521347246618074,
           0.16890254539426272,
           0.6839978248100469,
           0.2831203671244324,
           0.22677434712369943,
           0.03830212623762775,
           0.26043948998809485,
           0.15742741719552292,
           0.3537278488738611,
           -0.32823807232798624,
           0.4116451643421541,
           0.3769981613640972
          ],
          [
           0.2898774963706773,
           0.172598781959394,
           0.4790314142265327,
           0.6930371047188688,
           -0.05731889949378907,
           0.015774698301505317,
           0.15623700967214352,
           0.1548606688994587,
           -0.08787791065518598,
           0.31955920466924087,
           0.6844845625368575,
           0.07138677881637209,
           0.19210757328238473,
           0.2200193320700231,
           0.2897555502945428,
           0.6864659060929598,
           0.2987658583324218,
           1,
           0.08784450837590888,
           0.13762075779314834,
           0.3391129580994223,
           0.14471356394437346,
           0.020598528611286963,
           0.3793023804086578,
           0.8610689450781772,
           0.008536527604783153,
           0.6079955577348866,
           -0.010031942262407318,
           0.8522493188390127,
           0.2493032485451413
          ],
          [
           0.2148396073874597,
           0.18250557977392112,
           0.3308789170174403,
           0.2656836239447662,
           0.3024027596418818,
           0.19982367933392303,
           0.15496980443835587,
           0.21121575584713495,
           0.15317650442338687,
           0.41469508645838027,
           0.23103538734770948,
           0.3211384426705695,
           0.20909688141768945,
           0.09326479764931322,
           0.21991696863502633,
           0.2136202916286433,
           0.14521347246618074,
           0.08784450837590888,
           1,
           0.17448923533103688,
           0.27338313918798013,
           0.30265183956563596,
           -0.03219598386973774,
           0.316748995613808,
           0.047939995975484935,
           0.15656839405080372,
           0.3529267400436879,
           0.06544629087838012,
           -0.01443982978864807,
           0.38185922049531823
          ],
          [
           0.2032895269798861,
           0.0716471041849691,
           0.4524290053319105,
           0.23265472012368246,
           0.19476237409430042,
           0.104477791256694,
           0.01622074673556943,
           0.24400937335327086,
           0.1990563448265561,
           0.3017533587306515,
           0.18599471025886238,
           0.19547865558643793,
           0.40291232450922604,
           0.39725398937293677,
           0.2318249403663144,
           0.2058103267670373,
           0.16890254539426272,
           0.13762075779314834,
           0.17448923533103688,
           1,
           0.18485342183995773,
           0.4465558028597746,
           0.020961499442783794,
           0.0981434844560652,
           0.1865938454230175,
           0.15914638505411127,
           0.12188016218036418,
           0.2802488631681081,
           0.07046905151141056,
           0.45218206153229273
          ],
          [
           0.19031220573775862,
           0.051492539967917084,
           0.4401602344792773,
           0.6041156022209948,
           0.21907788572870207,
           0.33528155928082387,
           0.452969769455608,
           0.12291583314312032,
           0.3723906189924152,
           0.6486599244188218,
           0.5860708933274403,
           0.36811993587471015,
           0.4421504129553851,
           0.12130610403169738,
           0.5693468971695581,
           0.5879979405849529,
           0.6839978248100469,
           0.3391129580994223,
           0.27338313918798013,
           0.18485342183995773,
           1,
           0.4481501321133908,
           0.0928483086037292,
           0.07473899008279765,
           0.3619580058611363,
           0.17383701525745526,
           0.4534474345757281,
           -0.1696440829647179,
           0.4201314415110477,
           0.6284388957542402
          ],
          [
           0.2980974081838762,
           0.2303273644049862,
           0.43315932332276014,
           0.37747745944883127,
           0.27197779585801535,
           0.29028389473494814,
           0.28052375504096894,
           0.20759701624779356,
           0.27314980622739743,
           0.5418726839455723,
           0.38122745322927915,
           0.1619783141442803,
           0.4446432232781253,
           0.13871473051853075,
           0.4024496270762321,
           0.393130809611514,
           0.2831203671244324,
           0.14471356394437346,
           0.30265183956563596,
           0.4465558028597746,
           0.4481501321133908,
           1,
           0.12544828305298875,
           0.28336039971227417,
           0.14245459044500902,
           0.3876542002513238,
           0.3620887424991723,
           0.05205607946385909,
           0.09999887477585087,
           0.5142474199937191
          ],
          [
           -0.1054651475788596,
           -0.253199224556284,
           -0.0447812095092586,
           0.05034288037749916,
           -0.1262930064493522,
           0.17926577279976855,
           0.16257043235643748,
           0.1609458597216089,
           0.30225446067596673,
           -0.044699496724684096,
           0.10345837308928804,
           0.3089312827296572,
           0.13585258993485366,
           -0.009562351842725872,
           0.2678929257216247,
           0.08651303977938643,
           0.22677434712369943,
           0.020598528611286963,
           -0.03219598386973774,
           0.020961499442783794,
           0.0928483086037292,
           0.12544828305298875,
           1,
           -0.09314063317298332,
           -0.14686589232616645,
           0.014939880936432944,
           0.018206996164376495,
           -0.022754318201841317,
           -0.0783330007826443,
           -0.03469823535146237
          ],
          [
           0.245633665394333,
           0.49544956587716393,
           0.2620607551608754,
           0.14587554108554726,
           -0.14382774854053088,
           0.12772912088740246,
           0.00864738900310161,
           -0.09987248121850627,
           0.010665638135164308,
           0.19926050060631,
           0.22883558698403791,
           -0.007324128216915777,
           0.12984327001906598,
           0.10207268909427145,
           0.08039911131052561,
           0.2335761002415298,
           0.03830212623762775,
           0.3793023804086578,
           0.316748995613808,
           0.0981434844560652,
           0.07473899008279765,
           0.28336039971227417,
           -0.09314063317298332,
           1,
           0.2590435451568418,
           -0.10074238707061917,
           0.3449407309540023,
           0.05425401492246563,
           0.26678751085837377,
           0.17874527788679626
          ],
          [
           0.29832843921096347,
           0.1387718119100889,
           0.5178601542907438,
           0.736161372237555,
           0.018589448540444246,
           0.06324092041371973,
           0.22222126060740383,
           0.13052914160482904,
           -0.07155344746046965,
           0.3061711037517975,
           0.6904950486329665,
           0.03503381071697968,
           0.10771156769270562,
           0.2638704266944292,
           0.2301242191944676,
           0.696898160383284,
           0.26043948998809485,
           0.8610689450781772,
           0.047939995975484935,
           0.1865938454230175,
           0.3619580058611363,
           0.14245459044500902,
           -0.14686589232616645,
           0.2590435451568418,
           1,
           0.15885226006414413,
           0.5617996784922866,
           -0.01071845300615195,
           0.8434757134565524,
           0.26635597905341707
          ],
          [
           0.1542545085529817,
           -0.19985448581493997,
           0.3849000945347603,
           0.15566463371928965,
           0.34915423600772627,
           0.12442524009161686,
           0.22655895842093918,
           0.2143313651350576,
           0.0021125971321219158,
           0.1947065541884537,
           0.18643425469854,
           0.191897982580731,
           0.31581672572446123,
           0.12787989244969017,
           0.37979619367518186,
           0.1618478245414176,
           0.15742741719552292,
           0.008536527604783153,
           0.15656839405080372,
           0.15914638505411127,
           0.17383701525745526,
           0.3876542002513238,
           0.014939880936432944,
           -0.10074238707061917,
           0.15885226006414413,
           1,
           0.049041859200499804,
           -0.03997527820840229,
           0.19011485555795596,
           0.25062055969947655
          ],
          [
           0.018022336232154865,
           0.3094924131707592,
           0.3565131858958458,
           0.8030098984151381,
           0.17012575337377153,
           0.43302513565451556,
           0.4166404405517906,
           0.2498258622637259,
           0.3656850505046112,
           0.4946385908727227,
           0.7768254207349299,
           0.17599678072400907,
           0.0708794183603412,
           0.11399955702524546,
           0.3290962021847896,
           0.7786300406204286,
           0.3537278488738611,
           0.6079955577348866,
           0.3529267400436879,
           0.12188016218036418,
           0.4534474345757281,
           0.3620887424991723,
           0.018206996164376495,
           0.3449407309540023,
           0.5617996784922866,
           0.049041859200499804,
           1,
           0.20623469077582712,
           0.5180038601300959,
           0.3694592545648104
          ],
          [
           0.13211104441987,
           0.2518098514845797,
           -0.14296313407980446,
           0.014282008044745678,
           0.1279009763496524,
           0.035865669096864096,
           -0.25511723424432514,
           0.06461024001809222,
           0.19758015621225974,
           0.0690223875039848,
           -0.07307705688238153,
           -0.11258890377038563,
           -0.06123274893671533,
           0.25675485005818616,
           -0.213864701385438,
           -0.026621844466515908,
           -0.32823807232798624,
           -0.010031942262407318,
           0.06544629087838012,
           0.2802488631681081,
           -0.1696440829647179,
           0.05205607946385909,
           -0.022754318201841317,
           0.05425401492246563,
           -0.01071845300615195,
           -0.03997527820840229,
           0.20623469077582712,
           1,
           -0.1426993444487149,
           0.16027048729562848
          ],
          [
           0.26095852269172903,
           0.03850773829019208,
           0.5969016236457311,
           0.6339094807913855,
           -0.020959531355857486,
           0.10598187470053601,
           0.3049589744829559,
           0.11833306479913182,
           -0.05609872647496714,
           0.34190116183273683,
           0.6865240163247788,
           0.1194472223916025,
           0.31088211907461943,
           0.22904748011227888,
           0.4154155324746554,
           0.6564168082234256,
           0.4116451643421541,
           0.8522493188390127,
           -0.01443982978864807,
           0.07046905151141056,
           0.4201314415110477,
           0.09999887477585087,
           -0.0783330007826443,
           0.26678751085837377,
           0.8434757134565524,
           0.19011485555795596,
           0.5180038601300959,
           -0.1426993444487149,
           1,
           0.30589493064786866
          ],
          [
           0.22588879374255338,
           0.20657228367655556,
           0.6397346145726047,
           0.45635432072832416,
           0.473047871278164,
           0.3638154044203006,
           0.3125398437670238,
           0.2541502161445137,
           0.40660788538198833,
           0.7545618752306796,
           0.3942122407873809,
           0.40766196362340723,
           0.6948664601136001,
           0.07184427814535387,
           0.5117120470286768,
           0.39868742151638487,
           0.3769981613640972,
           0.2493032485451413,
           0.38185922049531823,
           0.45218206153229273,
           0.6284388957542402,
           0.5142474199937191,
           -0.03469823535146237,
           0.17874527788679626,
           0.26635597905341707,
           0.25062055969947655,
           0.3694592545648104,
           0.16027048729562848,
           0.30589493064786866,
           1
          ]
         ],
         "zmax": 1,
         "zmin": -1
        }
       ],
       "layout": {
        "autosize": true,
        "template": {
         "data": {
          "bar": [
           {
            "error_x": {
             "color": "#2a3f5f"
            },
            "error_y": {
             "color": "#2a3f5f"
            },
            "marker": {
             "line": {
              "color": "#E5ECF6",
              "width": 0.5
             },
             "pattern": {
              "fillmode": "overlay",
              "size": 10,
              "solidity": 0.2
             }
            },
            "type": "bar"
           }
          ],
          "barpolar": [
           {
            "marker": {
             "line": {
              "color": "#E5ECF6",
              "width": 0.5
             },
             "pattern": {
              "fillmode": "overlay",
              "size": 10,
              "solidity": 0.2
             }
            },
            "type": "barpolar"
           }
          ],
          "carpet": [
           {
            "aaxis": {
             "endlinecolor": "#2a3f5f",
             "gridcolor": "white",
             "linecolor": "white",
             "minorgridcolor": "white",
             "startlinecolor": "#2a3f5f"
            },
            "baxis": {
             "endlinecolor": "#2a3f5f",
             "gridcolor": "white",
             "linecolor": "white",
             "minorgridcolor": "white",
             "startlinecolor": "#2a3f5f"
            },
            "type": "carpet"
           }
          ],
          "choropleth": [
           {
            "colorbar": {
             "outlinewidth": 0,
             "ticks": ""
            },
            "type": "choropleth"
           }
          ],
          "contour": [
           {
            "colorbar": {
             "outlinewidth": 0,
             "ticks": ""
            },
            "colorscale": [
             [
              0,
              "#0d0887"
             ],
             [
              0.1111111111111111,
              "#46039f"
             ],
             [
              0.2222222222222222,
              "#7201a8"
             ],
             [
              0.3333333333333333,
              "#9c179e"
             ],
             [
              0.4444444444444444,
              "#bd3786"
             ],
             [
              0.5555555555555556,
              "#d8576b"
             ],
             [
              0.6666666666666666,
              "#ed7953"
             ],
             [
              0.7777777777777778,
              "#fb9f3a"
             ],
             [
              0.8888888888888888,
              "#fdca26"
             ],
             [
              1,
              "#f0f921"
             ]
            ],
            "type": "contour"
           }
          ],
          "contourcarpet": [
           {
            "colorbar": {
             "outlinewidth": 0,
             "ticks": ""
            },
            "type": "contourcarpet"
           }
          ],
          "heatmap": [
           {
            "colorbar": {
             "outlinewidth": 0,
             "ticks": ""
            },
            "colorscale": [
             [
              0,
              "#0d0887"
             ],
             [
              0.1111111111111111,
              "#46039f"
             ],
             [
              0.2222222222222222,
              "#7201a8"
             ],
             [
              0.3333333333333333,
              "#9c179e"
             ],
             [
              0.4444444444444444,
              "#bd3786"
             ],
             [
              0.5555555555555556,
              "#d8576b"
             ],
             [
              0.6666666666666666,
              "#ed7953"
             ],
             [
              0.7777777777777778,
              "#fb9f3a"
             ],
             [
              0.8888888888888888,
              "#fdca26"
             ],
             [
              1,
              "#f0f921"
             ]
            ],
            "type": "heatmap"
           }
          ],
          "heatmapgl": [
           {
            "colorbar": {
             "outlinewidth": 0,
             "ticks": ""
            },
            "colorscale": [
             [
              0,
              "#0d0887"
             ],
             [
              0.1111111111111111,
              "#46039f"
             ],
             [
              0.2222222222222222,
              "#7201a8"
             ],
             [
              0.3333333333333333,
              "#9c179e"
             ],
             [
              0.4444444444444444,
              "#bd3786"
             ],
             [
              0.5555555555555556,
              "#d8576b"
             ],
             [
              0.6666666666666666,
              "#ed7953"
             ],
             [
              0.7777777777777778,
              "#fb9f3a"
             ],
             [
              0.8888888888888888,
              "#fdca26"
             ],
             [
              1,
              "#f0f921"
             ]
            ],
            "type": "heatmapgl"
           }
          ],
          "histogram": [
           {
            "marker": {
             "pattern": {
              "fillmode": "overlay",
              "size": 10,
              "solidity": 0.2
             }
            },
            "type": "histogram"
           }
          ],
          "histogram2d": [
           {
            "colorbar": {
             "outlinewidth": 0,
             "ticks": ""
            },
            "colorscale": [
             [
              0,
              "#0d0887"
             ],
             [
              0.1111111111111111,
              "#46039f"
             ],
             [
              0.2222222222222222,
              "#7201a8"
             ],
             [
              0.3333333333333333,
              "#9c179e"
             ],
             [
              0.4444444444444444,
              "#bd3786"
             ],
             [
              0.5555555555555556,
              "#d8576b"
             ],
             [
              0.6666666666666666,
              "#ed7953"
             ],
             [
              0.7777777777777778,
              "#fb9f3a"
             ],
             [
              0.8888888888888888,
              "#fdca26"
             ],
             [
              1,
              "#f0f921"
             ]
            ],
            "type": "histogram2d"
           }
          ],
          "histogram2dcontour": [
           {
            "colorbar": {
             "outlinewidth": 0,
             "ticks": ""
            },
            "colorscale": [
             [
              0,
              "#0d0887"
             ],
             [
              0.1111111111111111,
              "#46039f"
             ],
             [
              0.2222222222222222,
              "#7201a8"
             ],
             [
              0.3333333333333333,
              "#9c179e"
             ],
             [
              0.4444444444444444,
              "#bd3786"
             ],
             [
              0.5555555555555556,
              "#d8576b"
             ],
             [
              0.6666666666666666,
              "#ed7953"
             ],
             [
              0.7777777777777778,
              "#fb9f3a"
             ],
             [
              0.8888888888888888,
              "#fdca26"
             ],
             [
              1,
              "#f0f921"
             ]
            ],
            "type": "histogram2dcontour"
           }
          ],
          "mesh3d": [
           {
            "colorbar": {
             "outlinewidth": 0,
             "ticks": ""
            },
            "type": "mesh3d"
           }
          ],
          "parcoords": [
           {
            "line": {
             "colorbar": {
              "outlinewidth": 0,
              "ticks": ""
             }
            },
            "type": "parcoords"
           }
          ],
          "pie": [
           {
            "automargin": true,
            "type": "pie"
           }
          ],
          "scatter": [
           {
            "fillpattern": {
             "fillmode": "overlay",
             "size": 10,
             "solidity": 0.2
            },
            "type": "scatter"
           }
          ],
          "scatter3d": [
           {
            "line": {
             "colorbar": {
              "outlinewidth": 0,
              "ticks": ""
             }
            },
            "marker": {
             "colorbar": {
              "outlinewidth": 0,
              "ticks": ""
             }
            },
            "type": "scatter3d"
           }
          ],
          "scattercarpet": [
           {
            "marker": {
             "colorbar": {
              "outlinewidth": 0,
              "ticks": ""
             }
            },
            "type": "scattercarpet"
           }
          ],
          "scattergeo": [
           {
            "marker": {
             "colorbar": {
              "outlinewidth": 0,
              "ticks": ""
             }
            },
            "type": "scattergeo"
           }
          ],
          "scattergl": [
           {
            "marker": {
             "colorbar": {
              "outlinewidth": 0,
              "ticks": ""
             }
            },
            "type": "scattergl"
           }
          ],
          "scattermapbox": [
           {
            "marker": {
             "colorbar": {
              "outlinewidth": 0,
              "ticks": ""
             }
            },
            "type": "scattermapbox"
           }
          ],
          "scatterpolar": [
           {
            "marker": {
             "colorbar": {
              "outlinewidth": 0,
              "ticks": ""
             }
            },
            "type": "scatterpolar"
           }
          ],
          "scatterpolargl": [
           {
            "marker": {
             "colorbar": {
              "outlinewidth": 0,
              "ticks": ""
             }
            },
            "type": "scatterpolargl"
           }
          ],
          "scatterternary": [
           {
            "marker": {
             "colorbar": {
              "outlinewidth": 0,
              "ticks": ""
             }
            },
            "type": "scatterternary"
           }
          ],
          "surface": [
           {
            "colorbar": {
             "outlinewidth": 0,
             "ticks": ""
            },
            "colorscale": [
             [
              0,
              "#0d0887"
             ],
             [
              0.1111111111111111,
              "#46039f"
             ],
             [
              0.2222222222222222,
              "#7201a8"
             ],
             [
              0.3333333333333333,
              "#9c179e"
             ],
             [
              0.4444444444444444,
              "#bd3786"
             ],
             [
              0.5555555555555556,
              "#d8576b"
             ],
             [
              0.6666666666666666,
              "#ed7953"
             ],
             [
              0.7777777777777778,
              "#fb9f3a"
             ],
             [
              0.8888888888888888,
              "#fdca26"
             ],
             [
              1,
              "#f0f921"
             ]
            ],
            "type": "surface"
           }
          ],
          "table": [
           {
            "cells": {
             "fill": {
              "color": "#EBF0F8"
             },
             "line": {
              "color": "white"
             }
            },
            "header": {
             "fill": {
              "color": "#C8D4E3"
             },
             "line": {
              "color": "white"
             }
            },
            "type": "table"
           }
          ]
         },
         "layout": {
          "annotationdefaults": {
           "arrowcolor": "#2a3f5f",
           "arrowhead": 0,
           "arrowwidth": 1
          },
          "autotypenumbers": "strict",
          "coloraxis": {
           "colorbar": {
            "outlinewidth": 0,
            "ticks": ""
           }
          },
          "colorscale": {
           "diverging": [
            [
             0,
             "#8e0152"
            ],
            [
             0.1,
             "#c51b7d"
            ],
            [
             0.2,
             "#de77ae"
            ],
            [
             0.3,
             "#f1b6da"
            ],
            [
             0.4,
             "#fde0ef"
            ],
            [
             0.5,
             "#f7f7f7"
            ],
            [
             0.6,
             "#e6f5d0"
            ],
            [
             0.7,
             "#b8e186"
            ],
            [
             0.8,
             "#7fbc41"
            ],
            [
             0.9,
             "#4d9221"
            ],
            [
             1,
             "#276419"
            ]
           ],
           "sequential": [
            [
             0,
             "#0d0887"
            ],
            [
             0.1111111111111111,
             "#46039f"
            ],
            [
             0.2222222222222222,
             "#7201a8"
            ],
            [
             0.3333333333333333,
             "#9c179e"
            ],
            [
             0.4444444444444444,
             "#bd3786"
            ],
            [
             0.5555555555555556,
             "#d8576b"
            ],
            [
             0.6666666666666666,
             "#ed7953"
            ],
            [
             0.7777777777777778,
             "#fb9f3a"
            ],
            [
             0.8888888888888888,
             "#fdca26"
            ],
            [
             1,
             "#f0f921"
            ]
           ],
           "sequentialminus": [
            [
             0,
             "#0d0887"
            ],
            [
             0.1111111111111111,
             "#46039f"
            ],
            [
             0.2222222222222222,
             "#7201a8"
            ],
            [
             0.3333333333333333,
             "#9c179e"
            ],
            [
             0.4444444444444444,
             "#bd3786"
            ],
            [
             0.5555555555555556,
             "#d8576b"
            ],
            [
             0.6666666666666666,
             "#ed7953"
            ],
            [
             0.7777777777777778,
             "#fb9f3a"
            ],
            [
             0.8888888888888888,
             "#fdca26"
            ],
            [
             1,
             "#f0f921"
            ]
           ]
          },
          "colorway": [
           "#636efa",
           "#EF553B",
           "#00cc96",
           "#ab63fa",
           "#FFA15A",
           "#19d3f3",
           "#FF6692",
           "#B6E880",
           "#FF97FF",
           "#FECB52"
          ],
          "font": {
           "color": "#2a3f5f"
          },
          "geo": {
           "bgcolor": "white",
           "lakecolor": "white",
           "landcolor": "#E5ECF6",
           "showlakes": true,
           "showland": true,
           "subunitcolor": "white"
          },
          "hoverlabel": {
           "align": "left"
          },
          "hovermode": "closest",
          "mapbox": {
           "style": "light"
          },
          "paper_bgcolor": "white",
          "plot_bgcolor": "#E5ECF6",
          "polar": {
           "angularaxis": {
            "gridcolor": "white",
            "linecolor": "white",
            "ticks": ""
           },
           "bgcolor": "#E5ECF6",
           "radialaxis": {
            "gridcolor": "white",
            "linecolor": "white",
            "ticks": ""
           }
          },
          "scene": {
           "xaxis": {
            "backgroundcolor": "#E5ECF6",
            "gridcolor": "white",
            "gridwidth": 2,
            "linecolor": "white",
            "showbackground": true,
            "ticks": "",
            "zerolinecolor": "white"
           },
           "yaxis": {
            "backgroundcolor": "#E5ECF6",
            "gridcolor": "white",
            "gridwidth": 2,
            "linecolor": "white",
            "showbackground": true,
            "ticks": "",
            "zerolinecolor": "white"
           },
           "zaxis": {
            "backgroundcolor": "#E5ECF6",
            "gridcolor": "white",
            "gridwidth": 2,
            "linecolor": "white",
            "showbackground": true,
            "ticks": "",
            "zerolinecolor": "white"
           }
          },
          "shapedefaults": {
           "line": {
            "color": "#2a3f5f"
           }
          },
          "ternary": {
           "aaxis": {
            "gridcolor": "white",
            "linecolor": "white",
            "ticks": ""
           },
           "baxis": {
            "gridcolor": "white",
            "linecolor": "white",
            "ticks": ""
           },
           "bgcolor": "#E5ECF6",
           "caxis": {
            "gridcolor": "white",
            "linecolor": "white",
            "ticks": ""
           }
          },
          "title": {
           "x": 0.05
          },
          "xaxis": {
           "automargin": true,
           "gridcolor": "white",
           "linecolor": "white",
           "ticks": "",
           "title": {
            "standoff": 15
           },
           "zerolinecolor": "white",
           "zerolinewidth": 2
          },
          "yaxis": {
           "automargin": true,
           "gridcolor": "white",
           "linecolor": "white",
           "ticks": "",
           "title": {
            "standoff": 15
           },
           "zerolinecolor": "white",
           "zerolinewidth": 2
          }
         }
        },
        "title": {
         "text": "Cross-Country Correlation of Annual GDP per Capita Growth Rates (Top 30 Countries)"
        },
        "xaxis": {
         "autorange": true,
         "range": [
          -0.5,
          29.5
         ],
         "tickangle": -45,
         "ticktext": [
          "Afghanistan",
          "Albania",
          "Algeria",
          "Andorra",
          "Angola",
          "Anguilla",
          "Antigua and Barbuda",
          "Argentina",
          "Aruba",
          "Australia",
          "Austria",
          "Bahamas",
          "Bahrain",
          "Bangladesh",
          "Barbados",
          "Belgium",
          "Belize",
          "Benin",
          "Bhutan",
          "Bolivia (Plurinational State of)",
          "Botswana",
          "Brazil",
          "British Virgin Islands",
          "Bulgaria",
          "Burkina Faso",
          "Burundi",
          "Cabo Verde",
          "Cambodia",
          "Cameroon",
          "Canada"
         ],
         "tickvals": [
          0,
          1,
          2,
          3,
          4,
          5,
          6,
          7,
          8,
          9,
          10,
          11,
          12,
          13,
          14,
          15,
          16,
          17,
          18,
          19,
          20,
          21,
          22,
          23,
          24,
          25,
          26,
          27,
          28,
          29
         ],
         "title": {
          "text": "Country"
         },
         "type": "category"
        },
        "yaxis": {
         "autorange": true,
         "range": [
          -0.5,
          29.5
         ],
         "ticktext": [
          "Afghanistan",
          "Albania",
          "Algeria",
          "Andorra",
          "Angola",
          "Anguilla",
          "Antigua and Barbuda",
          "Argentina",
          "Aruba",
          "Australia",
          "Austria",
          "Bahamas",
          "Bahrain",
          "Bangladesh",
          "Barbados",
          "Belgium",
          "Belize",
          "Benin",
          "Bhutan",
          "Bolivia (Plurinational State of)",
          "Botswana",
          "Brazil",
          "British Virgin Islands",
          "Bulgaria",
          "Burkina Faso",
          "Burundi",
          "Cabo Verde",
          "Cambodia",
          "Cameroon",
          "Canada"
         ],
         "tickvals": [
          0,
          1,
          2,
          3,
          4,
          5,
          6,
          7,
          8,
          9,
          10,
          11,
          12,
          13,
          14,
          15,
          16,
          17,
          18,
          19,
          20,
          21,
          22,
          23,
          24,
          25,
          26,
          27,
          28,
          29
         ],
         "title": {
          "text": "Country"
         },
         "type": "category"
        }
       }
      },
      "image/png": "[encoded data removed]",
      "text/html": [
       "<div>                            <div id=\"2a3d717d-7139-4009-9763-3fec33c8ed14\" class=\"plotly-graph-div\" style=\"height:600px; width:100%;\"></div>            <script type=\"text/javascript\">                require([\"plotly\"], function(Plotly) {                    window.PLOTLYENV=window.PLOTLYENV || {};                                    if (document.getElementById(\"2a3d717d-7139-4009-9763-3fec33c8ed14\")) {                    Plotly.newPlot(                        \"2a3d717d-7139-4009-9763-3fec33c8ed14\",                        [{\"colorbar\":{\"title\":{\"text\":\"Correlation\"}},\"colorscale\":[[0.0,\"#000000\"],[0.0625,\"#001f4d\"],[0.125,\"#003786\"],[0.1875,\"#0e58a8\"],[0.25,\"#217eb8\"],[0.3125,\"#30a4ca\"],[0.375,\"#54c8df\"],[0.4375,\"#9be4ef\"],[0.5,\"#e1e9d1\"],[0.5625,\"#f3d573\"],[0.625,\"#e7b000\"],[0.6875,\"#da8200\"],[0.75,\"#c65400\"],[0.8125,\"#ac2301\"],[0.875,\"#820000\"],[0.9375,\"#4c0000\"],[1.0,\"#000000\"]],\"hoverongaps\":false,\"x\":[\"Afghanistan\",\"Albania\",\"Algeria\",\"Andorra\",\"Angola\",\"Anguilla\",\"Antigua and Barbuda\",\"Argentina\",\"Aruba\",\"Australia\",\"Austria\",\"Bahamas\",\"Bahrain\",\"Bangladesh\",\"Barbados\",\"Belgium\",\"Belize\",\"Benin\",\"Bhutan\",\"Bolivia (Plurinational State of)\",\"Botswana\",\"Brazil\",\"British Virgin Islands\",\"Bulgaria\",\"Burkina Faso\",\"Burundi\",\"Cabo Verde\",\"Cambodia\",\"Cameroon\",\"Canada\"],\"y\":[\"Afghanistan\",\"Albania\",\"Algeria\",\"Andorra\",\"Angola\",\"Anguilla\",\"Antigua and Barbuda\",\"Argentina\",\"Aruba\",\"Australia\",\"Austria\",\"Bahamas\",\"Bahrain\",\"Bangladesh\",\"Barbados\",\"Belgium\",\"Belize\",\"Benin\",\"Bhutan\",\"Bolivia (Plurinational State of)\",\"Botswana\",\"Brazil\",\"British Virgin Islands\",\"Bulgaria\",\"Burkina Faso\",\"Burundi\",\"Cabo Verde\",\"Cambodia\",\"Cameroon\",\"Canada\"],\"z\":[[1.0,0.10489085106516206,0.2805540269994568,0.19252186566143636,0.07655797203181279,-0.11218778717021327,-0.18280118843928606,-0.018224132358660036,-0.3410655927024773,0.1603811766818496,0.13920660608018862,0.013979363936715469,0.19150097961959883,0.13121057712378922,0.10992992626691163,0.1041655279072147,0.002320334282281673,0.2898774963706773,0.2148396073874597,0.2032895269798861,0.19031220573775862,0.2980974081838762,-0.1054651475788596,0.245633665394333,0.29832843921096347,0.1542545085529817,0.018022336232154865,0.13211104441987,0.26095852269172903,0.22588879374255338],[0.10489085106516206,1.0,0.18055922513351483,0.10368019348496613,0.07740409526387243,0.048170870534363114,-0.11166453904466421,-0.25994472310763206,0.007370108945528819,0.2474069859064555,0.047934780115215535,0.024015619250140365,0.05676932427801953,0.027024058456029433,-0.03943236386711732,0.07697736770126483,-0.15798426162656026,0.172598781959394,0.18250557977392112,0.0716471041849691,0.051492539967917084,0.2303273644049862,-0.253199224556284,0.49544956587716393,0.1387718119100889,-0.19985448581493997,0.3094924131707592,0.2518098514845797,0.03850773829019208,0.20657228367655556],[0.2805540269994568,0.18055922513351483,1.0,0.46633198605141335,0.4884279313736476,0.3408866405403245,0.3633310697458285,0.2576680445550037,0.09853241469232721,0.48321824633934773,0.48358878198639366,0.4213818391241108,0.6689732505147327,0.20867193363359476,0.5998635322648204,0.4649630191714113,0.4365317950608728,0.4790314142265327,0.3308789170174403,0.4524290053319105,0.4401602344792773,0.43315932332276014,-0.0447812095092586,0.2620607551608754,0.5178601542907438,0.3849000945347603,0.3565131858958458,-0.14296313407980446,0.5969016236457311,0.6397346145726047],[0.19252186566143636,0.10368019348496613,0.46633198605141335,1.0,0.19855466379236011,0.334734535379283,0.4249442944746507,0.277235181900325,0.29466828236991377,0.5288762817746941,0.8803361057250357,0.2510754040249287,0.2208931459575385,0.2351648981875491,0.38814699967195926,0.900374012504581,0.4768716766785008,0.6930371047188688,0.2656836239447662,0.23265472012368246,0.6041156022209948,0.37747745944883127,0.05034288037749916,0.14587554108554726,0.736161372237555,0.15566463371928965,0.8030098984151381,0.014282008044745678,0.6339094807913855,0.45635432072832416],[0.07655797203181279,0.07740409526387243,0.4884279313736476,0.19855466379236011,1.0,0.3843819218804375,0.2687280564681231,0.2929075577165701,0.36124830091593335,0.29715820058347214,0.048714196168370576,0.3715847178769481,0.40183129500166404,0.028303686843572106,0.2394474548195436,0.053856498260808267,0.25517757925358214,-0.05731889949378907,0.3024027596418818,0.19476237409430042,0.21907788572870207,0.27197779585801535,-0.1262930064493522,-0.14382774854053088,0.018589448540444246,0.34915423600772627,0.17012575337377153,0.1279009763496524,-0.020959531355857486,0.473047871278164],[-0.11218778717021327,0.048170870534363114,0.3408866405403245,0.334734535379283,0.3843819218804375,1.0,0.6820205312307653,0.16986305059617227,0.705093799197123,0.15162126102630133,0.2840506356750279,0.5525791919983493,0.15950548413295815,-0.09462019350282865,0.6219762413793372,0.2438459135225009,0.4245315799183982,0.015774698301505317,0.19982367933392303,0.104477791256694,0.33528155928082387,0.29028389473494814,0.17926577279976855,0.12772912088740246,0.06324092041371973,0.12442524009161686,0.43302513565451556,0.035865669096864096,0.10598187470053601,0.3638154044203006],[-0.18280118843928606,-0.11166453904466421,0.3633310697458285,0.4249442944746507,0.2687280564681231,0.6820205312307653,1.0,0.08391697823280166,0.4789438612960279,0.34690800533133387,0.4519479352938794,0.5054080360047402,0.24338572150694507,-0.06931708594468029,0.6676947597820299,0.38615655482746625,0.7233084214287612,0.15623700967214352,0.15496980443835587,0.01622074673556943,0.452969769455608,0.28052375504096894,0.16257043235643748,0.00864738900310161,0.22222126060740383,0.22655895842093918,0.4166404405517906,-0.25511723424432514,0.3049589744829559,0.3125398437670238],[-0.018224132358660036,-0.25994472310763206,0.2576680445550037,0.277235181900325,0.2929075577165701,0.16986305059617227,0.08391697823280166,1.0,0.23823318458224033,0.16022644865045968,0.2830303218633616,0.014290731054478577,0.18619588560131559,0.011231394221970838,0.07765179653340977,0.2694244960151733,0.15413029876673712,0.1548606688994587,0.21121575584713495,0.24400937335327086,0.12291583314312032,0.20759701624779356,0.1609458597216089,-0.09987248121850627,0.13052914160482904,0.2143313651350576,0.2498258622637259,0.06461024001809222,0.11833306479913182,0.2541502161445137],[-0.3410655927024773,0.007370108945528819,0.09853241469232721,0.29466828236991377,0.36124830091593335,0.705093799197123,0.4789438612960279,0.23823318458224033,1.0,0.22595059617542046,0.21952230680294196,0.5054615178912522,0.21770405450133645,-0.053812986928768,0.3894357951352396,0.23632131218765856,0.3885158142412727,-0.08787791065518598,0.15317650442338687,0.1990563448265561,0.3723906189924152,0.27314980622739743,0.30225446067596673,0.010665638135164308,-0.07155344746046965,0.0021125971321219158,0.3656850505046112,0.19758015621225974,-0.05609872647496714,0.40660788538198833],[0.1603811766818496,0.2474069859064555,0.48321824633934773,0.5288762817746941,0.29715820058347214,0.15162126102630133,0.34690800533133387,0.16022644865045968,0.22595059617542046,1.0,0.4826621301040727,0.20258558580113065,0.5654430271206721,0.22074653256164503,0.3883420957298398,0.49947742324849415,0.46594336078689186,0.31955920466924087,0.41469508645838027,0.3017533587306515,0.6486599244188218,0.5418726839455723,-0.044699496724684096,0.19926050060631,0.3061711037517975,0.1947065541884537,0.4946385908727227,0.0690223875039848,0.34190116183273683,0.7545618752306796],[0.13920660608018862,0.047934780115215535,0.48358878198639366,0.8803361057250357,0.048714196168370576,0.2840506356750279,0.4519479352938794,0.2830303218633616,0.21952230680294196,0.4826621301040727,1.0,0.19578225847937852,0.27704654768901815,0.14400149089271128,0.42973809522355094,0.9745330958707344,0.5293390798546233,0.6844845625368575,0.23103538734770948,0.18599471025886238,0.5860708933274403,0.38122745322927915,0.10345837308928804,0.22883558698403791,0.6904950486329665,0.18643425469854,0.7768254207349299,-0.07307705688238153,0.6865240163247788,0.3942122407873809],[0.013979363936715469,0.024015619250140365,0.4213818391241108,0.2510754040249287,0.3715847178769481,0.5525791919983493,0.5054080360047402,0.014290731054478577,0.5054615178912522,0.20258558580113065,0.19578225847937852,1.0,0.4143158749432125,0.08851206267858203,0.6345623473400671,0.1480600221007203,0.41541271584449285,0.07138677881637209,0.3211384426705695,0.19547865558643793,0.36811993587471015,0.1619783141442803,0.3089312827296572,-0.007324128216915777,0.03503381071697968,0.191897982580731,0.17599678072400907,-0.11258890377038563,0.1194472223916025,0.40766196362340723],[0.19150097961959883,0.05676932427801953,0.6689732505147327,0.2208931459575385,0.40183129500166404,0.15950548413295815,0.24338572150694507,0.18619588560131559,0.21770405450133645,0.5654430271206721,0.27704654768901815,0.4143158749432125,1.0,0.1647436997362023,0.537487584765459,0.26487865796249555,0.450779355366799,0.19210757328238473,0.20909688141768945,0.40291232450922604,0.4421504129553851,0.4446432232781253,0.13585258993485366,0.12984327001906598,0.10771156769270562,0.31581672572446123,0.0708794183603412,-0.06123274893671533,0.31088211907461943,0.6948664601136001],[0.13121057712378922,0.027024058456029433,0.20867193363359476,0.2351648981875491,0.028303686843572106,-0.09462019350282865,-0.06931708594468029,0.011231394221970838,-0.053812986928768,0.22074653256164503,0.14400149089271128,0.08851206267858203,0.1647436997362023,1.0,0.0553080057687535,0.2331890630334823,0.06140549048980225,0.2200193320700231,0.09326479764931322,0.39725398937293677,0.12130610403169738,0.13871473051853075,-0.009562351842725872,0.10207268909427145,0.2638704266944292,0.12787989244969017,0.11399955702524546,0.25675485005818616,0.22904748011227888,0.07184427814535387],[0.10992992626691163,-0.03943236386711732,0.5998635322648204,0.38814699967195926,0.2394474548195436,0.6219762413793372,0.6676947597820299,0.07765179653340977,0.3894357951352396,0.3883420957298398,0.42973809522355094,0.6345623473400671,0.537487584765459,0.0553080057687535,1.0,0.37792497341087355,0.6653315907226502,0.2897555502945428,0.21991696863502633,0.2318249403663144,0.5693468971695581,0.4024496270762321,0.2678929257216247,0.08039911131052561,0.2301242191944676,0.37979619367518186,0.3290962021847896,-0.213864701385438,0.4154155324746554,0.5117120470286768],[0.1041655279072147,0.07697736770126483,0.4649630191714113,0.900374012504581,0.053856498260808267,0.2438459135225009,0.38615655482746625,0.2694244960151733,0.23632131218765856,0.49947742324849415,0.9745330958707344,0.1480600221007203,0.26487865796249555,0.2331890630334823,0.37792497341087355,1.0,0.5075425122408794,0.6864659060929598,0.2136202916286433,0.2058103267670373,0.5879979405849529,0.393130809611514,0.08651303977938643,0.2335761002415298,0.696898160383284,0.1618478245414176,0.7786300406204286,-0.026621844466515908,0.6564168082234256,0.39868742151638487],[0.002320334282281673,-0.15798426162656026,0.4365317950608728,0.4768716766785008,0.25517757925358214,0.4245315799183982,0.7233084214287612,0.15413029876673712,0.3885158142412727,0.46594336078689186,0.5293390798546233,0.41541271584449285,0.450779355366799,0.06140549048980225,0.6653315907226502,0.5075425122408794,1.0,0.2987658583324218,0.14521347246618074,0.16890254539426272,0.6839978248100469,0.2831203671244324,0.22677434712369943,0.03830212623762775,0.26043948998809485,0.15742741719552292,0.3537278488738611,-0.32823807232798624,0.4116451643421541,0.3769981613640972],[0.2898774963706773,0.172598781959394,0.4790314142265327,0.6930371047188688,-0.05731889949378907,0.015774698301505317,0.15623700967214352,0.1548606688994587,-0.08787791065518598,0.31955920466924087,0.6844845625368575,0.07138677881637209,0.19210757328238473,0.2200193320700231,0.2897555502945428,0.6864659060929598,0.2987658583324218,1.0,0.08784450837590888,0.13762075779314834,0.3391129580994223,0.14471356394437346,0.020598528611286963,0.3793023804086578,0.8610689450781772,0.008536527604783153,0.6079955577348866,-0.010031942262407318,0.8522493188390127,0.2493032485451413],[0.2148396073874597,0.18250557977392112,0.3308789170174403,0.2656836239447662,0.3024027596418818,0.19982367933392303,0.15496980443835587,0.21121575584713495,0.15317650442338687,0.41469508645838027,0.23103538734770948,0.3211384426705695,0.20909688141768945,0.09326479764931322,0.21991696863502633,0.2136202916286433,0.14521347246618074,0.08784450837590888,1.0,0.17448923533103688,0.27338313918798013,0.30265183956563596,-0.03219598386973774,0.316748995613808,0.047939995975484935,0.15656839405080372,0.3529267400436879,0.06544629087838012,-0.01443982978864807,0.38185922049531823],[0.2032895269798861,0.0716471041849691,0.4524290053319105,0.23265472012368246,0.19476237409430042,0.104477791256694,0.01622074673556943,0.24400937335327086,0.1990563448265561,0.3017533587306515,0.18599471025886238,0.19547865558643793,0.40291232450922604,0.39725398937293677,0.2318249403663144,0.2058103267670373,0.16890254539426272,0.13762075779314834,0.17448923533103688,1.0,0.18485342183995773,0.4465558028597746,0.020961499442783794,0.0981434844560652,0.1865938454230175,0.15914638505411127,0.12188016218036418,0.2802488631681081,0.07046905151141056,0.45218206153229273],[0.19031220573775862,0.051492539967917084,0.4401602344792773,0.6041156022209948,0.21907788572870207,0.33528155928082387,0.452969769455608,0.12291583314312032,0.3723906189924152,0.6486599244188218,0.5860708933274403,0.36811993587471015,0.4421504129553851,0.12130610403169738,0.5693468971695581,0.5879979405849529,0.6839978248100469,0.3391129580994223,0.27338313918798013,0.18485342183995773,1.0,0.4481501321133908,0.0928483086037292,0.07473899008279765,0.3619580058611363,0.17383701525745526,0.4534474345757281,-0.1696440829647179,0.4201314415110477,0.6284388957542402],[0.2980974081838762,0.2303273644049862,0.43315932332276014,0.37747745944883127,0.27197779585801535,0.29028389473494814,0.28052375504096894,0.20759701624779356,0.27314980622739743,0.5418726839455723,0.38122745322927915,0.1619783141442803,0.4446432232781253,0.13871473051853075,0.4024496270762321,0.393130809611514,0.2831203671244324,0.14471356394437346,0.30265183956563596,0.4465558028597746,0.4481501321133908,1.0,0.12544828305298875,0.28336039971227417,0.14245459044500902,0.3876542002513238,0.3620887424991723,0.05205607946385909,0.09999887477585087,0.5142474199937191],[-0.1054651475788596,-0.253199224556284,-0.0447812095092586,0.05034288037749916,-0.1262930064493522,0.17926577279976855,0.16257043235643748,0.1609458597216089,0.30225446067596673,-0.044699496724684096,0.10345837308928804,0.3089312827296572,0.13585258993485366,-0.009562351842725872,0.2678929257216247,0.08651303977938643,0.22677434712369943,0.020598528611286963,-0.03219598386973774,0.020961499442783794,0.0928483086037292,0.12544828305298875,1.0,-0.09314063317298332,-0.14686589232616645,0.014939880936432944,0.018206996164376495,-0.022754318201841317,-0.0783330007826443,-0.03469823535146237],[0.245633665394333,0.49544956587716393,0.2620607551608754,0.14587554108554726,-0.14382774854053088,0.12772912088740246,0.00864738900310161,-0.09987248121850627,0.010665638135164308,0.19926050060631,0.22883558698403791,-0.007324128216915777,0.12984327001906598,0.10207268909427145,0.08039911131052561,0.2335761002415298,0.03830212623762775,0.3793023804086578,0.316748995613808,0.0981434844560652,0.07473899008279765,0.28336039971227417,-0.09314063317298332,1.0,0.2590435451568418,-0.10074238707061917,0.3449407309540023,0.05425401492246563,0.26678751085837377,0.17874527788679626],[0.29832843921096347,0.1387718119100889,0.5178601542907438,0.736161372237555,0.018589448540444246,0.06324092041371973,0.22222126060740383,0.13052914160482904,-0.07155344746046965,0.3061711037517975,0.6904950486329665,0.03503381071697968,0.10771156769270562,0.2638704266944292,0.2301242191944676,0.696898160383284,0.26043948998809485,0.8610689450781772,0.047939995975484935,0.1865938454230175,0.3619580058611363,0.14245459044500902,-0.14686589232616645,0.2590435451568418,1.0,0.15885226006414413,0.5617996784922866,-0.01071845300615195,0.8434757134565524,0.26635597905341707],[0.1542545085529817,-0.19985448581493997,0.3849000945347603,0.15566463371928965,0.34915423600772627,0.12442524009161686,0.22655895842093918,0.2143313651350576,0.0021125971321219158,0.1947065541884537,0.18643425469854,0.191897982580731,0.31581672572446123,0.12787989244969017,0.37979619367518186,0.1618478245414176,0.15742741719552292,0.008536527604783153,0.15656839405080372,0.15914638505411127,0.17383701525745526,0.3876542002513238,0.014939880936432944,-0.10074238707061917,0.15885226006414413,1.0,0.049041859200499804,-0.03997527820840229,0.19011485555795596,0.25062055969947655],[0.018022336232154865,0.3094924131707592,0.3565131858958458,0.8030098984151381,0.17012575337377153,0.43302513565451556,0.4166404405517906,0.2498258622637259,0.3656850505046112,0.4946385908727227,0.7768254207349299,0.17599678072400907,0.0708794183603412,0.11399955702524546,0.3290962021847896,0.7786300406204286,0.3537278488738611,0.6079955577348866,0.3529267400436879,0.12188016218036418,0.4534474345757281,0.3620887424991723,0.018206996164376495,0.3449407309540023,0.5617996784922866,0.049041859200499804,1.0,0.20623469077582712,0.5180038601300959,0.3694592545648104],[0.13211104441987,0.2518098514845797,-0.14296313407980446,0.014282008044745678,0.1279009763496524,0.035865669096864096,-0.25511723424432514,0.06461024001809222,0.19758015621225974,0.0690223875039848,-0.07307705688238153,-0.11258890377038563,-0.06123274893671533,0.25675485005818616,-0.213864701385438,-0.026621844466515908,-0.32823807232798624,-0.010031942262407318,0.06544629087838012,0.2802488631681081,-0.1696440829647179,0.05205607946385909,-0.022754318201841317,0.05425401492246563,-0.01071845300615195,-0.03997527820840229,0.20623469077582712,1.0,-0.1426993444487149,0.16027048729562848],[0.26095852269172903,0.03850773829019208,0.5969016236457311,0.6339094807913855,-0.020959531355857486,0.10598187470053601,0.3049589744829559,0.11833306479913182,-0.05609872647496714,0.34190116183273683,0.6865240163247788,0.1194472223916025,0.31088211907461943,0.22904748011227888,0.4154155324746554,0.6564168082234256,0.4116451643421541,0.8522493188390127,-0.01443982978864807,0.07046905151141056,0.4201314415110477,0.09999887477585087,-0.0783330007826443,0.26678751085837377,0.8434757134565524,0.19011485555795596,0.5180038601300959,-0.1426993444487149,1.0,0.30589493064786866],[0.22588879374255338,0.20657228367655556,0.6397346145726047,0.45635432072832416,0.473047871278164,0.3638154044203006,0.3125398437670238,0.2541502161445137,0.40660788538198833,0.7545618752306796,0.3942122407873809,0.40766196362340723,0.6948664601136001,0.07184427814535387,0.5117120470286768,0.39868742151638487,0.3769981613640972,0.2493032485451413,0.38185922049531823,0.45218206153229273,0.6284388957542402,0.5142474199937191,-0.03469823535146237,0.17874527788679626,0.26635597905341707,0.25062055969947655,0.3694592545648104,0.16027048729562848,0.30589493064786866,1.0]],\"zmax\":1,\"zmin\":-1,\"type\":\"heatmap\"}],                        {\"template\":{\"data\":{\"histogram2dcontour\":[{\"type\":\"histogram2dcontour\",\"colorbar\":{\"outlinewidth\":0,\"ticks\":\"\"},\"colorscale\":[[0.0,\"#0d0887\"],[0.1111111111111111,\"#46039f\"],[0.2222222222222222,\"#7201a8\"],[0.3333333333333333,\"#9c179e\"],[0.4444444444444444,\"#bd3786\"],[0.5555555555555556,\"#d8576b\"],[0.6666666666666666,\"#ed7953\"],[0.7777777777777778,\"#fb9f3a\"],[0.8888888888888888,\"#fdca26\"],[1.0,\"#f0f921\"]]}],\"choropleth\":[{\"type\":\"choropleth\",\"colorbar\":{\"outlinewidth\":0,\"ticks\":\"\"}}],\"histogram2d\":[{\"type\":\"histogram2d\",\"colorbar\":{\"outlinewidth\":0,\"ticks\":\"\"},\"colorscale\":[[0.0,\"#0d0887\"],[0.1111111111111111,\"#46039f\"],[0.2222222222222222,\"#7201a8\"],[0.3333333333333333,\"#9c179e\"],[0.4444444444444444,\"#bd3786\"],[0.5555555555555556,\"#d8576b\"],[0.6666666666666666,\"#ed7953\"],[0.7777777777777778,\"#fb9f3a\"],[0.8888888888888888,\"#fdca26\"],[1.0,\"#f0f921\"]]}],\"heatmap\":[{\"type\":\"heatmap\",\"colorbar\":{\"outlinewidth\":0,\"ticks\":\"\"},\"colorscale\":[[0.0,\"#0d0887\"],[0.1111111111111111,\"#46039f\"],[0.2222222222222222,\"#7201a8\"],[0.3333333333333333,\"#9c179e\"],[0.4444444444444444,\"#bd3786\"],[0.5555555555555556,\"#d8576b\"],[0.6666666666666666,\"#ed7953\"],[0.7777777777777778,\"#fb9f3a\"],[0.8888888888888888,\"#fdca26\"],[1.0,\"#f0f921\"]]}],\"heatmapgl\":[{\"type\":\"heatmapgl\",\"colorbar\":{\"outlinewidth\":0,\"ticks\":\"\"},\"colorscale\":[[0.0,\"#0d0887\"],[0.1111111111111111,\"#46039f\"],[0.2222222222222222,\"#7201a8\"],[0.3333333333333333,\"#9c179e\"],[0.4444444444444444,\"#bd3786\"],[0.5555555555555556,\"#d8576b\"],[0.6666666666666666,\"#ed7953\"],[0.7777777777777778,\"#fb9f3a\"],[0.8888888888888888,\"#fdca26\"],[1.0,\"#f0f921\"]]}],\"contourcarpet\":[{\"type\":\"contourcarpet\",\"colorbar\":{\"outlinewidth\":0,\"ticks\":\"\"}}],\"contour\":[{\"type\":\"contour\",\"colorbar\":{\"outlinewidth\":0,\"ticks\":\"\"},\"colorscale\":[[0.0,\"#0d0887\"],[0.1111111111111111,\"#46039f\"],[0.2222222222222222,\"#7201a8\"],[0.3333333333333333,\"#9c179e\"],[0.4444444444444444,\"#bd3786\"],[0.5555555555555556,\"#d8576b\"],[0.6666666666666666,\"#ed7953\"],[0.7777777777777778,\"#fb9f3a\"],[0.8888888888888888,\"#fdca26\"],[1.0,\"#f0f921\"]]}],\"surface\":[{\"type\":\"surface\",\"colorbar\":{\"outlinewidth\":0,\"ticks\":\"\"},\"colorscale\":[[0.0,\"#0d0887\"],[0.1111111111111111,\"#46039f\"],[0.2222222222222222,\"#7201a8\"],[0.3333333333333333,\"#9c179e\"],[0.4444444444444444,\"#bd3786\"],[0.5555555555555556,\"#d8576b\"],[0.6666666666666666,\"#ed7953\"],[0.7777777777777778,\"#fb9f3a\"],[0.8888888888888888,\"#fdca26\"],[1.0,\"#f0f921\"]]}],\"mesh3d\":[{\"type\":\"mesh3d\",\"colorbar\":{\"outlinewidth\":0,\"ticks\":\"\"}}],\"scatter\":[{\"fillpattern\":{\"fillmode\":\"overlay\",\"size\":10,\"solidity\":0.2},\"type\":\"scatter\"}],\"parcoords\":[{\"type\":\"parcoords\",\"line\":{\"colorbar\":{\"outlinewidth\":0,\"ticks\":\"\"}}}],\"scatterpolargl\":[{\"type\":\"scatterpolargl\",\"marker\":{\"colorbar\":{\"outlinewidth\":0,\"ticks\":\"\"}}}],\"bar\":[{\"error_x\":{\"color\":\"#2a3f5f\"},\"error_y\":{\"color\":\"#2a3f5f\"},\"marker\":{\"line\":{\"color\":\"#E5ECF6\",\"width\":0.5},\"pattern\":{\"fillmode\":\"overlay\",\"size\":10,\"solidity\":0.2}},\"type\":\"bar\"}],\"scattergeo\":[{\"type\":\"scattergeo\",\"marker\":{\"colorbar\":{\"outlinewidth\":0,\"ticks\":\"\"}}}],\"scatterpolar\":[{\"type\":\"scatterpolar\",\"marker\":{\"colorbar\":{\"outlinewidth\":0,\"ticks\":\"\"}}}],\"histogram\":[{\"marker\":{\"pattern\":{\"fillmode\":\"overlay\",\"size\":10,\"solidity\":0.2}},\"type\":\"histogram\"}],\"scattergl\":[{\"type\":\"scattergl\",\"marker\":{\"colorbar\":{\"outlinewidth\":0,\"ticks\":\"\"}}}],\"scatter3d\":[{\"type\":\"scatter3d\",\"line\":{\"colorbar\":{\"outlinewidth\":0,\"ticks\":\"\"}},\"marker\":{\"colorbar\":{\"outlinewidth\":0,\"ticks\":\"\"}}}],\"scattermapbox\":[{\"type\":\"scattermapbox\",\"marker\":{\"colorbar\":{\"outlinewidth\":0,\"ticks\":\"\"}}}],\"scatterternary\":[{\"type\":\"scatterternary\",\"marker\":{\"colorbar\":{\"outlinewidth\":0,\"ticks\":\"\"}}}],\"scattercarpet\":[{\"type\":\"scattercarpet\",\"marker\":{\"colorbar\":{\"outlinewidth\":0,\"ticks\":\"\"}}}],\"carpet\":[{\"aaxis\":{\"endlinecolor\":\"#2a3f5f\",\"gridcolor\":\"white\",\"linecolor\":\"white\",\"minorgridcolor\":\"white\",\"startlinecolor\":\"#2a3f5f\"},\"baxis\":{\"endlinecolor\":\"#2a3f5f\",\"gridcolor\":\"white\",\"linecolor\":\"white\",\"minorgridcolor\":\"white\",\"startlinecolor\":\"#2a3f5f\"},\"type\":\"carpet\"}],\"table\":[{\"cells\":{\"fill\":{\"color\":\"#EBF0F8\"},\"line\":{\"color\":\"white\"}},\"header\":{\"fill\":{\"color\":\"#C8D4E3\"},\"line\":{\"color\":\"white\"}},\"type\":\"table\"}],\"barpolar\":[{\"marker\":{\"line\":{\"color\":\"#E5ECF6\",\"width\":0.5},\"pattern\":{\"fillmode\":\"overlay\",\"size\":10,\"solidity\":0.2}},\"type\":\"barpolar\"}],\"pie\":[{\"automargin\":true,\"type\":\"pie\"}]},\"layout\":{\"autotypenumbers\":\"strict\",\"colorway\":[\"#636efa\",\"#EF553B\",\"#00cc96\",\"#ab63fa\",\"#FFA15A\",\"#19d3f3\",\"#FF6692\",\"#B6E880\",\"#FF97FF\",\"#FECB52\"],\"font\":{\"color\":\"#2a3f5f\"},\"hovermode\":\"closest\",\"hoverlabel\":{\"align\":\"left\"},\"paper_bgcolor\":\"white\",\"plot_bgcolor\":\"#E5ECF6\",\"polar\":{\"bgcolor\":\"#E5ECF6\",\"angularaxis\":{\"gridcolor\":\"white\",\"linecolor\":\"white\",\"ticks\":\"\"},\"radialaxis\":{\"gridcolor\":\"white\",\"linecolor\":\"white\",\"ticks\":\"\"}},\"ternary\":{\"bgcolor\":\"#E5ECF6\",\"aaxis\":{\"gridcolor\":\"white\",\"linecolor\":\"white\",\"ticks\":\"\"},\"baxis\":{\"gridcolor\":\"white\",\"linecolor\":\"white\",\"ticks\":\"\"},\"caxis\":{\"gridcolor\":\"white\",\"linecolor\":\"white\",\"ticks\":\"\"}},\"coloraxis\":{\"colorbar\":{\"outlinewidth\":0,\"ticks\":\"\"}},\"colorscale\":{\"sequential\":[[0.0,\"#0d0887\"],[0.1111111111111111,\"#46039f\"],[0.2222222222222222,\"#7201a8\"],[0.3333333333333333,\"#9c179e\"],[0.4444444444444444,\"#bd3786\"],[0.5555555555555556,\"#d8576b\"],[0.6666666666666666,\"#ed7953\"],[0.7777777777777778,\"#fb9f3a\"],[0.8888888888888888,\"#fdca26\"],[1.0,\"#f0f921\"]],\"sequentialminus\":[[0.0,\"#0d0887\"],[0.1111111111111111,\"#46039f\"],[0.2222222222222222,\"#7201a8\"],[0.3333333333333333,\"#9c179e\"],[0.4444444444444444,\"#bd3786\"],[0.5555555555555556,\"#d8576b\"],[0.6666666666666666,\"#ed7953\"],[0.7777777777777778,\"#fb9f3a\"],[0.8888888888888888,\"#fdca26\"],[1.0,\"#f0f921\"]],\"diverging\":[[0,\"#8e0152\"],[0.1,\"#c51b7d\"],[0.2,\"#de77ae\"],[0.3,\"#f1b6da\"],[0.4,\"#fde0ef\"],[0.5,\"#f7f7f7\"],[0.6,\"#e6f5d0\"],[0.7,\"#b8e186\"],[0.8,\"#7fbc41\"],[0.9,\"#4d9221\"],[1,\"#276419\"]]},\"xaxis\":{\"gridcolor\":\"white\",\"linecolor\":\"white\",\"ticks\":\"\",\"title\":{\"standoff\":15},\"zerolinecolor\":\"white\",\"automargin\":true,\"zerolinewidth\":2},\"yaxis\":{\"gridcolor\":\"white\",\"linecolor\":\"white\",\"ticks\":\"\",\"title\":{\"standoff\":15},\"zerolinecolor\":\"white\",\"automargin\":true,\"zerolinewidth\":2},\"scene\":{\"xaxis\":{\"backgroundcolor\":\"#E5ECF6\",\"gridcolor\":\"white\",\"linecolor\":\"white\",\"showbackground\":true,\"ticks\":\"\",\"zerolinecolor\":\"white\",\"gridwidth\":2},\"yaxis\":{\"backgroundcolor\":\"#E5ECF6\",\"gridcolor\":\"white\",\"linecolor\":\"white\",\"showbackground\":true,\"ticks\":\"\",\"zerolinecolor\":\"white\",\"gridwidth\":2},\"zaxis\":{\"backgroundcolor\":\"#E5ECF6\",\"gridcolor\":\"white\",\"linecolor\":\"white\",\"showbackground\":true,\"ticks\":\"\",\"zerolinecolor\":\"white\",\"gridwidth\":2}},\"shapedefaults\":{\"line\":{\"color\":\"#2a3f5f\"}},\"annotationdefaults\":{\"arrowcolor\":\"#2a3f5f\",\"arrowhead\":0,\"arrowwidth\":1},\"geo\":{\"bgcolor\":\"white\",\"landcolor\":\"#E5ECF6\",\"subunitcolor\":\"white\",\"showland\":true,\"showlakes\":true,\"lakecolor\":\"white\"},\"title\":{\"x\":0.05},\"mapbox\":{\"style\":\"light\"}}},\"xaxis\":{\"title\":{\"text\":\"Country\"},\"tickvals\":[0,1,2,3,4,5,6,7,8,9,10,11,12,13,14,15,16,17,18,19,20,21,22,23,24,25,26,27,28,29],\"ticktext\":[\"Afghanistan\",\"Albania\",\"Algeria\",\"Andorra\",\"Angola\",\"Anguilla\",\"Antigua and Barbuda\",\"Argentina\",\"Aruba\",\"Australia\",\"Austria\",\"Bahamas\",\"Bahrain\",\"Bangladesh\",\"Barbados\",\"Belgium\",\"Belize\",\"Benin\",\"Bhutan\",\"Bolivia (Plurinational State of)\",\"Botswana\",\"Brazil\",\"British Virgin Islands\",\"Bulgaria\",\"Burkina Faso\",\"Burundi\",\"Cabo Verde\",\"Cambodia\",\"Cameroon\",\"Canada\"],\"tickangle\":-45},\"yaxis\":{\"title\":{\"text\":\"Country\"},\"tickvals\":[0,1,2,3,4,5,6,7,8,9,10,11,12,13,14,15,16,17,18,19,20,21,22,23,24,25,26,27,28,29],\"ticktext\":[\"Afghanistan\",\"Albania\",\"Algeria\",\"Andorra\",\"Angola\",\"Anguilla\",\"Antigua and Barbuda\",\"Argentina\",\"Aruba\",\"Australia\",\"Austria\",\"Bahamas\",\"Bahrain\",\"Bangladesh\",\"Barbados\",\"Belgium\",\"Belize\",\"Benin\",\"Bhutan\",\"Bolivia (Plurinational State of)\",\"Botswana\",\"Brazil\",\"British Virgin Islands\",\"Bulgaria\",\"Burkina Faso\",\"Burundi\",\"Cabo Verde\",\"Cambodia\",\"Cameroon\",\"Canada\"]},\"title\":{\"text\":\"Cross-Country Correlation of Annual GDP per Capita Growth Rates (Top 30 Countries)\"},\"height\":600},                        {\"responsive\": true}                    ).then(function(){\n",
       "                            \n",
       "var gd = document.getElementById('2a3d717d-7139-4009-9763-3fec33c8ed14');\n",
       "var x = new MutationObserver(function (mutations, observer) {{\n",
       "        var display = window.getComputedStyle(gd).display;\n",
       "        if (!display || display === 'none') {{\n",
       "            console.log([gd, 'removed!']);\n",
       "            Plotly.purge(gd);\n",
       "            observer.disconnect();\n",
       "        }}\n",
       "}});\n",
       "\n",
       "// Listen for the removal of the full notebook cells\n",
       "var notebookContainer = gd.closest('#notebook-container');\n",
       "if (notebookContainer) {{\n",
       "    x.observe(notebookContainer, {childList: true});\n",
       "}}\n",
       "\n",
       "// Listen for the clearing of the current output cell\n",
       "var outputEl = gd.closest('.output');\n",
       "if (outputEl) {{\n",
       "    x.observe(outputEl, {childList: true});\n",
       "}}\n",
       "\n",
       "                        })                };                });            </script>        </div>"
      ]
     },
     "metadata": {},
     "output_type": "display_data"
    }
   ],
   "source": [
    "# Pivot the DataFrame to have countries as columns and years as rows\n",
    "pivot_df = df_melted.pivot_table(index='Year', columns='Country', values='Annual Growth Rate')\n",
    "\n",
    "# Calculate correlation matrix\n",
    "correlation_matrix = pivot_df.corr()\n",
    "\n",
    "\n",
    "\n",
    "# Set the number of countries to display in the heatmap\n",
    "num_countries = 30  # Adjust this number based on your needs\n",
    "\n",
    "# Select a subset of countries (or the top `num_countries` based on some criteria)\n",
    "top_countries = correlation_matrix.columns[:num_countries]\n",
    "subset_corr_matrix = correlation_matrix.loc[top_countries, top_countries]\n",
    "\n",
    "# Create an interactive heatmap using Plotly\n",
    "fig = go.Figure(data=go.Heatmap(\n",
    "    z=subset_corr_matrix.values,\n",
    "    x=subset_corr_matrix.columns,\n",
    "    y=subset_corr_matrix.columns,\n",
    "    colorscale='icefire',\n",
    "    colorbar=dict(title='Correlation'),\n",
    "    zmin=-1,\n",
    "    zmax=1,\n",
    "    hoverongaps=False\n",
    "))\n",
    "\n",
    "fig.update_layout(\n",
    "    title=f'Cross-Country Correlation of Annual GDP per Capita Growth Rates (Top {num_countries} Countries)',\n",
    "    xaxis_title='Country',\n",
    "    yaxis_title='Country',\n",
    "    xaxis=dict(\n",
    "        tickvals=list(range(len(subset_corr_matrix.columns))),\n",
    "        ticktext=subset_corr_matrix.columns,\n",
    "        tickangle=-45  # Rotate x-axis labels\n",
    "    ),\n",
    "    yaxis=dict(\n",
    "        tickvals=list(range(len(subset_corr_matrix.columns))),\n",
    "        ticktext=subset_corr_matrix.columns\n",
    "    ),\n",
    "    height=600,  # Increase figure height,\n",
    "   \n",
    ")\n",
    "\n",
    "fig.show()"
   ]
  },
  {
   "cell_type": "markdown",
   "id": "7b40a1fb-5c00-451a-a93f-54ba13b3017d",
   "metadata": {},
   "source": [
    "# Economic Growth Classification: \n",
    "## Classify countries based on their GDP per capita growth into categories such as high-growth, stable, and low-growth."
   ]
  },
  {
   "cell_type": "code",
   "execution_count": 10,
   "id": "43fa6e8f-0cc3-4609-934c-7f81a35d1651",
   "metadata": {},
   "outputs": [
    {
     "data": {
      "application/vnd.plotly.v1+json": {
       "config": {
        "plotlyServerURL": "https://plot.ly"
       },
       "data": [
        {
         "hovertemplate": "Growth Classification=Low-Growth<br>Country=%{x}<br>Average Annual Growth Rate (%)=%{y}<extra></extra>",
         "legendgroup": "Low-Growth",
         "marker": {
          "color": "red",
          "symbol": "circle"
         },
         "mode": "markers",
         "name": "Low-Growth",
         "orientation": "v",
         "showlegend": true,
         "type": "scatter",
         "x": [
          "Afghanistan",
          "D.P.R. of Korea",
          "Gambia",
          "Guinea-Bissau",
          "Mozambique",
          "Sierra Leone"
         ],
         "xaxis": "x",
         "y": [
          2.442123264571084,
          2.1690649007781517,
          2.917527480963736,
          1.6010312987337965,
          1.7802478592041606,
          2.951705528113826
         ],
         "yaxis": "y"
        },
        {
         "hovertemplate": "Growth Classification=Stable<br>Country=%{x}<br>Average Annual Growth Rate (%)=%{y}<extra></extra>",
         "legendgroup": "Stable",
         "marker": {
          "color": "blue",
          "symbol": "circle"
         },
         "mode": "markers",
         "name": "Stable",
         "orientation": "v",
         "showlegend": true,
         "type": "scatter",
         "x": [
          "Albania",
          "Algeria",
          "Andorra",
          "Angola",
          "Aruba",
          "Bahamas",
          "Benin",
          "Bolivia (Plurinational State of)",
          "Burkina Faso",
          "Burundi",
          "Cabo Verde",
          "Cambodia",
          "Cameroon",
          "Canada",
          "Central African Republic",
          "Chad",
          "Colombia",
          "Comoros",
          "Côte d'Ivoire",
          "D.R. of the Congo",
          "Djibouti",
          "Eswatini",
          "Fiji",
          "Former Netherlands Antilles",
          "France",
          "French Polynesia",
          "Ghana",
          "Greece",
          "Guinea",
          "Honduras",
          "Jamaica",
          "Jordan",
          "Kenya",
          "Kiribati",
          "Liberia",
          "Libya",
          "Madagascar",
          "Malawi",
          "Mauritania",
          "Micronesia (FS of)",
          "Morocco",
          "Myanmar",
          "Namibia",
          "Nauru",
          "Nepal",
          "New Caledonia",
          "Nicaragua",
          "Niger",
          "Nigeria",
          "Pakistan",
          "Palau",
          "Papua New Guinea",
          "Puerto Rico",
          "Samoa",
          "San Marino",
          "Sao Tome and Principe",
          "Senegal",
          "Solomon Islands",
          "Somalia",
          "South Africa",
          "Sri Lanka",
          "Suriname",
          "Sweden",
          "Syrian Arab Republic",
          "Togo",
          "Tunisia",
          "Turks and Caicos Islands",
          "Tuvalu",
          "U.R. of Tanzania: Mainland",
          "Uganda",
          "United States",
          "Vanuatu",
          "Venezuela (Bolivarian Republic of)",
          "Zambia",
          "Zimbabwe"
         ],
         "xaxis": "x",
         "y": [
          4.6997287462766515,
          5.713481120032001,
          4.8644610168774784,
          5.597324694579835,
          4.778494895058954,
          4.219421057290259,
          5.676936363163084,
          5.983776913385607,
          5.31369956647958,
          3.559702790785988,
          5.927445342529081,
          5.7121278651399185,
          4.939223960458788,
          5.392787238261322,
          3.134142322228044,
          5.488999395988403,
          5.7897193277204915,
          5.35265106225753,
          5.082386299478784,
          3.4452720697639068,
          4.048590603082742,
          5.525736160937546,
          5.686540677304413,
          5.571905250538729,
          5.858367447195541,
          4.781100650743171,
          3.44979756324222,
          5.723598994918442,
          4.5875832760755815,
          5.020639837348794,
          4.328472767936898,
          5.221238901635363,
          4.783301950073853,
          4.376194062218703,
          3.313063668935899,
          4.699596426225917,
          3.0936007660207467,
          3.891099246834393,
          4.009088966536238,
          4.84561113189873,
          5.296919183990876,
          5.923512921251371,
          4.395551032591763,
          4.458252278871525,
          5.7276801766166585,
          5.134744120521709,
          3.49516644051771,
          3.9796937167214645,
          4.5012923315596165,
          4.194311378084359,
          5.59665507577862,
          4.548924594758964,
          5.8426930364364384,
          5.799698274546193,
          5.60314736995725,
          4.221488191199185,
          4.183923915711844,
          5.63749824821862,
          5.7626509035391145,
          5.071115789470402,
          5.846679276508477,
          4.811413328762979,
          5.4981668601793245,
          4.3543907564104805,
          4.528534447131807,
          5.269648605132409,
          5.552959020733189,
          5.445616794465296,
          4.354773732843642,
          5.100371557318352,
          5.280757168083246,
          4.2171350536004395,
          4.130519457809953,
          4.179096235631764,
          3.2951005226906016
         ],
         "yaxis": "y"
        },
        {
         "hovertemplate": "Growth Classification=High-Growth<br>Country=%{x}<br>Average Annual Growth Rate (%)=%{y}<extra></extra>",
         "legendgroup": "High-Growth",
         "marker": {
          "color": "green",
          "symbol": "circle"
         },
         "mode": "markers",
         "name": "High-Growth",
         "orientation": "v",
         "showlegend": true,
         "type": "scatter",
         "x": [
          "Anguilla",
          "Antigua and Barbuda",
          "Argentina",
          "Australia",
          "Austria",
          "Bahrain",
          "Bangladesh",
          "Barbados",
          "Belgium",
          "Belize",
          "Bhutan",
          "Botswana",
          "Brazil",
          "British Virgin Islands",
          "Bulgaria",
          "Chile",
          "China",
          "China, Hong Kong SAR",
          "China, Macao SAR",
          "Congo",
          "Cook Islands",
          "Costa Rica",
          "Cuba",
          "Cyprus",
          "Czechoslovakia (Former)",
          "Denmark",
          "Dominica",
          "Dominican Republic",
          "Ecuador",
          "Egypt",
          "El Salvador",
          "Equatorial Guinea",
          "Ethiopia (Former)",
          "Finland",
          "Gabon",
          "Germany",
          "Greenland",
          "Grenada",
          "Guatemala",
          "Guyana",
          "Haiti",
          "Hungary",
          "Iceland",
          "India",
          "Indonesia",
          "Iran (Islamic Republic of)",
          "Iraq",
          "Ireland",
          "Israel",
          "Italy",
          "Japan",
          "Lao People's DR",
          "Lebanon",
          "Lesotho",
          "Malaysia",
          "Maldives",
          "Mali",
          "Malta",
          "Marshall Islands",
          "Mauritius",
          "Mexico",
          "Mongolia",
          "Montserrat",
          "Netherlands",
          "New Zealand",
          "Oman",
          "Panama",
          "Paraguay",
          "Peru",
          "Philippines",
          "Poland",
          "Portugal",
          "Republic of Korea",
          "Romania",
          "Rwanda",
          "Saint Kitts and Nevis",
          "Saint Lucia",
          "Saudi Arabia",
          "Seychelles",
          "Singapore",
          "Spain",
          "St. Vincent and the Grenadines",
          "State of Palestine",
          "Sudan (Former)",
          "Switzerland",
          "Thailand",
          "Tonga",
          "Trinidad and Tobago",
          "Türkiye",
          "USSR (Former)",
          "United Kingdom",
          "Uruguay",
          "Viet Nam",
          "Yemen Arab Republic (Former)",
          "Yemen Democratic (Former)",
          "Yugoslavia (Former)"
         ],
         "xaxis": "x",
         "y": [
          8.403053680634837,
          7.623898632469478,
          6.5953705175658435,
          6.389615004350555,
          7.043261179786843,
          6.005782794213813,
          6.815062612670269,
          6.39494395362211,
          6.340201971993368,
          7.528038547179111,
          6.060550081566756,
          9.574522799870387,
          7.701165218478062,
          7.81143355133503,
          6.951953272743484,
          6.994724883478837,
          9.958491419703693,
          8.172308380531586,
          9.136029122880462,
          6.422318601479304,
          7.4304845964855515,
          6.483903086160658,
          6.322793988329001,
          7.623319264992119,
          6.604384111938556,
          6.434602393732488,
          6.68575984246904,
          7.58342821867674,
          6.033230670378784,
          6.4365812947251735,
          6.339599451215341,
          11.853773244225675,
          110.99707665569956,
          6.682222964845271,
          6.931900185236615,
          6.300779058541912,
          7.467520610628599,
          8.149356854417224,
          6.02955619368465,
          7.846769513843034,
          6.332311203940321,
          7.101041985732497,
          7.658391703188503,
          6.37612813228076,
          9.395961335524253,
          6.618029765626438,
          8.523114417552689,
          9.00049054440587,
          7.036453356440987,
          6.121353633517028,
          6.328012796075627,
          8.103179177616468,
          6.6136502009903255,
          6.028646579919709,
          7.5756807133384765,
          8.070292694014448,
          6.32608644621449,
          7.835298509540111,
          6.005796300197419,
          8.101571049778848,
          6.066993409493449,
          7.590671850130199,
          6.767328806126444,
          6.464871463948388,
          6.561961043187533,
          11.21392344332931,
          6.422487601587689,
          7.177285863333908,
          6.611668299305668,
          6.072798141241701,
          6.580674178457294,
          7.127610491464045,
          10.425046536137616,
          7.518922245463646,
          6.161165661333826,
          7.549077132353053,
          7.177216946557504,
          9.661314596611085,
          8.325795664574061,
          9.373424912156628,
          7.09907612184407,
          7.680869951600335,
          6.998399815988611,
          27.717467559898072,
          6.826463988262656,
          7.467302977999884,
          6.91605403913601,
          7.313872139333234,
          6.491331762014291,
          6.281244310952559,
          6.402633605957633,
          7.695126405892647,
          9.96789347467155,
          46.816925370793456,
          64.61671273020468,
          7.632164706551205
         ],
         "yaxis": "y"
        }
       ],
       "layout": {
        "autosize": true,
        "legend": {
         "title": {
          "text": "Growth Classification"
         },
         "tracegroupgap": 0
        },
        "template": {
         "data": {
          "bar": [
           {
            "error_x": {
             "color": "#2a3f5f"
            },
            "error_y": {
             "color": "#2a3f5f"
            },
            "marker": {
             "line": {
              "color": "#E5ECF6",
              "width": 0.5
             },
             "pattern": {
              "fillmode": "overlay",
              "size": 10,
              "solidity": 0.2
             }
            },
            "type": "bar"
           }
          ],
          "barpolar": [
           {
            "marker": {
             "line": {
              "color": "#E5ECF6",
              "width": 0.5
             },
             "pattern": {
              "fillmode": "overlay",
              "size": 10,
              "solidity": 0.2
             }
            },
            "type": "barpolar"
           }
          ],
          "carpet": [
           {
            "aaxis": {
             "endlinecolor": "#2a3f5f",
             "gridcolor": "white",
             "linecolor": "white",
             "minorgridcolor": "white",
             "startlinecolor": "#2a3f5f"
            },
            "baxis": {
             "endlinecolor": "#2a3f5f",
             "gridcolor": "white",
             "linecolor": "white",
             "minorgridcolor": "white",
             "startlinecolor": "#2a3f5f"
            },
            "type": "carpet"
           }
          ],
          "choropleth": [
           {
            "colorbar": {
             "outlinewidth": 0,
             "ticks": ""
            },
            "type": "choropleth"
           }
          ],
          "contour": [
           {
            "colorbar": {
             "outlinewidth": 0,
             "ticks": ""
            },
            "colorscale": [
             [
              0,
              "#0d0887"
             ],
             [
              0.1111111111111111,
              "#46039f"
             ],
             [
              0.2222222222222222,
              "#7201a8"
             ],
             [
              0.3333333333333333,
              "#9c179e"
             ],
             [
              0.4444444444444444,
              "#bd3786"
             ],
             [
              0.5555555555555556,
              "#d8576b"
             ],
             [
              0.6666666666666666,
              "#ed7953"
             ],
             [
              0.7777777777777778,
              "#fb9f3a"
             ],
             [
              0.8888888888888888,
              "#fdca26"
             ],
             [
              1,
              "#f0f921"
             ]
            ],
            "type": "contour"
           }
          ],
          "contourcarpet": [
           {
            "colorbar": {
             "outlinewidth": 0,
             "ticks": ""
            },
            "type": "contourcarpet"
           }
          ],
          "heatmap": [
           {
            "colorbar": {
             "outlinewidth": 0,
             "ticks": ""
            },
            "colorscale": [
             [
              0,
              "#0d0887"
             ],
             [
              0.1111111111111111,
              "#46039f"
             ],
             [
              0.2222222222222222,
              "#7201a8"
             ],
             [
              0.3333333333333333,
              "#9c179e"
             ],
             [
              0.4444444444444444,
              "#bd3786"
             ],
             [
              0.5555555555555556,
              "#d8576b"
             ],
             [
              0.6666666666666666,
              "#ed7953"
             ],
             [
              0.7777777777777778,
              "#fb9f3a"
             ],
             [
              0.8888888888888888,
              "#fdca26"
             ],
             [
              1,
              "#f0f921"
             ]
            ],
            "type": "heatmap"
           }
          ],
          "heatmapgl": [
           {
            "colorbar": {
             "outlinewidth": 0,
             "ticks": ""
            },
            "colorscale": [
             [
              0,
              "#0d0887"
             ],
             [
              0.1111111111111111,
              "#46039f"
             ],
             [
              0.2222222222222222,
              "#7201a8"
             ],
             [
              0.3333333333333333,
              "#9c179e"
             ],
             [
              0.4444444444444444,
              "#bd3786"
             ],
             [
              0.5555555555555556,
              "#d8576b"
             ],
             [
              0.6666666666666666,
              "#ed7953"
             ],
             [
              0.7777777777777778,
              "#fb9f3a"
             ],
             [
              0.8888888888888888,
              "#fdca26"
             ],
             [
              1,
              "#f0f921"
             ]
            ],
            "type": "heatmapgl"
           }
          ],
          "histogram": [
           {
            "marker": {
             "pattern": {
              "fillmode": "overlay",
              "size": 10,
              "solidity": 0.2
             }
            },
            "type": "histogram"
           }
          ],
          "histogram2d": [
           {
            "colorbar": {
             "outlinewidth": 0,
             "ticks": ""
            },
            "colorscale": [
             [
              0,
              "#0d0887"
             ],
             [
              0.1111111111111111,
              "#46039f"
             ],
             [
              0.2222222222222222,
              "#7201a8"
             ],
             [
              0.3333333333333333,
              "#9c179e"
             ],
             [
              0.4444444444444444,
              "#bd3786"
             ],
             [
              0.5555555555555556,
              "#d8576b"
             ],
             [
              0.6666666666666666,
              "#ed7953"
             ],
             [
              0.7777777777777778,
              "#fb9f3a"
             ],
             [
              0.8888888888888888,
              "#fdca26"
             ],
             [
              1,
              "#f0f921"
             ]
            ],
            "type": "histogram2d"
           }
          ],
          "histogram2dcontour": [
           {
            "colorbar": {
             "outlinewidth": 0,
             "ticks": ""
            },
            "colorscale": [
             [
              0,
              "#0d0887"
             ],
             [
              0.1111111111111111,
              "#46039f"
             ],
             [
              0.2222222222222222,
              "#7201a8"
             ],
             [
              0.3333333333333333,
              "#9c179e"
             ],
             [
              0.4444444444444444,
              "#bd3786"
             ],
             [
              0.5555555555555556,
              "#d8576b"
             ],
             [
              0.6666666666666666,
              "#ed7953"
             ],
             [
              0.7777777777777778,
              "#fb9f3a"
             ],
             [
              0.8888888888888888,
              "#fdca26"
             ],
             [
              1,
              "#f0f921"
             ]
            ],
            "type": "histogram2dcontour"
           }
          ],
          "mesh3d": [
           {
            "colorbar": {
             "outlinewidth": 0,
             "ticks": ""
            },
            "type": "mesh3d"
           }
          ],
          "parcoords": [
           {
            "line": {
             "colorbar": {
              "outlinewidth": 0,
              "ticks": ""
             }
            },
            "type": "parcoords"
           }
          ],
          "pie": [
           {
            "automargin": true,
            "type": "pie"
           }
          ],
          "scatter": [
           {
            "fillpattern": {
             "fillmode": "overlay",
             "size": 10,
             "solidity": 0.2
            },
            "type": "scatter"
           }
          ],
          "scatter3d": [
           {
            "line": {
             "colorbar": {
              "outlinewidth": 0,
              "ticks": ""
             }
            },
            "marker": {
             "colorbar": {
              "outlinewidth": 0,
              "ticks": ""
             }
            },
            "type": "scatter3d"
           }
          ],
          "scattercarpet": [
           {
            "marker": {
             "colorbar": {
              "outlinewidth": 0,
              "ticks": ""
             }
            },
            "type": "scattercarpet"
           }
          ],
          "scattergeo": [
           {
            "marker": {
             "colorbar": {
              "outlinewidth": 0,
              "ticks": ""
             }
            },
            "type": "scattergeo"
           }
          ],
          "scattergl": [
           {
            "marker": {
             "colorbar": {
              "outlinewidth": 0,
              "ticks": ""
             }
            },
            "type": "scattergl"
           }
          ],
          "scattermapbox": [
           {
            "marker": {
             "colorbar": {
              "outlinewidth": 0,
              "ticks": ""
             }
            },
            "type": "scattermapbox"
           }
          ],
          "scatterpolar": [
           {
            "marker": {
             "colorbar": {
              "outlinewidth": 0,
              "ticks": ""
             }
            },
            "type": "scatterpolar"
           }
          ],
          "scatterpolargl": [
           {
            "marker": {
             "colorbar": {
              "outlinewidth": 0,
              "ticks": ""
             }
            },
            "type": "scatterpolargl"
           }
          ],
          "scatterternary": [
           {
            "marker": {
             "colorbar": {
              "outlinewidth": 0,
              "ticks": ""
             }
            },
            "type": "scatterternary"
           }
          ],
          "surface": [
           {
            "colorbar": {
             "outlinewidth": 0,
             "ticks": ""
            },
            "colorscale": [
             [
              0,
              "#0d0887"
             ],
             [
              0.1111111111111111,
              "#46039f"
             ],
             [
              0.2222222222222222,
              "#7201a8"
             ],
             [
              0.3333333333333333,
              "#9c179e"
             ],
             [
              0.4444444444444444,
              "#bd3786"
             ],
             [
              0.5555555555555556,
              "#d8576b"
             ],
             [
              0.6666666666666666,
              "#ed7953"
             ],
             [
              0.7777777777777778,
              "#fb9f3a"
             ],
             [
              0.8888888888888888,
              "#fdca26"
             ],
             [
              1,
              "#f0f921"
             ]
            ],
            "type": "surface"
           }
          ],
          "table": [
           {
            "cells": {
             "fill": {
              "color": "#EBF0F8"
             },
             "line": {
              "color": "white"
             }
            },
            "header": {
             "fill": {
              "color": "#C8D4E3"
             },
             "line": {
              "color": "white"
             }
            },
            "type": "table"
           }
          ]
         },
         "layout": {
          "annotationdefaults": {
           "arrowcolor": "#2a3f5f",
           "arrowhead": 0,
           "arrowwidth": 1
          },
          "autotypenumbers": "strict",
          "coloraxis": {
           "colorbar": {
            "outlinewidth": 0,
            "ticks": ""
           }
          },
          "colorscale": {
           "diverging": [
            [
             0,
             "#8e0152"
            ],
            [
             0.1,
             "#c51b7d"
            ],
            [
             0.2,
             "#de77ae"
            ],
            [
             0.3,
             "#f1b6da"
            ],
            [
             0.4,
             "#fde0ef"
            ],
            [
             0.5,
             "#f7f7f7"
            ],
            [
             0.6,
             "#e6f5d0"
            ],
            [
             0.7,
             "#b8e186"
            ],
            [
             0.8,
             "#7fbc41"
            ],
            [
             0.9,
             "#4d9221"
            ],
            [
             1,
             "#276419"
            ]
           ],
           "sequential": [
            [
             0,
             "#0d0887"
            ],
            [
             0.1111111111111111,
             "#46039f"
            ],
            [
             0.2222222222222222,
             "#7201a8"
            ],
            [
             0.3333333333333333,
             "#9c179e"
            ],
            [
             0.4444444444444444,
             "#bd3786"
            ],
            [
             0.5555555555555556,
             "#d8576b"
            ],
            [
             0.6666666666666666,
             "#ed7953"
            ],
            [
             0.7777777777777778,
             "#fb9f3a"
            ],
            [
             0.8888888888888888,
             "#fdca26"
            ],
            [
             1,
             "#f0f921"
            ]
           ],
           "sequentialminus": [
            [
             0,
             "#0d0887"
            ],
            [
             0.1111111111111111,
             "#46039f"
            ],
            [
             0.2222222222222222,
             "#7201a8"
            ],
            [
             0.3333333333333333,
             "#9c179e"
            ],
            [
             0.4444444444444444,
             "#bd3786"
            ],
            [
             0.5555555555555556,
             "#d8576b"
            ],
            [
             0.6666666666666666,
             "#ed7953"
            ],
            [
             0.7777777777777778,
             "#fb9f3a"
            ],
            [
             0.8888888888888888,
             "#fdca26"
            ],
            [
             1,
             "#f0f921"
            ]
           ]
          },
          "colorway": [
           "#636efa",
           "#EF553B",
           "#00cc96",
           "#ab63fa",
           "#FFA15A",
           "#19d3f3",
           "#FF6692",
           "#B6E880",
           "#FF97FF",
           "#FECB52"
          ],
          "font": {
           "color": "#2a3f5f"
          },
          "geo": {
           "bgcolor": "white",
           "lakecolor": "white",
           "landcolor": "#E5ECF6",
           "showlakes": true,
           "showland": true,
           "subunitcolor": "white"
          },
          "hoverlabel": {
           "align": "left"
          },
          "hovermode": "closest",
          "mapbox": {
           "style": "light"
          },
          "paper_bgcolor": "white",
          "plot_bgcolor": "#E5ECF6",
          "polar": {
           "angularaxis": {
            "gridcolor": "white",
            "linecolor": "white",
            "ticks": ""
           },
           "bgcolor": "#E5ECF6",
           "radialaxis": {
            "gridcolor": "white",
            "linecolor": "white",
            "ticks": ""
           }
          },
          "scene": {
           "xaxis": {
            "backgroundcolor": "#E5ECF6",
            "gridcolor": "white",
            "gridwidth": 2,
            "linecolor": "white",
            "showbackground": true,
            "ticks": "",
            "zerolinecolor": "white"
           },
           "yaxis": {
            "backgroundcolor": "#E5ECF6",
            "gridcolor": "white",
            "gridwidth": 2,
            "linecolor": "white",
            "showbackground": true,
            "ticks": "",
            "zerolinecolor": "white"
           },
           "zaxis": {
            "backgroundcolor": "#E5ECF6",
            "gridcolor": "white",
            "gridwidth": 2,
            "linecolor": "white",
            "showbackground": true,
            "ticks": "",
            "zerolinecolor": "white"
           }
          },
          "shapedefaults": {
           "line": {
            "color": "#2a3f5f"
           }
          },
          "ternary": {
           "aaxis": {
            "gridcolor": "white",
            "linecolor": "white",
            "ticks": ""
           },
           "baxis": {
            "gridcolor": "white",
            "linecolor": "white",
            "ticks": ""
           },
           "bgcolor": "#E5ECF6",
           "caxis": {
            "gridcolor": "white",
            "linecolor": "white",
            "ticks": ""
           }
          },
          "title": {
           "x": 0.05
          },
          "xaxis": {
           "automargin": true,
           "gridcolor": "white",
           "linecolor": "white",
           "ticks": "",
           "title": {
            "standoff": 15
           },
           "zerolinecolor": "white",
           "zerolinewidth": 2
          },
          "yaxis": {
           "automargin": true,
           "gridcolor": "white",
           "linecolor": "white",
           "ticks": "",
           "title": {
            "standoff": 15
           },
           "zerolinecolor": "white",
           "zerolinewidth": 2
          }
         }
        },
        "title": {
         "text": "Economic Growth Classification by Country"
        },
        "xaxis": {
         "anchor": "y",
         "autorange": true,
         "domain": [
          0,
          1
         ],
         "range": [
          -10.755164600826337,
          186.75516460082633
         ],
         "tickangle": -45,
         "title": {
          "text": "Country"
         },
         "type": "category"
        },
        "yaxis": {
         "anchor": "x",
         "autorange": true,
         "domain": [
          0,
          1
         ],
         "range": [
          -5.980872834917295,
          118.57898078935065
         ],
         "title": {
          "text": "Average Annual Growth Rate (%)"
         },
         "type": "linear"
        }
       }
      },
      "image/png": "[encoded data removed]",
      "text/html": [
       "<div>                            <div id=\"acc8d9aa-30f5-4627-a768-0abba1c00733\" class=\"plotly-graph-div\" style=\"height:600px; width:100%;\"></div>            <script type=\"text/javascript\">                require([\"plotly\"], function(Plotly) {                    window.PLOTLYENV=window.PLOTLYENV || {};                                    if (document.getElementById(\"acc8d9aa-30f5-4627-a768-0abba1c00733\")) {                    Plotly.newPlot(                        \"acc8d9aa-30f5-4627-a768-0abba1c00733\",                        [{\"hovertemplate\":\"Growth Classification=Low-Growth\\u003cbr\\u003eCountry=%{x}\\u003cbr\\u003eAverage Annual Growth Rate (%)=%{y}\\u003cextra\\u003e\\u003c\\u002fextra\\u003e\",\"legendgroup\":\"Low-Growth\",\"marker\":{\"color\":\"red\",\"symbol\":\"circle\"},\"mode\":\"markers\",\"name\":\"Low-Growth\",\"orientation\":\"v\",\"showlegend\":true,\"x\":[\"Afghanistan\",\"D.P.R. of Korea\",\"Gambia\",\"Guinea-Bissau\",\"Mozambique\",\"Sierra Leone\"],\"xaxis\":\"x\",\"y\":[2.442123264571084,2.1690649007781517,2.917527480963736,1.6010312987337965,1.7802478592041606,2.951705528113826],\"yaxis\":\"y\",\"type\":\"scatter\"},{\"hovertemplate\":\"Growth Classification=Stable\\u003cbr\\u003eCountry=%{x}\\u003cbr\\u003eAverage Annual Growth Rate (%)=%{y}\\u003cextra\\u003e\\u003c\\u002fextra\\u003e\",\"legendgroup\":\"Stable\",\"marker\":{\"color\":\"blue\",\"symbol\":\"circle\"},\"mode\":\"markers\",\"name\":\"Stable\",\"orientation\":\"v\",\"showlegend\":true,\"x\":[\"Albania\",\"Algeria\",\"Andorra\",\"Angola\",\"Aruba\",\"Bahamas\",\"Benin\",\"Bolivia (Plurinational State of)\",\"Burkina Faso\",\"Burundi\",\"Cabo Verde\",\"Cambodia\",\"Cameroon\",\"Canada\",\"Central African Republic\",\"Chad\",\"Colombia\",\"Comoros\",\"C\\u00f4te d'Ivoire\",\"D.R. of the Congo\",\"Djibouti\",\"Eswatini\",\"Fiji\",\"Former Netherlands Antilles\",\"France\",\"French Polynesia\",\"Ghana\",\"Greece\",\"Guinea\",\"Honduras\",\"Jamaica\",\"Jordan\",\"Kenya\",\"Kiribati\",\"Liberia\",\"Libya\",\"Madagascar\",\"Malawi\",\"Mauritania\",\"Micronesia (FS of)\",\"Morocco\",\"Myanmar\",\"Namibia\",\"Nauru\",\"Nepal\",\"New Caledonia\",\"Nicaragua\",\"Niger\",\"Nigeria\",\"Pakistan\",\"Palau\",\"Papua New Guinea\",\"Puerto Rico\",\"Samoa\",\"San Marino\",\"Sao Tome and Principe\",\"Senegal\",\"Solomon Islands\",\"Somalia\",\"South Africa\",\"Sri Lanka\",\"Suriname\",\"Sweden\",\"Syrian Arab Republic\",\"Togo\",\"Tunisia\",\"Turks and Caicos Islands\",\"Tuvalu\",\"U.R. of Tanzania: Mainland\",\"Uganda\",\"United States\",\"Vanuatu\",\"Venezuela (Bolivarian Republic of)\",\"Zambia\",\"Zimbabwe\"],\"xaxis\":\"x\",\"y\":[4.6997287462766515,5.713481120032001,4.8644610168774784,5.597324694579835,4.778494895058954,4.219421057290259,5.676936363163084,5.983776913385607,5.31369956647958,3.559702790785988,5.927445342529081,5.7121278651399185,4.939223960458788,5.392787238261322,3.134142322228044,5.488999395988403,5.7897193277204915,5.35265106225753,5.082386299478784,3.4452720697639068,4.048590603082742,5.525736160937546,5.686540677304413,5.571905250538729,5.858367447195541,4.781100650743171,3.44979756324222,5.723598994918442,4.5875832760755815,5.020639837348794,4.328472767936898,5.221238901635363,4.783301950073853,4.376194062218703,3.313063668935899,4.699596426225917,3.0936007660207467,3.891099246834393,4.009088966536238,4.84561113189873,5.296919183990876,5.923512921251371,4.395551032591763,4.458252278871525,5.7276801766166585,5.134744120521709,3.49516644051771,3.9796937167214645,4.5012923315596165,4.194311378084359,5.59665507577862,4.548924594758964,5.8426930364364384,5.799698274546193,5.60314736995725,4.221488191199185,4.183923915711844,5.63749824821862,5.7626509035391145,5.071115789470402,5.846679276508477,4.811413328762979,5.4981668601793245,4.3543907564104805,4.528534447131807,5.269648605132409,5.552959020733189,5.445616794465296,4.354773732843642,5.100371557318352,5.280757168083246,4.2171350536004395,4.130519457809953,4.179096235631764,3.2951005226906016],\"yaxis\":\"y\",\"type\":\"scatter\"},{\"hovertemplate\":\"Growth Classification=High-Growth\\u003cbr\\u003eCountry=%{x}\\u003cbr\\u003eAverage Annual Growth Rate (%)=%{y}\\u003cextra\\u003e\\u003c\\u002fextra\\u003e\",\"legendgroup\":\"High-Growth\",\"marker\":{\"color\":\"green\",\"symbol\":\"circle\"},\"mode\":\"markers\",\"name\":\"High-Growth\",\"orientation\":\"v\",\"showlegend\":true,\"x\":[\"Anguilla\",\"Antigua and Barbuda\",\"Argentina\",\"Australia\",\"Austria\",\"Bahrain\",\"Bangladesh\",\"Barbados\",\"Belgium\",\"Belize\",\"Bhutan\",\"Botswana\",\"Brazil\",\"British Virgin Islands\",\"Bulgaria\",\"Chile\",\"China\",\"China, Hong Kong SAR\",\"China, Macao SAR\",\"Congo\",\"Cook Islands\",\"Costa Rica\",\"Cuba\",\"Cyprus\",\"Czechoslovakia (Former)\",\"Denmark\",\"Dominica\",\"Dominican Republic\",\"Ecuador\",\"Egypt\",\"El Salvador\",\"Equatorial Guinea\",\"Ethiopia (Former)\",\"Finland\",\"Gabon\",\"Germany\",\"Greenland\",\"Grenada\",\"Guatemala\",\"Guyana\",\"Haiti\",\"Hungary\",\"Iceland\",\"India\",\"Indonesia\",\"Iran (Islamic Republic of)\",\"Iraq\",\"Ireland\",\"Israel\",\"Italy\",\"Japan\",\"Lao People's DR\",\"Lebanon\",\"Lesotho\",\"Malaysia\",\"Maldives\",\"Mali\",\"Malta\",\"Marshall Islands\",\"Mauritius\",\"Mexico\",\"Mongolia\",\"Montserrat\",\"Netherlands\",\"New Zealand\",\"Oman\",\"Panama\",\"Paraguay\",\"Peru\",\"Philippines\",\"Poland\",\"Portugal\",\"Republic of Korea\",\"Romania\",\"Rwanda\",\"Saint Kitts and Nevis\",\"Saint Lucia\",\"Saudi Arabia\",\"Seychelles\",\"Singapore\",\"Spain\",\"St. Vincent and the Grenadines\",\"State of Palestine\",\"Sudan (Former)\",\"Switzerland\",\"Thailand\",\"Tonga\",\"Trinidad and Tobago\",\"T\\u00fcrkiye\",\"USSR (Former)\",\"United Kingdom\",\"Uruguay\",\"Viet Nam\",\"Yemen Arab Republic (Former)\",\"Yemen Democratic (Former)\",\"Yugoslavia (Former)\"],\"xaxis\":\"x\",\"y\":[8.403053680634837,7.623898632469478,6.5953705175658435,6.389615004350555,7.043261179786843,6.005782794213813,6.815062612670269,6.39494395362211,6.340201971993368,7.528038547179111,6.060550081566756,9.574522799870387,7.701165218478062,7.81143355133503,6.951953272743484,6.994724883478837,9.958491419703693,8.172308380531586,9.136029122880462,6.422318601479304,7.4304845964855515,6.483903086160658,6.322793988329001,7.623319264992119,6.604384111938556,6.434602393732488,6.68575984246904,7.58342821867674,6.033230670378784,6.4365812947251735,6.339599451215341,11.853773244225675,110.99707665569956,6.682222964845271,6.931900185236615,6.300779058541912,7.467520610628599,8.149356854417224,6.02955619368465,7.846769513843034,6.332311203940321,7.101041985732497,7.658391703188503,6.37612813228076,9.395961335524253,6.618029765626438,8.523114417552689,9.00049054440587,7.036453356440987,6.121353633517028,6.328012796075627,8.103179177616468,6.6136502009903255,6.028646579919709,7.5756807133384765,8.070292694014448,6.32608644621449,7.835298509540111,6.005796300197419,8.101571049778848,6.066993409493449,7.590671850130199,6.767328806126444,6.464871463948388,6.561961043187533,11.21392344332931,6.422487601587689,7.177285863333908,6.611668299305668,6.072798141241701,6.580674178457294,7.127610491464045,10.425046536137616,7.518922245463646,6.161165661333826,7.549077132353053,7.177216946557504,9.661314596611085,8.325795664574061,9.373424912156628,7.09907612184407,7.680869951600335,6.998399815988611,27.717467559898072,6.826463988262656,7.467302977999884,6.91605403913601,7.313872139333234,6.491331762014291,6.281244310952559,6.402633605957633,7.695126405892647,9.96789347467155,46.816925370793456,64.61671273020468,7.632164706551205],\"yaxis\":\"y\",\"type\":\"scatter\"}],                        {\"template\":{\"data\":{\"histogram2dcontour\":[{\"type\":\"histogram2dcontour\",\"colorbar\":{\"outlinewidth\":0,\"ticks\":\"\"},\"colorscale\":[[0.0,\"#0d0887\"],[0.1111111111111111,\"#46039f\"],[0.2222222222222222,\"#7201a8\"],[0.3333333333333333,\"#9c179e\"],[0.4444444444444444,\"#bd3786\"],[0.5555555555555556,\"#d8576b\"],[0.6666666666666666,\"#ed7953\"],[0.7777777777777778,\"#fb9f3a\"],[0.8888888888888888,\"#fdca26\"],[1.0,\"#f0f921\"]]}],\"choropleth\":[{\"type\":\"choropleth\",\"colorbar\":{\"outlinewidth\":0,\"ticks\":\"\"}}],\"histogram2d\":[{\"type\":\"histogram2d\",\"colorbar\":{\"outlinewidth\":0,\"ticks\":\"\"},\"colorscale\":[[0.0,\"#0d0887\"],[0.1111111111111111,\"#46039f\"],[0.2222222222222222,\"#7201a8\"],[0.3333333333333333,\"#9c179e\"],[0.4444444444444444,\"#bd3786\"],[0.5555555555555556,\"#d8576b\"],[0.6666666666666666,\"#ed7953\"],[0.7777777777777778,\"#fb9f3a\"],[0.8888888888888888,\"#fdca26\"],[1.0,\"#f0f921\"]]}],\"heatmap\":[{\"type\":\"heatmap\",\"colorbar\":{\"outlinewidth\":0,\"ticks\":\"\"},\"colorscale\":[[0.0,\"#0d0887\"],[0.1111111111111111,\"#46039f\"],[0.2222222222222222,\"#7201a8\"],[0.3333333333333333,\"#9c179e\"],[0.4444444444444444,\"#bd3786\"],[0.5555555555555556,\"#d8576b\"],[0.6666666666666666,\"#ed7953\"],[0.7777777777777778,\"#fb9f3a\"],[0.8888888888888888,\"#fdca26\"],[1.0,\"#f0f921\"]]}],\"heatmapgl\":[{\"type\":\"heatmapgl\",\"colorbar\":{\"outlinewidth\":0,\"ticks\":\"\"},\"colorscale\":[[0.0,\"#0d0887\"],[0.1111111111111111,\"#46039f\"],[0.2222222222222222,\"#7201a8\"],[0.3333333333333333,\"#9c179e\"],[0.4444444444444444,\"#bd3786\"],[0.5555555555555556,\"#d8576b\"],[0.6666666666666666,\"#ed7953\"],[0.7777777777777778,\"#fb9f3a\"],[0.8888888888888888,\"#fdca26\"],[1.0,\"#f0f921\"]]}],\"contourcarpet\":[{\"type\":\"contourcarpet\",\"colorbar\":{\"outlinewidth\":0,\"ticks\":\"\"}}],\"contour\":[{\"type\":\"contour\",\"colorbar\":{\"outlinewidth\":0,\"ticks\":\"\"},\"colorscale\":[[0.0,\"#0d0887\"],[0.1111111111111111,\"#46039f\"],[0.2222222222222222,\"#7201a8\"],[0.3333333333333333,\"#9c179e\"],[0.4444444444444444,\"#bd3786\"],[0.5555555555555556,\"#d8576b\"],[0.6666666666666666,\"#ed7953\"],[0.7777777777777778,\"#fb9f3a\"],[0.8888888888888888,\"#fdca26\"],[1.0,\"#f0f921\"]]}],\"surface\":[{\"type\":\"surface\",\"colorbar\":{\"outlinewidth\":0,\"ticks\":\"\"},\"colorscale\":[[0.0,\"#0d0887\"],[0.1111111111111111,\"#46039f\"],[0.2222222222222222,\"#7201a8\"],[0.3333333333333333,\"#9c179e\"],[0.4444444444444444,\"#bd3786\"],[0.5555555555555556,\"#d8576b\"],[0.6666666666666666,\"#ed7953\"],[0.7777777777777778,\"#fb9f3a\"],[0.8888888888888888,\"#fdca26\"],[1.0,\"#f0f921\"]]}],\"mesh3d\":[{\"type\":\"mesh3d\",\"colorbar\":{\"outlinewidth\":0,\"ticks\":\"\"}}],\"scatter\":[{\"fillpattern\":{\"fillmode\":\"overlay\",\"size\":10,\"solidity\":0.2},\"type\":\"scatter\"}],\"parcoords\":[{\"type\":\"parcoords\",\"line\":{\"colorbar\":{\"outlinewidth\":0,\"ticks\":\"\"}}}],\"scatterpolargl\":[{\"type\":\"scatterpolargl\",\"marker\":{\"colorbar\":{\"outlinewidth\":0,\"ticks\":\"\"}}}],\"bar\":[{\"error_x\":{\"color\":\"#2a3f5f\"},\"error_y\":{\"color\":\"#2a3f5f\"},\"marker\":{\"line\":{\"color\":\"#E5ECF6\",\"width\":0.5},\"pattern\":{\"fillmode\":\"overlay\",\"size\":10,\"solidity\":0.2}},\"type\":\"bar\"}],\"scattergeo\":[{\"type\":\"scattergeo\",\"marker\":{\"colorbar\":{\"outlinewidth\":0,\"ticks\":\"\"}}}],\"scatterpolar\":[{\"type\":\"scatterpolar\",\"marker\":{\"colorbar\":{\"outlinewidth\":0,\"ticks\":\"\"}}}],\"histogram\":[{\"marker\":{\"pattern\":{\"fillmode\":\"overlay\",\"size\":10,\"solidity\":0.2}},\"type\":\"histogram\"}],\"scattergl\":[{\"type\":\"scattergl\",\"marker\":{\"colorbar\":{\"outlinewidth\":0,\"ticks\":\"\"}}}],\"scatter3d\":[{\"type\":\"scatter3d\",\"line\":{\"colorbar\":{\"outlinewidth\":0,\"ticks\":\"\"}},\"marker\":{\"colorbar\":{\"outlinewidth\":0,\"ticks\":\"\"}}}],\"scattermapbox\":[{\"type\":\"scattermapbox\",\"marker\":{\"colorbar\":{\"outlinewidth\":0,\"ticks\":\"\"}}}],\"scatterternary\":[{\"type\":\"scatterternary\",\"marker\":{\"colorbar\":{\"outlinewidth\":0,\"ticks\":\"\"}}}],\"scattercarpet\":[{\"type\":\"scattercarpet\",\"marker\":{\"colorbar\":{\"outlinewidth\":0,\"ticks\":\"\"}}}],\"carpet\":[{\"aaxis\":{\"endlinecolor\":\"#2a3f5f\",\"gridcolor\":\"white\",\"linecolor\":\"white\",\"minorgridcolor\":\"white\",\"startlinecolor\":\"#2a3f5f\"},\"baxis\":{\"endlinecolor\":\"#2a3f5f\",\"gridcolor\":\"white\",\"linecolor\":\"white\",\"minorgridcolor\":\"white\",\"startlinecolor\":\"#2a3f5f\"},\"type\":\"carpet\"}],\"table\":[{\"cells\":{\"fill\":{\"color\":\"#EBF0F8\"},\"line\":{\"color\":\"white\"}},\"header\":{\"fill\":{\"color\":\"#C8D4E3\"},\"line\":{\"color\":\"white\"}},\"type\":\"table\"}],\"barpolar\":[{\"marker\":{\"line\":{\"color\":\"#E5ECF6\",\"width\":0.5},\"pattern\":{\"fillmode\":\"overlay\",\"size\":10,\"solidity\":0.2}},\"type\":\"barpolar\"}],\"pie\":[{\"automargin\":true,\"type\":\"pie\"}]},\"layout\":{\"autotypenumbers\":\"strict\",\"colorway\":[\"#636efa\",\"#EF553B\",\"#00cc96\",\"#ab63fa\",\"#FFA15A\",\"#19d3f3\",\"#FF6692\",\"#B6E880\",\"#FF97FF\",\"#FECB52\"],\"font\":{\"color\":\"#2a3f5f\"},\"hovermode\":\"closest\",\"hoverlabel\":{\"align\":\"left\"},\"paper_bgcolor\":\"white\",\"plot_bgcolor\":\"#E5ECF6\",\"polar\":{\"bgcolor\":\"#E5ECF6\",\"angularaxis\":{\"gridcolor\":\"white\",\"linecolor\":\"white\",\"ticks\":\"\"},\"radialaxis\":{\"gridcolor\":\"white\",\"linecolor\":\"white\",\"ticks\":\"\"}},\"ternary\":{\"bgcolor\":\"#E5ECF6\",\"aaxis\":{\"gridcolor\":\"white\",\"linecolor\":\"white\",\"ticks\":\"\"},\"baxis\":{\"gridcolor\":\"white\",\"linecolor\":\"white\",\"ticks\":\"\"},\"caxis\":{\"gridcolor\":\"white\",\"linecolor\":\"white\",\"ticks\":\"\"}},\"coloraxis\":{\"colorbar\":{\"outlinewidth\":0,\"ticks\":\"\"}},\"colorscale\":{\"sequential\":[[0.0,\"#0d0887\"],[0.1111111111111111,\"#46039f\"],[0.2222222222222222,\"#7201a8\"],[0.3333333333333333,\"#9c179e\"],[0.4444444444444444,\"#bd3786\"],[0.5555555555555556,\"#d8576b\"],[0.6666666666666666,\"#ed7953\"],[0.7777777777777778,\"#fb9f3a\"],[0.8888888888888888,\"#fdca26\"],[1.0,\"#f0f921\"]],\"sequentialminus\":[[0.0,\"#0d0887\"],[0.1111111111111111,\"#46039f\"],[0.2222222222222222,\"#7201a8\"],[0.3333333333333333,\"#9c179e\"],[0.4444444444444444,\"#bd3786\"],[0.5555555555555556,\"#d8576b\"],[0.6666666666666666,\"#ed7953\"],[0.7777777777777778,\"#fb9f3a\"],[0.8888888888888888,\"#fdca26\"],[1.0,\"#f0f921\"]],\"diverging\":[[0,\"#8e0152\"],[0.1,\"#c51b7d\"],[0.2,\"#de77ae\"],[0.3,\"#f1b6da\"],[0.4,\"#fde0ef\"],[0.5,\"#f7f7f7\"],[0.6,\"#e6f5d0\"],[0.7,\"#b8e186\"],[0.8,\"#7fbc41\"],[0.9,\"#4d9221\"],[1,\"#276419\"]]},\"xaxis\":{\"gridcolor\":\"white\",\"linecolor\":\"white\",\"ticks\":\"\",\"title\":{\"standoff\":15},\"zerolinecolor\":\"white\",\"automargin\":true,\"zerolinewidth\":2},\"yaxis\":{\"gridcolor\":\"white\",\"linecolor\":\"white\",\"ticks\":\"\",\"title\":{\"standoff\":15},\"zerolinecolor\":\"white\",\"automargin\":true,\"zerolinewidth\":2},\"scene\":{\"xaxis\":{\"backgroundcolor\":\"#E5ECF6\",\"gridcolor\":\"white\",\"linecolor\":\"white\",\"showbackground\":true,\"ticks\":\"\",\"zerolinecolor\":\"white\",\"gridwidth\":2},\"yaxis\":{\"backgroundcolor\":\"#E5ECF6\",\"gridcolor\":\"white\",\"linecolor\":\"white\",\"showbackground\":true,\"ticks\":\"\",\"zerolinecolor\":\"white\",\"gridwidth\":2},\"zaxis\":{\"backgroundcolor\":\"#E5ECF6\",\"gridcolor\":\"white\",\"linecolor\":\"white\",\"showbackground\":true,\"ticks\":\"\",\"zerolinecolor\":\"white\",\"gridwidth\":2}},\"shapedefaults\":{\"line\":{\"color\":\"#2a3f5f\"}},\"annotationdefaults\":{\"arrowcolor\":\"#2a3f5f\",\"arrowhead\":0,\"arrowwidth\":1},\"geo\":{\"bgcolor\":\"white\",\"landcolor\":\"#E5ECF6\",\"subunitcolor\":\"white\",\"showland\":true,\"showlakes\":true,\"lakecolor\":\"white\"},\"title\":{\"x\":0.05},\"mapbox\":{\"style\":\"light\"}}},\"xaxis\":{\"anchor\":\"y\",\"domain\":[0.0,1.0],\"title\":{\"text\":\"Country\"},\"tickangle\":-45},\"yaxis\":{\"anchor\":\"x\",\"domain\":[0.0,1.0],\"title\":{\"text\":\"Average Annual Growth Rate (%)\"}},\"legend\":{\"title\":{\"text\":\"Growth Classification\"},\"tracegroupgap\":0},\"title\":{\"text\":\"Economic Growth Classification by Country\"},\"height\":600},                        {\"responsive\": true}                    ).then(function(){\n",
       "                            \n",
       "var gd = document.getElementById('acc8d9aa-30f5-4627-a768-0abba1c00733');\n",
       "var x = new MutationObserver(function (mutations, observer) {{\n",
       "        var display = window.getComputedStyle(gd).display;\n",
       "        if (!display || display === 'none') {{\n",
       "            console.log([gd, 'removed!']);\n",
       "            Plotly.purge(gd);\n",
       "            observer.disconnect();\n",
       "        }}\n",
       "}});\n",
       "\n",
       "// Listen for the removal of the full notebook cells\n",
       "var notebookContainer = gd.closest('#notebook-container');\n",
       "if (notebookContainer) {{\n",
       "    x.observe(notebookContainer, {childList: true});\n",
       "}}\n",
       "\n",
       "// Listen for the clearing of the current output cell\n",
       "var outputEl = gd.closest('.output');\n",
       "if (outputEl) {{\n",
       "    x.observe(outputEl, {childList: true});\n",
       "}}\n",
       "\n",
       "                        })                };                });            </script>        </div>"
      ]
     },
     "metadata": {},
     "output_type": "display_data"
    }
   ],
   "source": [
    "# Calculate average annual growth rate for each country\n",
    "average_growth_rate = df_melted.groupby('Country')['Annual Growth Rate'].mean().reset_index()\n",
    "average_growth_rate.columns = ['Country', 'Average Annual Growth Rate']\n",
    "\n",
    "\n",
    "# Define thresholds for classification\n",
    "def classify_growth(rate):\n",
    "    if rate >= 6:\n",
    "        return 'High-Growth'\n",
    "    elif rate >= 3:\n",
    "        return 'Stable'\n",
    "    else:\n",
    "        return 'Low-Growth'\n",
    "\n",
    "# Apply classification\n",
    "average_growth_rate['Growth Classification'] = average_growth_rate['Average Annual Growth Rate'].apply(classify_growth)\n",
    "\n",
    "\n",
    "\n",
    "# Create a scatter plot to visualize growth classifications\n",
    "fig = px.scatter(\n",
    "    average_growth_rate,\n",
    "    x='Country',\n",
    "    y='Average Annual Growth Rate',\n",
    "    color='Growth Classification',\n",
    "    title='Economic Growth Classification by Country',\n",
    "    labels={'Average Annual Growth Rate': 'Average Annual Growth Rate (%)'},\n",
    "    color_discrete_map={'High-Growth': 'green', 'Stable': 'blue', 'Low-Growth': 'red'}\n",
    ")\n",
    "\n",
    "# Customize layout\n",
    "fig.update_layout(\n",
    "    xaxis_title='Country',\n",
    "    yaxis_title='Average Annual Growth Rate (%)',\n",
    "    xaxis_tickangle=-45,  # Rotate x-axis labels for readability\n",
    "    height=600,  # Adjust height for better visibility\n",
    "    \n",
    ")\n",
    "\n",
    "fig.show()"
   ]
  },
  {
   "cell_type": "markdown",
   "id": "cd173fa2-0ae3-41d8-98d9-e421acdc1d18",
   "metadata": {},
   "source": [
    "# WORLD MAP TO REPRESENT THE SAME ANALYSIS AS SHOWN ABOVE IN THE GRAPH..."
   ]
  },
  {
   "cell_type": "code",
   "execution_count": 11,
   "id": "c39b08c4-b1fe-450c-b1d1-baa986923cb0",
   "metadata": {},
   "outputs": [
    {
     "data": {
      "application/vnd.plotly.v1+json": {
       "config": {
        "plotlyServerURL": "https://plot.ly"
       },
       "data": [
        {
         "colorscale": [
          [
           0,
           "red"
          ],
          [
           1,
           "red"
          ]
         ],
         "geo": "geo",
         "hovertemplate": "Growth Classification=Low-Growth<br>Country=%{location}<extra></extra>",
         "locationmode": "country names",
         "locations": [
          "Afghanistan",
          "D.P.R. of Korea",
          "Gambia",
          "Guinea-Bissau",
          "Mozambique",
          "Sierra Leone"
         ],
         "name": "Low-Growth",
         "showlegend": true,
         "showscale": false,
         "type": "choropleth",
         "z": [
          1,
          1,
          1,
          1,
          1,
          1
         ]
        },
        {
         "colorscale": [
          [
           0,
           "blue"
          ],
          [
           1,
           "blue"
          ]
         ],
         "geo": "geo",
         "hovertemplate": "Growth Classification=Stable<br>Country=%{location}<extra></extra>",
         "locationmode": "country names",
         "locations": [
          "Albania",
          "Algeria",
          "Andorra",
          "Angola",
          "Aruba",
          "Bahamas",
          "Benin",
          "Bolivia (Plurinational State of)",
          "Burkina Faso",
          "Burundi",
          "Cabo Verde",
          "Cambodia",
          "Cameroon",
          "Canada",
          "Central African Republic",
          "Chad",
          "Colombia",
          "Comoros",
          "Côte d'Ivoire",
          "D.R. of the Congo",
          "Djibouti",
          "Eswatini",
          "Fiji",
          "Former Netherlands Antilles",
          "France",
          "French Polynesia",
          "Ghana",
          "Greece",
          "Guinea",
          "Honduras",
          "Jamaica",
          "Jordan",
          "Kenya",
          "Kiribati",
          "Liberia",
          "Libya",
          "Madagascar",
          "Malawi",
          "Mauritania",
          "Micronesia (FS of)",
          "Morocco",
          "Myanmar",
          "Namibia",
          "Nauru",
          "Nepal",
          "New Caledonia",
          "Nicaragua",
          "Niger",
          "Nigeria",
          "Pakistan",
          "Palau",
          "Papua New Guinea",
          "Puerto Rico",
          "Samoa",
          "San Marino",
          "Sao Tome and Principe",
          "Senegal",
          "Solomon Islands",
          "Somalia",
          "South Africa",
          "Sri Lanka",
          "Suriname",
          "Sweden",
          "Syrian Arab Republic",
          "Togo",
          "Tunisia",
          "Turks and Caicos Islands",
          "Tuvalu",
          "U.R. of Tanzania: Mainland",
          "Uganda",
          "United States",
          "Vanuatu",
          "Venezuela (Bolivarian Republic of)",
          "Zambia",
          "Zimbabwe"
         ],
         "name": "Stable",
         "showlegend": true,
         "showscale": false,
         "type": "choropleth",
         "z": [
          1,
          1,
          1,
          1,
          1,
          1,
          1,
          1,
          1,
          1,
          1,
          1,
          1,
          1,
          1,
          1,
          1,
          1,
          1,
          1,
          1,
          1,
          1,
          1,
          1,
          1,
          1,
          1,
          1,
          1,
          1,
          1,
          1,
          1,
          1,
          1,
          1,
          1,
          1,
          1,
          1,
          1,
          1,
          1,
          1,
          1,
          1,
          1,
          1,
          1,
          1,
          1,
          1,
          1,
          1,
          1,
          1,
          1,
          1,
          1,
          1,
          1,
          1,
          1,
          1,
          1,
          1,
          1,
          1,
          1,
          1,
          1,
          1,
          1,
          1
         ]
        },
        {
         "colorscale": [
          [
           0,
           "green"
          ],
          [
           1,
           "green"
          ]
         ],
         "geo": "geo",
         "hovertemplate": "Growth Classification=High-Growth<br>Country=%{location}<extra></extra>",
         "locationmode": "country names",
         "locations": [
          "Anguilla",
          "Antigua and Barbuda",
          "Argentina",
          "Australia",
          "Austria",
          "Bahrain",
          "Bangladesh",
          "Barbados",
          "Belgium",
          "Belize",
          "Bhutan",
          "Botswana",
          "Brazil",
          "British Virgin Islands",
          "Bulgaria",
          "Chile",
          "China",
          "China, Hong Kong SAR",
          "China, Macao SAR",
          "Congo",
          "Cook Islands",
          "Costa Rica",
          "Cuba",
          "Cyprus",
          "Czechoslovakia (Former)",
          "Denmark",
          "Dominica",
          "Dominican Republic",
          "Ecuador",
          "Egypt",
          "El Salvador",
          "Equatorial Guinea",
          "Ethiopia (Former)",
          "Finland",
          "Gabon",
          "Germany",
          "Greenland",
          "Grenada",
          "Guatemala",
          "Guyana",
          "Haiti",
          "Hungary",
          "Iceland",
          "India",
          "Indonesia",
          "Iran (Islamic Republic of)",
          "Iraq",
          "Ireland",
          "Israel",
          "Italy",
          "Japan",
          "Lao People's DR",
          "Lebanon",
          "Lesotho",
          "Malaysia",
          "Maldives",
          "Mali",
          "Malta",
          "Marshall Islands",
          "Mauritius",
          "Mexico",
          "Mongolia",
          "Montserrat",
          "Netherlands",
          "New Zealand",
          "Oman",
          "Panama",
          "Paraguay",
          "Peru",
          "Philippines",
          "Poland",
          "Portugal",
          "Republic of Korea",
          "Romania",
          "Rwanda",
          "Saint Kitts and Nevis",
          "Saint Lucia",
          "Saudi Arabia",
          "Seychelles",
          "Singapore",
          "Spain",
          "St. Vincent and the Grenadines",
          "State of Palestine",
          "Sudan (Former)",
          "Switzerland",
          "Thailand",
          "Tonga",
          "Trinidad and Tobago",
          "Türkiye",
          "USSR (Former)",
          "United Kingdom",
          "Uruguay",
          "Viet Nam",
          "Yemen Arab Republic (Former)",
          "Yemen Democratic (Former)",
          "Yugoslavia (Former)"
         ],
         "name": "High-Growth",
         "showlegend": true,
         "showscale": false,
         "type": "choropleth",
         "z": [
          1,
          1,
          1,
          1,
          1,
          1,
          1,
          1,
          1,
          1,
          1,
          1,
          1,
          1,
          1,
          1,
          1,
          1,
          1,
          1,
          1,
          1,
          1,
          1,
          1,
          1,
          1,
          1,
          1,
          1,
          1,
          1,
          1,
          1,
          1,
          1,
          1,
          1,
          1,
          1,
          1,
          1,
          1,
          1,
          1,
          1,
          1,
          1,
          1,
          1,
          1,
          1,
          1,
          1,
          1,
          1,
          1,
          1,
          1,
          1,
          1,
          1,
          1,
          1,
          1,
          1,
          1,
          1,
          1,
          1,
          1,
          1,
          1,
          1,
          1,
          1,
          1,
          1,
          1,
          1,
          1,
          1,
          1,
          1,
          1,
          1,
          1,
          1,
          1,
          1,
          1,
          1,
          1,
          1,
          1,
          1
         ]
        }
       ],
       "layout": {
        "autosize": true,
        "coloraxis": {
         "colorbar": {
          "ticktext": [
           "High-Growth",
           "Stable",
           "Low-Growth"
          ],
          "tickvals": [
           "High-Growth",
           "Stable",
           "Low-Growth"
          ],
          "title": {
           "text": "Growth Classification"
          }
         }
        },
        "geo": {
         "center": {},
         "coastlinecolor": "Black",
         "domain": {
          "x": [
           0,
           1
          ],
          "y": [
           0,
           1
          ]
         },
         "landcolor": "rgb(243, 243, 243)",
         "oceancolor": "rgb(204, 204, 255)",
         "projection": {
          "type": "natural earth"
         },
         "rivercolor": "rgb(0, 0, 255)",
         "showcoastlines": true,
         "showland": true,
         "showocean": true,
         "showrivers": true
        },
        "legend": {
         "title": {
          "text": "Growth Classification"
         },
         "tracegroupgap": 0
        },
        "margin": {
         "b": 0,
         "l": 0,
         "r": 0,
         "t": 0
        },
        "template": {
         "data": {
          "bar": [
           {
            "error_x": {
             "color": "#f2f5fa"
            },
            "error_y": {
             "color": "#f2f5fa"
            },
            "marker": {
             "line": {
              "color": "rgb(17,17,17)",
              "width": 0.5
             },
             "pattern": {
              "fillmode": "overlay",
              "size": 10,
              "solidity": 0.2
             }
            },
            "type": "bar"
           }
          ],
          "barpolar": [
           {
            "marker": {
             "line": {
              "color": "rgb(17,17,17)",
              "width": 0.5
             },
             "pattern": {
              "fillmode": "overlay",
              "size": 10,
              "solidity": 0.2
             }
            },
            "type": "barpolar"
           }
          ],
          "carpet": [
           {
            "aaxis": {
             "endlinecolor": "#A2B1C6",
             "gridcolor": "#506784",
             "linecolor": "#506784",
             "minorgridcolor": "#506784",
             "startlinecolor": "#A2B1C6"
            },
            "baxis": {
             "endlinecolor": "#A2B1C6",
             "gridcolor": "#506784",
             "linecolor": "#506784",
             "minorgridcolor": "#506784",
             "startlinecolor": "#A2B1C6"
            },
            "type": "carpet"
           }
          ],
          "choropleth": [
           {
            "colorbar": {
             "outlinewidth": 0,
             "ticks": ""
            },
            "type": "choropleth"
           }
          ],
          "contour": [
           {
            "colorbar": {
             "outlinewidth": 0,
             "ticks": ""
            },
            "colorscale": [
             [
              0,
              "#0d0887"
             ],
             [
              0.1111111111111111,
              "#46039f"
             ],
             [
              0.2222222222222222,
              "#7201a8"
             ],
             [
              0.3333333333333333,
              "#9c179e"
             ],
             [
              0.4444444444444444,
              "#bd3786"
             ],
             [
              0.5555555555555556,
              "#d8576b"
             ],
             [
              0.6666666666666666,
              "#ed7953"
             ],
             [
              0.7777777777777778,
              "#fb9f3a"
             ],
             [
              0.8888888888888888,
              "#fdca26"
             ],
             [
              1,
              "#f0f921"
             ]
            ],
            "type": "contour"
           }
          ],
          "contourcarpet": [
           {
            "colorbar": {
             "outlinewidth": 0,
             "ticks": ""
            },
            "type": "contourcarpet"
           }
          ],
          "heatmap": [
           {
            "colorbar": {
             "outlinewidth": 0,
             "ticks": ""
            },
            "colorscale": [
             [
              0,
              "#0d0887"
             ],
             [
              0.1111111111111111,
              "#46039f"
             ],
             [
              0.2222222222222222,
              "#7201a8"
             ],
             [
              0.3333333333333333,
              "#9c179e"
             ],
             [
              0.4444444444444444,
              "#bd3786"
             ],
             [
              0.5555555555555556,
              "#d8576b"
             ],
             [
              0.6666666666666666,
              "#ed7953"
             ],
             [
              0.7777777777777778,
              "#fb9f3a"
             ],
             [
              0.8888888888888888,
              "#fdca26"
             ],
             [
              1,
              "#f0f921"
             ]
            ],
            "type": "heatmap"
           }
          ],
          "heatmapgl": [
           {
            "colorbar": {
             "outlinewidth": 0,
             "ticks": ""
            },
            "colorscale": [
             [
              0,
              "#0d0887"
             ],
             [
              0.1111111111111111,
              "#46039f"
             ],
             [
              0.2222222222222222,
              "#7201a8"
             ],
             [
              0.3333333333333333,
              "#9c179e"
             ],
             [
              0.4444444444444444,
              "#bd3786"
             ],
             [
              0.5555555555555556,
              "#d8576b"
             ],
             [
              0.6666666666666666,
              "#ed7953"
             ],
             [
              0.7777777777777778,
              "#fb9f3a"
             ],
             [
              0.8888888888888888,
              "#fdca26"
             ],
             [
              1,
              "#f0f921"
             ]
            ],
            "type": "heatmapgl"
           }
          ],
          "histogram": [
           {
            "marker": {
             "pattern": {
              "fillmode": "overlay",
              "size": 10,
              "solidity": 0.2
             }
            },
            "type": "histogram"
           }
          ],
          "histogram2d": [
           {
            "colorbar": {
             "outlinewidth": 0,
             "ticks": ""
            },
            "colorscale": [
             [
              0,
              "#0d0887"
             ],
             [
              0.1111111111111111,
              "#46039f"
             ],
             [
              0.2222222222222222,
              "#7201a8"
             ],
             [
              0.3333333333333333,
              "#9c179e"
             ],
             [
              0.4444444444444444,
              "#bd3786"
             ],
             [
              0.5555555555555556,
              "#d8576b"
             ],
             [
              0.6666666666666666,
              "#ed7953"
             ],
             [
              0.7777777777777778,
              "#fb9f3a"
             ],
             [
              0.8888888888888888,
              "#fdca26"
             ],
             [
              1,
              "#f0f921"
             ]
            ],
            "type": "histogram2d"
           }
          ],
          "histogram2dcontour": [
           {
            "colorbar": {
             "outlinewidth": 0,
             "ticks": ""
            },
            "colorscale": [
             [
              0,
              "#0d0887"
             ],
             [
              0.1111111111111111,
              "#46039f"
             ],
             [
              0.2222222222222222,
              "#7201a8"
             ],
             [
              0.3333333333333333,
              "#9c179e"
             ],
             [
              0.4444444444444444,
              "#bd3786"
             ],
             [
              0.5555555555555556,
              "#d8576b"
             ],
             [
              0.6666666666666666,
              "#ed7953"
             ],
             [
              0.7777777777777778,
              "#fb9f3a"
             ],
             [
              0.8888888888888888,
              "#fdca26"
             ],
             [
              1,
              "#f0f921"
             ]
            ],
            "type": "histogram2dcontour"
           }
          ],
          "mesh3d": [
           {
            "colorbar": {
             "outlinewidth": 0,
             "ticks": ""
            },
            "type": "mesh3d"
           }
          ],
          "parcoords": [
           {
            "line": {
             "colorbar": {
              "outlinewidth": 0,
              "ticks": ""
             }
            },
            "type": "parcoords"
           }
          ],
          "pie": [
           {
            "automargin": true,
            "type": "pie"
           }
          ],
          "scatter": [
           {
            "marker": {
             "line": {
              "color": "#283442"
             }
            },
            "type": "scatter"
           }
          ],
          "scatter3d": [
           {
            "line": {
             "colorbar": {
              "outlinewidth": 0,
              "ticks": ""
             }
            },
            "marker": {
             "colorbar": {
              "outlinewidth": 0,
              "ticks": ""
             }
            },
            "type": "scatter3d"
           }
          ],
          "scattercarpet": [
           {
            "marker": {
             "colorbar": {
              "outlinewidth": 0,
              "ticks": ""
             }
            },
            "type": "scattercarpet"
           }
          ],
          "scattergeo": [
           {
            "marker": {
             "colorbar": {
              "outlinewidth": 0,
              "ticks": ""
             }
            },
            "type": "scattergeo"
           }
          ],
          "scattergl": [
           {
            "marker": {
             "line": {
              "color": "#283442"
             }
            },
            "type": "scattergl"
           }
          ],
          "scattermapbox": [
           {
            "marker": {
             "colorbar": {
              "outlinewidth": 0,
              "ticks": ""
             }
            },
            "type": "scattermapbox"
           }
          ],
          "scatterpolar": [
           {
            "marker": {
             "colorbar": {
              "outlinewidth": 0,
              "ticks": ""
             }
            },
            "type": "scatterpolar"
           }
          ],
          "scatterpolargl": [
           {
            "marker": {
             "colorbar": {
              "outlinewidth": 0,
              "ticks": ""
             }
            },
            "type": "scatterpolargl"
           }
          ],
          "scatterternary": [
           {
            "marker": {
             "colorbar": {
              "outlinewidth": 0,
              "ticks": ""
             }
            },
            "type": "scatterternary"
           }
          ],
          "surface": [
           {
            "colorbar": {
             "outlinewidth": 0,
             "ticks": ""
            },
            "colorscale": [
             [
              0,
              "#0d0887"
             ],
             [
              0.1111111111111111,
              "#46039f"
             ],
             [
              0.2222222222222222,
              "#7201a8"
             ],
             [
              0.3333333333333333,
              "#9c179e"
             ],
             [
              0.4444444444444444,
              "#bd3786"
             ],
             [
              0.5555555555555556,
              "#d8576b"
             ],
             [
              0.6666666666666666,
              "#ed7953"
             ],
             [
              0.7777777777777778,
              "#fb9f3a"
             ],
             [
              0.8888888888888888,
              "#fdca26"
             ],
             [
              1,
              "#f0f921"
             ]
            ],
            "type": "surface"
           }
          ],
          "table": [
           {
            "cells": {
             "fill": {
              "color": "#506784"
             },
             "line": {
              "color": "rgb(17,17,17)"
             }
            },
            "header": {
             "fill": {
              "color": "#2a3f5f"
             },
             "line": {
              "color": "rgb(17,17,17)"
             }
            },
            "type": "table"
           }
          ]
         },
         "layout": {
          "annotationdefaults": {
           "arrowcolor": "#f2f5fa",
           "arrowhead": 0,
           "arrowwidth": 1
          },
          "autotypenumbers": "strict",
          "coloraxis": {
           "colorbar": {
            "outlinewidth": 0,
            "ticks": ""
           }
          },
          "colorscale": {
           "diverging": [
            [
             0,
             "#8e0152"
            ],
            [
             0.1,
             "#c51b7d"
            ],
            [
             0.2,
             "#de77ae"
            ],
            [
             0.3,
             "#f1b6da"
            ],
            [
             0.4,
             "#fde0ef"
            ],
            [
             0.5,
             "#f7f7f7"
            ],
            [
             0.6,
             "#e6f5d0"
            ],
            [
             0.7,
             "#b8e186"
            ],
            [
             0.8,
             "#7fbc41"
            ],
            [
             0.9,
             "#4d9221"
            ],
            [
             1,
             "#276419"
            ]
           ],
           "sequential": [
            [
             0,
             "#0d0887"
            ],
            [
             0.1111111111111111,
             "#46039f"
            ],
            [
             0.2222222222222222,
             "#7201a8"
            ],
            [
             0.3333333333333333,
             "#9c179e"
            ],
            [
             0.4444444444444444,
             "#bd3786"
            ],
            [
             0.5555555555555556,
             "#d8576b"
            ],
            [
             0.6666666666666666,
             "#ed7953"
            ],
            [
             0.7777777777777778,
             "#fb9f3a"
            ],
            [
             0.8888888888888888,
             "#fdca26"
            ],
            [
             1,
             "#f0f921"
            ]
           ],
           "sequentialminus": [
            [
             0,
             "#0d0887"
            ],
            [
             0.1111111111111111,
             "#46039f"
            ],
            [
             0.2222222222222222,
             "#7201a8"
            ],
            [
             0.3333333333333333,
             "#9c179e"
            ],
            [
             0.4444444444444444,
             "#bd3786"
            ],
            [
             0.5555555555555556,
             "#d8576b"
            ],
            [
             0.6666666666666666,
             "#ed7953"
            ],
            [
             0.7777777777777778,
             "#fb9f3a"
            ],
            [
             0.8888888888888888,
             "#fdca26"
            ],
            [
             1,
             "#f0f921"
            ]
           ]
          },
          "colorway": [
           "#636efa",
           "#EF553B",
           "#00cc96",
           "#ab63fa",
           "#FFA15A",
           "#19d3f3",
           "#FF6692",
           "#B6E880",
           "#FF97FF",
           "#FECB52"
          ],
          "font": {
           "color": "#f2f5fa"
          },
          "geo": {
           "bgcolor": "rgb(17,17,17)",
           "lakecolor": "rgb(17,17,17)",
           "landcolor": "rgb(17,17,17)",
           "showlakes": true,
           "showland": true,
           "subunitcolor": "#506784"
          },
          "hoverlabel": {
           "align": "left"
          },
          "hovermode": "closest",
          "mapbox": {
           "style": "dark"
          },
          "paper_bgcolor": "rgb(17,17,17)",
          "plot_bgcolor": "rgb(17,17,17)",
          "polar": {
           "angularaxis": {
            "gridcolor": "#506784",
            "linecolor": "#506784",
            "ticks": ""
           },
           "bgcolor": "rgb(17,17,17)",
           "radialaxis": {
            "gridcolor": "#506784",
            "linecolor": "#506784",
            "ticks": ""
           }
          },
          "scene": {
           "xaxis": {
            "backgroundcolor": "rgb(17,17,17)",
            "gridcolor": "#506784",
            "gridwidth": 2,
            "linecolor": "#506784",
            "showbackground": true,
            "ticks": "",
            "zerolinecolor": "#C8D4E3"
           },
           "yaxis": {
            "backgroundcolor": "rgb(17,17,17)",
            "gridcolor": "#506784",
            "gridwidth": 2,
            "linecolor": "#506784",
            "showbackground": true,
            "ticks": "",
            "zerolinecolor": "#C8D4E3"
           },
           "zaxis": {
            "backgroundcolor": "rgb(17,17,17)",
            "gridcolor": "#506784",
            "gridwidth": 2,
            "linecolor": "#506784",
            "showbackground": true,
            "ticks": "",
            "zerolinecolor": "#C8D4E3"
           }
          },
          "shapedefaults": {
           "line": {
            "color": "#f2f5fa"
           }
          },
          "sliderdefaults": {
           "bgcolor": "#C8D4E3",
           "bordercolor": "rgb(17,17,17)",
           "borderwidth": 1,
           "tickwidth": 0
          },
          "ternary": {
           "aaxis": {
            "gridcolor": "#506784",
            "linecolor": "#506784",
            "ticks": ""
           },
           "baxis": {
            "gridcolor": "#506784",
            "linecolor": "#506784",
            "ticks": ""
           },
           "bgcolor": "rgb(17,17,17)",
           "caxis": {
            "gridcolor": "#506784",
            "linecolor": "#506784",
            "ticks": ""
           }
          },
          "title": {
           "x": 0.05
          },
          "updatemenudefaults": {
           "bgcolor": "#506784",
           "borderwidth": 0
          },
          "xaxis": {
           "automargin": true,
           "gridcolor": "#283442",
           "linecolor": "#506784",
           "ticks": "",
           "title": {
            "standoff": 15
           },
           "zerolinecolor": "#283442",
           "zerolinewidth": 2
          },
          "yaxis": {
           "automargin": true,
           "gridcolor": "#283442",
           "linecolor": "#506784",
           "ticks": "",
           "title": {
            "standoff": 15
           },
           "zerolinecolor": "#283442",
           "zerolinewidth": 2
          }
         }
        },
        "title": {
         "text": "Annual Average Growth Classification by Country"
        }
       }
      },
      "image/png": "[encoded data removed]",
      "text/html": [
       "<div>                            <div id=\"623a3c03-cbbd-4c08-b742-33f42a1fa0cf\" class=\"plotly-graph-div\" style=\"height:600px; width:100%;\"></div>            <script type=\"text/javascript\">                require([\"plotly\"], function(Plotly) {                    window.PLOTLYENV=window.PLOTLYENV || {};                                    if (document.getElementById(\"623a3c03-cbbd-4c08-b742-33f42a1fa0cf\")) {                    Plotly.newPlot(                        \"623a3c03-cbbd-4c08-b742-33f42a1fa0cf\",                        [{\"colorscale\":[[0.0,\"red\"],[1.0,\"red\"]],\"geo\":\"geo\",\"hovertemplate\":\"Growth Classification=Low-Growth\\u003cbr\\u003eCountry=%{location}\\u003cextra\\u003e\\u003c\\u002fextra\\u003e\",\"locationmode\":\"country names\",\"locations\":[\"Afghanistan\",\"D.P.R. of Korea\",\"Gambia\",\"Guinea-Bissau\",\"Mozambique\",\"Sierra Leone\"],\"name\":\"Low-Growth\",\"showlegend\":true,\"showscale\":false,\"z\":[1,1,1,1,1,1],\"type\":\"choropleth\"},{\"colorscale\":[[0.0,\"blue\"],[1.0,\"blue\"]],\"geo\":\"geo\",\"hovertemplate\":\"Growth Classification=Stable\\u003cbr\\u003eCountry=%{location}\\u003cextra\\u003e\\u003c\\u002fextra\\u003e\",\"locationmode\":\"country names\",\"locations\":[\"Albania\",\"Algeria\",\"Andorra\",\"Angola\",\"Aruba\",\"Bahamas\",\"Benin\",\"Bolivia (Plurinational State of)\",\"Burkina Faso\",\"Burundi\",\"Cabo Verde\",\"Cambodia\",\"Cameroon\",\"Canada\",\"Central African Republic\",\"Chad\",\"Colombia\",\"Comoros\",\"C\\u00f4te d'Ivoire\",\"D.R. of the Congo\",\"Djibouti\",\"Eswatini\",\"Fiji\",\"Former Netherlands Antilles\",\"France\",\"French Polynesia\",\"Ghana\",\"Greece\",\"Guinea\",\"Honduras\",\"Jamaica\",\"Jordan\",\"Kenya\",\"Kiribati\",\"Liberia\",\"Libya\",\"Madagascar\",\"Malawi\",\"Mauritania\",\"Micronesia (FS of)\",\"Morocco\",\"Myanmar\",\"Namibia\",\"Nauru\",\"Nepal\",\"New Caledonia\",\"Nicaragua\",\"Niger\",\"Nigeria\",\"Pakistan\",\"Palau\",\"Papua New Guinea\",\"Puerto Rico\",\"Samoa\",\"San Marino\",\"Sao Tome and Principe\",\"Senegal\",\"Solomon Islands\",\"Somalia\",\"South Africa\",\"Sri Lanka\",\"Suriname\",\"Sweden\",\"Syrian Arab Republic\",\"Togo\",\"Tunisia\",\"Turks and Caicos Islands\",\"Tuvalu\",\"U.R. of Tanzania: Mainland\",\"Uganda\",\"United States\",\"Vanuatu\",\"Venezuela (Bolivarian Republic of)\",\"Zambia\",\"Zimbabwe\"],\"name\":\"Stable\",\"showlegend\":true,\"showscale\":false,\"z\":[1,1,1,1,1,1,1,1,1,1,1,1,1,1,1,1,1,1,1,1,1,1,1,1,1,1,1,1,1,1,1,1,1,1,1,1,1,1,1,1,1,1,1,1,1,1,1,1,1,1,1,1,1,1,1,1,1,1,1,1,1,1,1,1,1,1,1,1,1,1,1,1,1,1,1],\"type\":\"choropleth\"},{\"colorscale\":[[0.0,\"green\"],[1.0,\"green\"]],\"geo\":\"geo\",\"hovertemplate\":\"Growth Classification=High-Growth\\u003cbr\\u003eCountry=%{location}\\u003cextra\\u003e\\u003c\\u002fextra\\u003e\",\"locationmode\":\"country names\",\"locations\":[\"Anguilla\",\"Antigua and Barbuda\",\"Argentina\",\"Australia\",\"Austria\",\"Bahrain\",\"Bangladesh\",\"Barbados\",\"Belgium\",\"Belize\",\"Bhutan\",\"Botswana\",\"Brazil\",\"British Virgin Islands\",\"Bulgaria\",\"Chile\",\"China\",\"China, Hong Kong SAR\",\"China, Macao SAR\",\"Congo\",\"Cook Islands\",\"Costa Rica\",\"Cuba\",\"Cyprus\",\"Czechoslovakia (Former)\",\"Denmark\",\"Dominica\",\"Dominican Republic\",\"Ecuador\",\"Egypt\",\"El Salvador\",\"Equatorial Guinea\",\"Ethiopia (Former)\",\"Finland\",\"Gabon\",\"Germany\",\"Greenland\",\"Grenada\",\"Guatemala\",\"Guyana\",\"Haiti\",\"Hungary\",\"Iceland\",\"India\",\"Indonesia\",\"Iran (Islamic Republic of)\",\"Iraq\",\"Ireland\",\"Israel\",\"Italy\",\"Japan\",\"Lao People's DR\",\"Lebanon\",\"Lesotho\",\"Malaysia\",\"Maldives\",\"Mali\",\"Malta\",\"Marshall Islands\",\"Mauritius\",\"Mexico\",\"Mongolia\",\"Montserrat\",\"Netherlands\",\"New Zealand\",\"Oman\",\"Panama\",\"Paraguay\",\"Peru\",\"Philippines\",\"Poland\",\"Portugal\",\"Republic of Korea\",\"Romania\",\"Rwanda\",\"Saint Kitts and Nevis\",\"Saint Lucia\",\"Saudi Arabia\",\"Seychelles\",\"Singapore\",\"Spain\",\"St. Vincent and the Grenadines\",\"State of Palestine\",\"Sudan (Former)\",\"Switzerland\",\"Thailand\",\"Tonga\",\"Trinidad and Tobago\",\"T\\u00fcrkiye\",\"USSR (Former)\",\"United Kingdom\",\"Uruguay\",\"Viet Nam\",\"Yemen Arab Republic (Former)\",\"Yemen Democratic (Former)\",\"Yugoslavia (Former)\"],\"name\":\"High-Growth\",\"showlegend\":true,\"showscale\":false,\"z\":[1,1,1,1,1,1,1,1,1,1,1,1,1,1,1,1,1,1,1,1,1,1,1,1,1,1,1,1,1,1,1,1,1,1,1,1,1,1,1,1,1,1,1,1,1,1,1,1,1,1,1,1,1,1,1,1,1,1,1,1,1,1,1,1,1,1,1,1,1,1,1,1,1,1,1,1,1,1,1,1,1,1,1,1,1,1,1,1,1,1,1,1,1,1,1,1],\"type\":\"choropleth\"}],                        {\"template\":{\"data\":{\"barpolar\":[{\"marker\":{\"line\":{\"color\":\"rgb(17,17,17)\",\"width\":0.5},\"pattern\":{\"fillmode\":\"overlay\",\"size\":10,\"solidity\":0.2}},\"type\":\"barpolar\"}],\"bar\":[{\"error_x\":{\"color\":\"#f2f5fa\"},\"error_y\":{\"color\":\"#f2f5fa\"},\"marker\":{\"line\":{\"color\":\"rgb(17,17,17)\",\"width\":0.5},\"pattern\":{\"fillmode\":\"overlay\",\"size\":10,\"solidity\":0.2}},\"type\":\"bar\"}],\"carpet\":[{\"aaxis\":{\"endlinecolor\":\"#A2B1C6\",\"gridcolor\":\"#506784\",\"linecolor\":\"#506784\",\"minorgridcolor\":\"#506784\",\"startlinecolor\":\"#A2B1C6\"},\"baxis\":{\"endlinecolor\":\"#A2B1C6\",\"gridcolor\":\"#506784\",\"linecolor\":\"#506784\",\"minorgridcolor\":\"#506784\",\"startlinecolor\":\"#A2B1C6\"},\"type\":\"carpet\"}],\"choropleth\":[{\"colorbar\":{\"outlinewidth\":0,\"ticks\":\"\"},\"type\":\"choropleth\"}],\"contourcarpet\":[{\"colorbar\":{\"outlinewidth\":0,\"ticks\":\"\"},\"type\":\"contourcarpet\"}],\"contour\":[{\"colorbar\":{\"outlinewidth\":0,\"ticks\":\"\"},\"colorscale\":[[0.0,\"#0d0887\"],[0.1111111111111111,\"#46039f\"],[0.2222222222222222,\"#7201a8\"],[0.3333333333333333,\"#9c179e\"],[0.4444444444444444,\"#bd3786\"],[0.5555555555555556,\"#d8576b\"],[0.6666666666666666,\"#ed7953\"],[0.7777777777777778,\"#fb9f3a\"],[0.8888888888888888,\"#fdca26\"],[1.0,\"#f0f921\"]],\"type\":\"contour\"}],\"heatmapgl\":[{\"colorbar\":{\"outlinewidth\":0,\"ticks\":\"\"},\"colorscale\":[[0.0,\"#0d0887\"],[0.1111111111111111,\"#46039f\"],[0.2222222222222222,\"#7201a8\"],[0.3333333333333333,\"#9c179e\"],[0.4444444444444444,\"#bd3786\"],[0.5555555555555556,\"#d8576b\"],[0.6666666666666666,\"#ed7953\"],[0.7777777777777778,\"#fb9f3a\"],[0.8888888888888888,\"#fdca26\"],[1.0,\"#f0f921\"]],\"type\":\"heatmapgl\"}],\"heatmap\":[{\"colorbar\":{\"outlinewidth\":0,\"ticks\":\"\"},\"colorscale\":[[0.0,\"#0d0887\"],[0.1111111111111111,\"#46039f\"],[0.2222222222222222,\"#7201a8\"],[0.3333333333333333,\"#9c179e\"],[0.4444444444444444,\"#bd3786\"],[0.5555555555555556,\"#d8576b\"],[0.6666666666666666,\"#ed7953\"],[0.7777777777777778,\"#fb9f3a\"],[0.8888888888888888,\"#fdca26\"],[1.0,\"#f0f921\"]],\"type\":\"heatmap\"}],\"histogram2dcontour\":[{\"colorbar\":{\"outlinewidth\":0,\"ticks\":\"\"},\"colorscale\":[[0.0,\"#0d0887\"],[0.1111111111111111,\"#46039f\"],[0.2222222222222222,\"#7201a8\"],[0.3333333333333333,\"#9c179e\"],[0.4444444444444444,\"#bd3786\"],[0.5555555555555556,\"#d8576b\"],[0.6666666666666666,\"#ed7953\"],[0.7777777777777778,\"#fb9f3a\"],[0.8888888888888888,\"#fdca26\"],[1.0,\"#f0f921\"]],\"type\":\"histogram2dcontour\"}],\"histogram2d\":[{\"colorbar\":{\"outlinewidth\":0,\"ticks\":\"\"},\"colorscale\":[[0.0,\"#0d0887\"],[0.1111111111111111,\"#46039f\"],[0.2222222222222222,\"#7201a8\"],[0.3333333333333333,\"#9c179e\"],[0.4444444444444444,\"#bd3786\"],[0.5555555555555556,\"#d8576b\"],[0.6666666666666666,\"#ed7953\"],[0.7777777777777778,\"#fb9f3a\"],[0.8888888888888888,\"#fdca26\"],[1.0,\"#f0f921\"]],\"type\":\"histogram2d\"}],\"histogram\":[{\"marker\":{\"pattern\":{\"fillmode\":\"overlay\",\"size\":10,\"solidity\":0.2}},\"type\":\"histogram\"}],\"mesh3d\":[{\"colorbar\":{\"outlinewidth\":0,\"ticks\":\"\"},\"type\":\"mesh3d\"}],\"parcoords\":[{\"line\":{\"colorbar\":{\"outlinewidth\":0,\"ticks\":\"\"}},\"type\":\"parcoords\"}],\"pie\":[{\"automargin\":true,\"type\":\"pie\"}],\"scatter3d\":[{\"line\":{\"colorbar\":{\"outlinewidth\":0,\"ticks\":\"\"}},\"marker\":{\"colorbar\":{\"outlinewidth\":0,\"ticks\":\"\"}},\"type\":\"scatter3d\"}],\"scattercarpet\":[{\"marker\":{\"colorbar\":{\"outlinewidth\":0,\"ticks\":\"\"}},\"type\":\"scattercarpet\"}],\"scattergeo\":[{\"marker\":{\"colorbar\":{\"outlinewidth\":0,\"ticks\":\"\"}},\"type\":\"scattergeo\"}],\"scattergl\":[{\"marker\":{\"line\":{\"color\":\"#283442\"}},\"type\":\"scattergl\"}],\"scattermapbox\":[{\"marker\":{\"colorbar\":{\"outlinewidth\":0,\"ticks\":\"\"}},\"type\":\"scattermapbox\"}],\"scatterpolargl\":[{\"marker\":{\"colorbar\":{\"outlinewidth\":0,\"ticks\":\"\"}},\"type\":\"scatterpolargl\"}],\"scatterpolar\":[{\"marker\":{\"colorbar\":{\"outlinewidth\":0,\"ticks\":\"\"}},\"type\":\"scatterpolar\"}],\"scatter\":[{\"marker\":{\"line\":{\"color\":\"#283442\"}},\"type\":\"scatter\"}],\"scatterternary\":[{\"marker\":{\"colorbar\":{\"outlinewidth\":0,\"ticks\":\"\"}},\"type\":\"scatterternary\"}],\"surface\":[{\"colorbar\":{\"outlinewidth\":0,\"ticks\":\"\"},\"colorscale\":[[0.0,\"#0d0887\"],[0.1111111111111111,\"#46039f\"],[0.2222222222222222,\"#7201a8\"],[0.3333333333333333,\"#9c179e\"],[0.4444444444444444,\"#bd3786\"],[0.5555555555555556,\"#d8576b\"],[0.6666666666666666,\"#ed7953\"],[0.7777777777777778,\"#fb9f3a\"],[0.8888888888888888,\"#fdca26\"],[1.0,\"#f0f921\"]],\"type\":\"surface\"}],\"table\":[{\"cells\":{\"fill\":{\"color\":\"#506784\"},\"line\":{\"color\":\"rgb(17,17,17)\"}},\"header\":{\"fill\":{\"color\":\"#2a3f5f\"},\"line\":{\"color\":\"rgb(17,17,17)\"}},\"type\":\"table\"}]},\"layout\":{\"annotationdefaults\":{\"arrowcolor\":\"#f2f5fa\",\"arrowhead\":0,\"arrowwidth\":1},\"autotypenumbers\":\"strict\",\"coloraxis\":{\"colorbar\":{\"outlinewidth\":0,\"ticks\":\"\"}},\"colorscale\":{\"diverging\":[[0,\"#8e0152\"],[0.1,\"#c51b7d\"],[0.2,\"#de77ae\"],[0.3,\"#f1b6da\"],[0.4,\"#fde0ef\"],[0.5,\"#f7f7f7\"],[0.6,\"#e6f5d0\"],[0.7,\"#b8e186\"],[0.8,\"#7fbc41\"],[0.9,\"#4d9221\"],[1,\"#276419\"]],\"sequential\":[[0.0,\"#0d0887\"],[0.1111111111111111,\"#46039f\"],[0.2222222222222222,\"#7201a8\"],[0.3333333333333333,\"#9c179e\"],[0.4444444444444444,\"#bd3786\"],[0.5555555555555556,\"#d8576b\"],[0.6666666666666666,\"#ed7953\"],[0.7777777777777778,\"#fb9f3a\"],[0.8888888888888888,\"#fdca26\"],[1.0,\"#f0f921\"]],\"sequentialminus\":[[0.0,\"#0d0887\"],[0.1111111111111111,\"#46039f\"],[0.2222222222222222,\"#7201a8\"],[0.3333333333333333,\"#9c179e\"],[0.4444444444444444,\"#bd3786\"],[0.5555555555555556,\"#d8576b\"],[0.6666666666666666,\"#ed7953\"],[0.7777777777777778,\"#fb9f3a\"],[0.8888888888888888,\"#fdca26\"],[1.0,\"#f0f921\"]]},\"colorway\":[\"#636efa\",\"#EF553B\",\"#00cc96\",\"#ab63fa\",\"#FFA15A\",\"#19d3f3\",\"#FF6692\",\"#B6E880\",\"#FF97FF\",\"#FECB52\"],\"font\":{\"color\":\"#f2f5fa\"},\"geo\":{\"bgcolor\":\"rgb(17,17,17)\",\"lakecolor\":\"rgb(17,17,17)\",\"landcolor\":\"rgb(17,17,17)\",\"showlakes\":true,\"showland\":true,\"subunitcolor\":\"#506784\"},\"hoverlabel\":{\"align\":\"left\"},\"hovermode\":\"closest\",\"mapbox\":{\"style\":\"dark\"},\"paper_bgcolor\":\"rgb(17,17,17)\",\"plot_bgcolor\":\"rgb(17,17,17)\",\"polar\":{\"angularaxis\":{\"gridcolor\":\"#506784\",\"linecolor\":\"#506784\",\"ticks\":\"\"},\"bgcolor\":\"rgb(17,17,17)\",\"radialaxis\":{\"gridcolor\":\"#506784\",\"linecolor\":\"#506784\",\"ticks\":\"\"}},\"scene\":{\"xaxis\":{\"backgroundcolor\":\"rgb(17,17,17)\",\"gridcolor\":\"#506784\",\"gridwidth\":2,\"linecolor\":\"#506784\",\"showbackground\":true,\"ticks\":\"\",\"zerolinecolor\":\"#C8D4E3\"},\"yaxis\":{\"backgroundcolor\":\"rgb(17,17,17)\",\"gridcolor\":\"#506784\",\"gridwidth\":2,\"linecolor\":\"#506784\",\"showbackground\":true,\"ticks\":\"\",\"zerolinecolor\":\"#C8D4E3\"},\"zaxis\":{\"backgroundcolor\":\"rgb(17,17,17)\",\"gridcolor\":\"#506784\",\"gridwidth\":2,\"linecolor\":\"#506784\",\"showbackground\":true,\"ticks\":\"\",\"zerolinecolor\":\"#C8D4E3\"}},\"shapedefaults\":{\"line\":{\"color\":\"#f2f5fa\"}},\"sliderdefaults\":{\"bgcolor\":\"#C8D4E3\",\"bordercolor\":\"rgb(17,17,17)\",\"borderwidth\":1,\"tickwidth\":0},\"ternary\":{\"aaxis\":{\"gridcolor\":\"#506784\",\"linecolor\":\"#506784\",\"ticks\":\"\"},\"baxis\":{\"gridcolor\":\"#506784\",\"linecolor\":\"#506784\",\"ticks\":\"\"},\"bgcolor\":\"rgb(17,17,17)\",\"caxis\":{\"gridcolor\":\"#506784\",\"linecolor\":\"#506784\",\"ticks\":\"\"}},\"title\":{\"x\":0.05},\"updatemenudefaults\":{\"bgcolor\":\"#506784\",\"borderwidth\":0},\"xaxis\":{\"automargin\":true,\"gridcolor\":\"#283442\",\"linecolor\":\"#506784\",\"ticks\":\"\",\"title\":{\"standoff\":15},\"zerolinecolor\":\"#283442\",\"zerolinewidth\":2},\"yaxis\":{\"automargin\":true,\"gridcolor\":\"#283442\",\"linecolor\":\"#506784\",\"ticks\":\"\",\"title\":{\"standoff\":15},\"zerolinecolor\":\"#283442\",\"zerolinewidth\":2}}},\"geo\":{\"domain\":{\"x\":[0.0,1.0],\"y\":[0.0,1.0]},\"center\":{},\"projection\":{\"type\":\"natural earth\"},\"showcoastlines\":true,\"coastlinecolor\":\"Black\",\"showland\":true,\"landcolor\":\"rgb(243, 243, 243)\",\"showocean\":true,\"oceancolor\":\"rgb(204, 204, 255)\",\"showrivers\":true,\"rivercolor\":\"rgb(0, 0, 255)\"},\"legend\":{\"title\":{\"text\":\"Growth Classification\"},\"tracegroupgap\":0},\"title\":{\"text\":\"Annual Average Growth Classification by Country\"},\"coloraxis\":{\"colorbar\":{\"title\":{\"text\":\"Growth Classification\"},\"tickvals\":[\"High-Growth\",\"Stable\",\"Low-Growth\"],\"ticktext\":[\"High-Growth\",\"Stable\",\"Low-Growth\"]}},\"margin\":{\"r\":0,\"t\":0,\"l\":0,\"b\":0},\"height\":600},                        {\"responsive\": true}                    ).then(function(){\n",
       "                            \n",
       "var gd = document.getElementById('623a3c03-cbbd-4c08-b742-33f42a1fa0cf');\n",
       "var x = new MutationObserver(function (mutations, observer) {{\n",
       "        var display = window.getComputedStyle(gd).display;\n",
       "        if (!display || display === 'none') {{\n",
       "            console.log([gd, 'removed!']);\n",
       "            Plotly.purge(gd);\n",
       "            observer.disconnect();\n",
       "        }}\n",
       "}});\n",
       "\n",
       "// Listen for the removal of the full notebook cells\n",
       "var notebookContainer = gd.closest('#notebook-container');\n",
       "if (notebookContainer) {{\n",
       "    x.observe(notebookContainer, {childList: true});\n",
       "}}\n",
       "\n",
       "// Listen for the clearing of the current output cell\n",
       "var outputEl = gd.closest('.output');\n",
       "if (outputEl) {{\n",
       "    x.observe(outputEl, {childList: true});\n",
       "}}\n",
       "\n",
       "                        })                };                });            </script>        </div>"
      ]
     },
     "metadata": {},
     "output_type": "display_data"
    }
   ],
   "source": [
    "\n",
    "# Create the interactive choropleth map\n",
    "fig = px.choropleth(\n",
    "    average_growth_rate,\n",
    "    locations='Country',\n",
    "    locationmode='country names',\n",
    "    color='Growth Classification',\n",
    "    color_discrete_map={\n",
    "        'High-Growth': 'green',\n",
    "        'Stable': 'blue',\n",
    "        'Low-Growth': 'red'\n",
    "    },\n",
    "    title='Annual Average Growth Classification by Country',\n",
    "    labels={'Growth Classification': 'Growth Classification'},\n",
    "    template='plotly_dark'\n",
    ")\n",
    "\n",
    "fig.update_geos(\n",
    "    projection_type='natural earth',  # Choose a projection type\n",
    "    showcoastlines=True,\n",
    "    coastlinecolor='Black',\n",
    "    showland=True,\n",
    "    landcolor='rgb(243, 243, 243)',\n",
    "    showocean=True,\n",
    "    oceancolor='rgb(204, 204, 255)',\n",
    "    showrivers=True,\n",
    "    rivercolor='rgb(0, 0, 255)'\n",
    ")\n",
    "\n",
    "fig.update_layout(\n",
    "    coloraxis_colorbar=dict(\n",
    "        title='Growth Classification',\n",
    "        tickvals=['High-Growth', 'Stable', 'Low-Growth'],\n",
    "        ticktext=['High-Growth', 'Stable', 'Low-Growth']\n",
    "    ),\n",
    "    height=600,  # Adjust the height for better visibility\n",
    "    margin={\"r\":0,\"t\":0,\"l\":0,\"b\":0}  # Remove margins if needed\n",
    ")\n",
    "\n",
    "fig.show()"
   ]
  },
  {
   "cell_type": "markdown",
   "id": "36b8c549-e215-4d52-b75d-84bdcbd282be",
   "metadata": {},
   "source": [
    "# THANK YOU ......... *I HOPE YOU LIKED IT*"
   ]
  }
 ],
 "metadata": {
  "kernelspec": {
   "display_name": "Python 3 (ipykernel)",
   "language": "python",
   "name": "python3"
  },
  "language_info": {
   "codemirror_mode": {
    "name": "ipython",
    "version": 3
   },
   "file_extension": ".py",
   "mimetype": "text/x-python",
   "name": "python",
   "nbconvert_exporter": "python",
   "pygments_lexer": "ipython3",
   "version": "3.12.2"
  }
 },
 "nbformat": 4,
 "nbformat_minor": 5
}
